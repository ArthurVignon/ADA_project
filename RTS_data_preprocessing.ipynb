{
 "cells": [
  {
   "cell_type": "markdown",
   "metadata": {},
   "source": [
    "# RTS Data Preprocessing"
   ]
  },
  {
   "cell_type": "markdown",
   "metadata": {},
   "source": []
  },
  {
   "cell_type": "code",
   "execution_count": 1,
   "metadata": {},
   "outputs": [],
   "source": [
    "import json\n",
    "import tokenize\n",
    "import numpy as np\n",
    "import pandas as pd\n",
    "import os\n",
    "\n",
    "\n",
    "BASE_PATH ='data/RTS_dataset_per_year/{}/{}'\n",
    "parties = ['UDC', 'PDC', 'PS', 'PLR', 'PES', 'PVL']\n",
    "years = np.arange(2012, 2020)"
   ]
  },
  {
   "cell_type": "code",
   "execution_count": 2,
   "metadata": {},
   "outputs": [],
   "source": [
    "#Next, we want to go year by year and find interviews that are with interviews of political parties\n",
    "    \n",
    "def read_in(party):\n",
    "    party_dict =[]\n",
    "    \n",
    "    for year in years:\n",
    "        if os.path.exists(BASE_PATH.format(year, party)):\n",
    "            files = [f for f in os.listdir(BASE_PATH.format(year, party))]\n",
    "            for file in files:\n",
    "                with open(BASE_PATH.format(year, party)+\"/{}\".format(file), 'r') as fp:\n",
    "                    dicts = json.load(fp)\n",
    "                    for entry in dicts['data']:\n",
    "                        if 'genres' in entry:\n",
    "                            if 'Interview' in entry['genres']:\n",
    "                                party_dict.append(dicts['data'])\n",
    "    return party_dict\n",
    "\n",
    "#For each party, convert the json into dictionaries\n",
    "\n",
    "UDC_dictionary = read_in('UDC')\n",
    "PDC_dictionary = read_in('PDC')\n",
    "PS_dictionary = read_in('PS')\n",
    "PLR_dictionary = read_in('PLR')\n",
    "PES_dictionary = read_in('PES')\n",
    "PVL_dictionary = read_in('PVL')"
   ]
  },
  {
   "cell_type": "markdown",
   "metadata": {},
   "source": [
    "Above, the json created by querying the RTS archive API for each of the party abbreviations was created into lists of dictionaries. However, it was noted that RTS does not often use the abbreviations for the PES and PVL parties and prefers to use the Verts and Verts libéreaux. Another query was made using the key word \"verts\" to find more broadcasts for these parties. Below these broadcasts were sorted into either verts or verts libéraux"
   ]
  },
  {
   "cell_type": "code",
   "execution_count": 3,
   "metadata": {},
   "outputs": [],
   "source": [
    "#Below looks and sees if libéraux is in the title of an entry, if it is then the entry is sorted to the PVL dictionary\n",
    "\n",
    "for year in years:\n",
    "    if os.path.exists(BASE_PATH.format(year, 'verts')):\n",
    "            files = [f for f in os.listdir(BASE_PATH.format(year, 'verts'))]\n",
    "            for file in files:\n",
    "                with open(BASE_PATH.format(year, 'verts')+\"/{}\".format(file), 'r') as fp:\n",
    "                    dicts = json.load(fp)\n",
    "                    for entry in dicts['data']:\n",
    "                        if ('title' and 'genres') in entry:\n",
    "                            if 'Interview' in entry['genres']:\n",
    "                                if 'libéraux' in entry['title']:\n",
    "                                    PVL_dictionary.append(entry)\n",
    "                                else:\n",
    "                                    PES_dictionary.append(entry)\n"
   ]
  },
  {
   "cell_type": "markdown",
   "metadata": {},
   "source": [
    "After reading in the lists of dictionaries, each dictionary is converted to a pandas dataframe. During on our analysis we will look at either the \"speechToTexts\" or \"summary\" collumns in order to do some NLP to determine what the key issues each party were discussing and potentially their sentiment about these topics."
   ]
  },
  {
   "cell_type": "code",
   "execution_count": 4,
   "metadata": {},
   "outputs": [],
   "source": [
    "UDC_pandas = pd.DataFrame(UDC_dictionary)\n",
    "PDC_pandas = pd.DataFrame(PDC_dictionary)\n",
    "PS_pandas = pd.DataFrame(PS_dictionary)\n",
    "PLR_pandas = pd.DataFrame(PLR_dictionary)\n",
    "PES_pandas = pd.DataFrame(PES_dictionary)\n",
    "PVL_pandas = pd.DataFrame(PVL_dictionary)"
   ]
  },
  {
   "cell_type": "code",
   "execution_count": null,
   "metadata": {},
   "outputs": [],
   "source": []
  }
 ],
 "metadata": {
  "kernelspec": {
   "display_name": "Python [conda env:ada] *",
   "language": "python",
   "name": "conda-env-ada-py"
  },
  "language_info": {
   "codemirror_mode": {
    "name": "ipython",
    "version": 3
   },
   "file_extension": ".py",
   "mimetype": "text/x-python",
   "name": "python",
   "nbconvert_exporter": "python",
   "pygments_lexer": "ipython3",
   "version": "3.7.4"
  }
 },
 "nbformat": 4,
 "nbformat_minor": 2
}
