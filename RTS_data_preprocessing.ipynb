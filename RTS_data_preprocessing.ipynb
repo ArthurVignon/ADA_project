{
 "cells": [
  {
   "cell_type": "markdown",
   "metadata": {},
   "source": [
    "# RTS Data Processing\n"
   ]
  },
  {
   "cell_type": "markdown",
   "metadata": {},
   "source": [
    "In this document, the RTS data will be analyzed to help create a larger picture of the communication between the swiss political parties and the public. First, the RTS archives were quieried from 2010 to 2019 with several different quereies shown below. These queries were then combined and refined to see broadcasts where swiss political parties were discussed."
   ]
  },
  {
   "cell_type": "code",
   "execution_count": 1,
   "metadata": {},
   "outputs": [],
   "source": [
    "import json\n",
    "import tokenize\n",
    "import numpy as np\n",
    "import pandas as pd\n",
    "import os\n",
    "import re\n",
    "from itertools import islice\n",
    "\n",
    "\n",
    "BASE_PATH ='data/RTS_dataset_per_year/{}/{}'\n",
    "parties = r\"\\bUDC\\b|\\bVerts\\b|\\bPS\\b|\\bPDC\\b|\\bPLR\\b|\\bPES\\b|Vert lib|Vert'lib|Verte lib|Vert-lib|Verts lib|Verts-lib|Verte-lib|\\bVerte\\b|\\bVert\\b|\\bPVL\\b|\\bPSS\\b|\\bSocialiste\\b|\\blibéral radical\\b|\\blibérale radical|\\blibéral-radical\\b|\\blibérale-radical|démocrate chrétien|union démocratique du centre\"\n",
    "thematicGeographicals = r'Geneve|Suisse|Valais|Berne|Zurich|Vaud|Fribourg|Neuchatel|Sion|canton|Bale|Vevey|Jura|Montreux|Bienne|GRUYÈRE|Lucerne|TESSIN|Winterthour|Lugano'\n",
    "thematicThemes = r\"DÉBAT|POLITIQUE|LÉGISLATIF|élection|exécutif|conseiller|initiative populaire|votation|référendum|PRÉSIDENT|Vote|CANDIDAT|CAMPAGNE\"\n",
    "YEARS = np.arange(2010, 2020)"
   ]
  },
  {
   "cell_type": "code",
   "execution_count": 2,
   "metadata": {},
   "outputs": [],
   "source": [
    "#Next, we want to go year by year and find interviews that are with interviews of political parties\n",
    "party_dict =[]\n",
    "contributor_dict = []\n",
    "\n",
    "\n",
    "def read_in(party):   \n",
    "    \n",
    "    for year in YEARS:\n",
    "        if os.path.exists(BASE_PATH.format(year, party)):\n",
    "            files = [f for f in os.listdir(BASE_PATH.format(year, party))]\n",
    "            for file in files:\n",
    "                with open(BASE_PATH.format(year, party)+\"/{}\".format(file), 'r', encoding='utf-8') as fp:\n",
    "                    dicts = json.load(fp)\n",
    "                    for entry in dicts['data']:\n",
    "                        \n",
    "                        #Here we will build a dictionary for looking at the contributors of RTS\n",
    "                        if 'contributors' in entry and 'publicationDate' in entry:\n",
    "                            contributor_dict.append(entry)\n",
    "                        \n",
    "                        #Here we are filtering through the json to build documents for the topic extraction\n",
    "                        if {'speechToTexts', 'subTitles', 'summary'}.intersection(entry) and 'publicationDate' in entry:\n",
    "                            if 'genres' in entry:\n",
    "                                if 'Interview' in entry['genres']:\n",
    "                                    if 'thematicGeographicals' in entry:\n",
    "                                        for place in entry['thematicGeographicals']:\n",
    "                                            if re.search(thematicGeographicals,place, re.I):\n",
    "                                                party_dict.append(entry)\n",
    "                                    else:\n",
    "                                        party_dict.append(entry)\n",
    "                            if 'thematicThemes' in entry and 'thematicGeographicals' in entry:\n",
    "                                for place in entry['thematicGeographicals']:\n",
    "                                    if re.search(thematicGeographicals, place, re.I):\n",
    "                                        for theme in entry['thematicThemes']:\n",
    "                                            if re.search(thematicThemes, theme, re.I):\n",
    "                                                party_dict.append(entry)\n",
    "                            if 'title' in entry:\n",
    "                                if re.search(parties, entry['title'], re.I):\n",
    "                                    party_dict.append(entry)\n",
    "                            if 'thematicPersons' in entry: \n",
    "                                for person in entry['thematicPersons']:\n",
    "                                    if re.search(parties, person, re.I):\n",
    "                                        party_dict.append(entry)\n",
    "                            if 'chapters' in entry:\n",
    "                                for chapter in entry['chapters']:\n",
    "                                    if 'excerpt' in chapter:\n",
    "                                        if re.search(parties, chapter['excerpt'], re.I):\n",
    "                                            party_dict.append(chapter)\n",
    "                                        if 'thematicThemes' in chapter and 'thematicGeographicals' in chapter:\n",
    "                                            for place in chapter['thematicGeographicals']:\n",
    "                                                type(place)\n",
    "                                                if re.search(thematicGeographicals, place, re.I):\n",
    "                                                    for theme in chapter['thematicThemes']:\n",
    "                                                        if re.search(thematicThemes, theme, re.I):\n",
    "                                                            party_dict.append(chapter)\n",
    "\n",
    "    return \n",
    "\n",
    "#For each party, convert the json into dictionaries\n",
    "\n",
    "read_in('UDC')\n",
    "read_in('PDC')\n",
    "read_in('PS')\n",
    "read_in('PLR')\n",
    "read_in('PES')\n",
    "read_in('PVL')\n",
    "read_in('Verts')\n",
    "read_in('Politque')"
   ]
  },
  {
   "cell_type": "markdown",
   "metadata": {},
   "source": [
    "The above function reads in the RTS archive data, taking into account the location, title, theme and genre of the broadcast to build a dictionary consisting of the metadata of these broadcasts and in particular the textual data consisting of the speechToText, subTitles, excerpt or summary of the data."
   ]
  },
  {
   "cell_type": "code",
   "execution_count": 3,
   "metadata": {},
   "outputs": [],
   "source": [
    "all_party_topic = pd.DataFrame.from_dict(party_dict)\n",
    "all_party_contributor = pd.DataFrame.from_dict(contributor_dict)"
   ]
  },
  {
   "cell_type": "markdown",
   "metadata": {},
   "source": [
    "This next part is to gather all textual data into a single 'text' column"
   ]
  },
  {
   "cell_type": "code",
   "execution_count": 9,
   "metadata": {},
   "outputs": [],
   "source": [
    "#Converting all possible sources of text to one column\n",
    "year = all_party_topic[\"publicationDate\"].str[:4]\n",
    "all_party_topic['year'] = year\n",
    "all_party_topic['text'] = all_party_topic.apply(lambda x: x['subTitles'] if x['speechToTexts'] == None else x['speechToTexts'], axis=1)\n",
    "all_party_topic['text'] = all_party_topic.apply(lambda x: x['excerpt'] if x['text'] == None else x['text'], axis=1)\n",
    "all_party_topic['text'] = all_party_topic.apply(lambda x: x['summary'] if x['text'] == None else x['text'], axis=1)"
   ]
  },
  {
   "cell_type": "code",
   "execution_count": 10,
   "metadata": {},
   "outputs": [],
   "source": [
    "year = all_party_contributor[\"publicationDate\"].str[:4]\n",
    "all_party_contributor['year'] = year"
   ]
  },
  {
   "cell_type": "code",
   "execution_count": 11,
   "metadata": {},
   "outputs": [
    {
     "name": "stdout",
     "output_type": "stream",
     "text": [
      "31306\n",
      "17995\n",
      "35129\n",
      "9112\n"
     ]
    }
   ],
   "source": [
    "#Drop any duplicates\n",
    "print(len(all_party_contributor))\n",
    "all_party_contributor= all_party_contributor.drop_duplicates('internalArchiveId')\n",
    "print(len(all_party_contributor))\n",
    "\n",
    "print(len(all_party_topic))\n",
    "all_party_topic= all_party_topic.drop_duplicates('internalArchiveId')\n",
    "print(len(all_party_topic))"
   ]
  },
  {
   "cell_type": "code",
   "execution_count": 12,
   "metadata": {},
   "outputs": [
    {
     "data": {
      "text/plain": [
       "3201"
      ]
     },
     "execution_count": 12,
     "metadata": {},
     "output_type": "execute_result"
    }
   ],
   "source": [
    "all_party_topic = all_party_topic.dropna(subset=['text', 'publicationDate'])\n",
    "len(all_party_topic)"
   ]
  },
  {
   "cell_type": "markdown",
   "metadata": {},
   "source": [
    "Below we will be looking at the number of times a representative from each party is a contributor on RTS. This will help us to understand the information each party is able to convey to the general public."
   ]
  },
  {
   "cell_type": "code",
   "execution_count": null,
   "metadata": {},
   "outputs": [],
   "source": [
    "all_party_contributor = all_party_contributor[['contributors', 'publicationDate', 'year', 'internalArchiveId']]\n"
   ]
  },
  {
   "cell_type": "code",
   "execution_count": null,
   "metadata": {},
   "outputs": [],
   "source": [
    "all_party_contributor = all_party_contributor[['contributors', 'publicationDate', 'year', 'internalArchiveId']]\n",
    "contributors = all_party_contributor.explode('contributors')\n",
    "contributors['contributor_role'] = contributors.apply(lambda x: str(x['contributors']['role']) if 'role' in x['contributors'] else x['contributors'] == None, axis=1)\n"
   ]
  },
  {
   "cell_type": "code",
   "execution_count": null,
   "metadata": {},
   "outputs": [],
   "source": [
    "for contributor in contributors['contributor_role'].unique():\n",
    "    print(contributor)"
   ]
  },
  {
   "cell_type": "code",
   "execution_count": null,
   "metadata": {},
   "outputs": [],
   "source": [
    "#For each party, look at the contributor and determine if they were from the party or not\n",
    "contributors['UDC'] = contributors.apply(lambda x: x['contributor_role'] if re.search(r'\\bUDC\\b|union démocratique du centre', str(x['contributor_role']), re.I) else None, axis =1)\n",
    "contributors['PDC'] = contributors.apply(lambda x: x['contributor_role'] if re.search(r'\\bPDC\\b|démocrate chrétien', str(x['contributor_role']), re.I) else None, axis =1)\n",
    "contributors['PS'] = contributors.apply(lambda x: x['contributor_role'] if re.search(r'\\bPS\\b|\\bPSS\\b|\\bsocialise\\b|\\bsocialiste\\b', str(x['contributor_role']), re.I) else None, axis =1)\n",
    "contributors['PLR'] = contributors.apply(lambda x: x['contributor_role'] if re.search(r'\\bPLR\\b|\\blibéral radical\\b|\\blibérale radical|\\blibéral-radical\\b|\\blibérale-radical', str(x['contributor_role'])) else None, axis =1)\n",
    "contributors['Verts'] = contributors.apply(lambda x: x['contributor_role'] if re.search(r\"Verts|Vert|\\bPES\\b|\\bPVL\\b\", \n",
    "                                                                                        str(x['contributor_role']), re.I) else None, axis =1)\n",
    "contributors['Verts_Liberaux'] = contributors.apply(lambda x: x['Verts'] if re.search(r\"Vert lib|Vert'lib|Verte lib|Vert-lib|Verts lib|Verts-lib|Verte-lib|\\bPVL\\b\", \n",
    "                                                                                      str(x['Verts']), re.I) else None, axis =1)\n",
    "contributors['Verts'] = contributors.apply(lambda x: x['Verts'] if x['Verts_Liberaux'] == None else None, axis =1)"
   ]
  },
  {
   "cell_type": "code",
   "execution_count": null,
   "metadata": {},
   "outputs": [],
   "source": [
    "#Create a pie chart of the total political contributors and their respective parties\n",
    "contributors[['UDC', 'PDC', 'PS', 'PLR', 'Verts', 'Verts_Liberaux', 'year']].groupby('year').count()"
   ]
  },
  {
   "cell_type": "code",
   "execution_count": null,
   "metadata": {},
   "outputs": [],
   "source": [
    "contributors[['UDC', 'PDC', 'PS', 'PLR', 'Verts', 'Verts_Liberaux']].count()"
   ]
  },
  {
   "cell_type": "markdown",
   "metadata": {},
   "source": [
    "Now we would like to look at the texual data and attempt to find topics using an LDA model.\n"
   ]
  },
  {
   "cell_type": "code",
   "execution_count": 13,
   "metadata": {},
   "outputs": [],
   "source": [
    "import re\n",
    "\n",
    "str_YEARS = ['2019', '2018', '2017', '2016', '2015', '2014', '2013', '2012','2011','2010']\n",
    "\n",
    "\n",
    "def speech_to_words(speech, year=str_YEARS):\n",
    "    \"\"\"\n",
    "    Return a bag of word sorted by frequency\n",
    "    \n",
    "    lang: {'fr','de'}\n",
    "    username: {'PS Suisse', 'CVP PDC PPD PCD', 'UDC Suisse',\n",
    "       'Les VERTS suisses 🌻', \"Vert'libéraux Suisse\", 'PLR Suisse'}\n",
    "    year: default = [2019, 2018, 2017, 2016, 2015, 2014, 2013, 2012, 2011, 2010]\n",
    "    \n",
    "    \"\"\"\n",
    "    speech_copy = speech.copy()\n",
    "    speech_copy = speech_copy[speech_copy['year'].isin(year)]\n",
    "    speech_copy = speech_copy[\"text\"].astype(str).str.lower()\n",
    "    \n",
    "    for text in speech_copy:\n",
    "        yield(gensim.utils.simple_preprocess(str(text), deacc=True))  # deacc=True removes punctuations"
   ]
  },
  {
   "cell_type": "markdown",
   "metadata": {},
   "source": [
    "Removal of stop words."
   ]
  },
  {
   "cell_type": "code",
   "execution_count": 14,
   "metadata": {},
   "outputs": [],
   "source": [
    "import nltk\n",
    "from nltk.corpus import stopwords\n",
    "stopwords_fr = stopwords.words('french')\n",
    "stopwords_fr.extend(['nlocuteur'])"
   ]
  },
  {
   "cell_type": "markdown",
   "metadata": {},
   "source": [
    "Investigation for using gensim using this tutorial as a guideline: https://www.machinelearningplus.com/nlp/topic-modeling-gensim-python/"
   ]
  },
  {
   "cell_type": "code",
   "execution_count": 15,
   "metadata": {},
   "outputs": [],
   "source": [
    "import gensim\n",
    "import gensim.corpora as corpora\n",
    "from gensim.utils import simple_preprocess\n",
    "from gensim.models import CoherenceModel\n",
    "# spacy for lemmatization\n",
    "import spacy\n",
    "\n",
    "from pprint import pprint\n",
    "\n",
    "# Plotting tools\n",
    "import pyLDAvis\n",
    "import pyLDAvis.gensim  # don't skip this\n",
    "import matplotlib.pyplot as plt\n",
    "%matplotlib inline"
   ]
  },
  {
   "cell_type": "code",
   "execution_count": 16,
   "metadata": {},
   "outputs": [],
   "source": [
    "data_words = list(speech_to_words(all_party_topic))\n"
   ]
  },
  {
   "cell_type": "markdown",
   "metadata": {},
   "source": [
    "Creating bigrams"
   ]
  },
  {
   "cell_type": "code",
   "execution_count": 17,
   "metadata": {},
   "outputs": [],
   "source": [
    "# Build the bigram model\n",
    "bigram = gensim.models.Phrases(data_words, min_count=5, threshold=75) # higher threshold fewer phrases.\n"
   ]
  },
  {
   "cell_type": "code",
   "execution_count": 18,
   "metadata": {},
   "outputs": [],
   "source": [
    "# Faster way to get a sentence clubbed as a bigram\n",
    "bigram_mod = gensim.models.phrases.Phraser(bigram)\n"
   ]
  },
  {
   "cell_type": "markdown",
   "metadata": {},
   "source": [
    "Remove stop words, make birgams and lemmatize"
   ]
  },
  {
   "cell_type": "code",
   "execution_count": 19,
   "metadata": {},
   "outputs": [
    {
     "name": "stdout",
     "output_type": "stream",
     "text": [
      "[['aller', 'tre', 'vite', 'mise', 'oeuvr', 'initiative', 'renvoi', 'venir', 'annoncer', 'mise', 'pied', 'groupe', 'travail', 'presid', 'tre', 'respecte', 'ancien', 'directeur', 'office_federal', 'justice', 'assez', 'cote', 'autre', 'personne', 'representant', 'initiative', 'representant', 'canton', 'specialiste', 'police', 'groupe', 'faire', 'part', 'proposition', 'ici', 'mois', 'juin', 'fond', 'mandat', 'groupe', 'travail', 'pose', 'question', 'pouvoir', 'mandat', 'creer', 'maintenant', 'possibilite', 'mise', 'oeuvre', 'population', 'voter', 'novembr', 'examiner', 'aussi', 'juridique', 'possible', 'important', 'moment', 'faire', 'projet', 'loi', 'connaître', 'vraiment', 'possibilite', 'differente', 'possibilite', 'aussi', 'juridiquer', 'penser', 'groupe', 'travail', 'arriver', 'trouver', 'consensus', 'groupe', 'travail', 'mandat', 'chercher', 'solution', 'consensu', 'possible', 'falloir', 'voter', 'groupe', 'travail', 'mandat', 'alors', 'present', 'possibilite', 'differente', 'mission', 'analyse', 'aussi', 'juridiquer', 'croire', 'meilleur', 'chose', 'cancer', 'connaissance', 'caus', 'cause', 'tout', 'possibilite', 'attractif', 'monde', 'tete', 'processus', 'tre', 'transparent', 'tre', 'ouvert', 'prendre', 'mem', 'presidence', 'groupe', 'importance', 'sujet', 'nc', 'tache', 'president', 'untel', 'groupe', 'maintenant', 'question', 'vraiment', 'question', 'juridique', 'poser', 'question', 'aussi', 'technique', 'vouloir', 'concert', 'federal', 'projet', 'responsabilite', 'responsabilite', 'politique', 'aussi', 'responsabilite', 'assurer', 'processus', 'maintenant', 'transparent', 'ouvrir', 'solution', 'possible', 'alors', 'prendre', 'possibilite', 'responsabilite', 'meme', 'mener', 'responsabilite', 'mem', 'personnalite', 'enorm', 'experience', 'traval', 'fait', 'fois', 'travail', 'et', 'peu', 'pareil', 'eter', 'aussi', 'initiative', 'difficile', 'mettre', 'oeuvre', 'Monsieur', 'vraiment', 'trouve', 'personnalite', 'faire', 'travail', 'travail', 'critique', 'membre', 'initiative', 'representer', 'finalement', 'cot', 'initiative', 'groupe', 'travail', 'travail', 'aller', 'voter', 'alors', 'question', 'minorite', 'question', 'amener', 'maintenant', 'vision', 'discuter', 'analyser', 'aussi', 'juridiquer', 'alors', 'travail', 'devoir', 'faire', 'groupe', 'groupe', 'tre', 'petit', 'membre', 'savoir', 'dire', 'membre', 'groupe', 'possibilite', 'ecouter', 'autre', 'personne', 'organisation', 'faire', 'aussi', 'analyse', 'alors', 'pense', 'petit', 'groupe', 'vraiment', 'possible', 'faire', 'travail', 'efficace', 'donner', 'rapport', 'jusqu', 'juin', 'tre', 'vite', 'possibilite', 'amener', 'aussi', 'connaissance', 'supplementaire', 'pouvoir', 'groupe', 'craindre', 'initiative', 'refuse', 'participer', 'groupe', 'travail', 'nc', 'invite', 'possibilit', 'redevenir', 'groupe', 'travail', 'crois', 'occasion', 'souvent', 'entendre', 'maintenant', 'travail', 'faire', 'maintenant', 'vouloir', 'sur', 'travail', 'bien', 'faire', 'maintenant', 'invitation', 'participer', 'processus', 'transparent', 'ouvert', 'bon', 'occasion', 'membre', 'initiative', 'participer', 'processus', 'nsi', 'imaginer', 'ca', 'represent', 'nc', 'ouvert', 'initiative', 'decider', 'personnalit', 'envoyer', 'groupe', 'travail', 'possibilite', 'reservation', 'personne', 'decider', 'conseillere_federal', 'interroger', 'studio', 'national', 'entendre', 'invitation', 'soir', 'repondez', 'abord', 'mettre', 'pied', 'groupe', 'travail', 'mois', 'faire', 'bras', 'preliminair', 'destine', 'dresser', 'obstacle', 'chemin', 'concretisation', 'moyen', 'rapide', 'arriver', 'but', 'moyen', 'rapide', 'administration', 'mettre', 'travail', 'option', 'juridique', 'possible', 'passer', 'changer', 'loi', 'faire', 'encore', 'loi', 'meme', 'obstacle', 'mise', 'argument', 'campagne', 'campagne', 'apparemment', 'termine', 'sein', 'groupe', 'travail', 'vouloir', 'encore', 'faire', 'participer', 'monde', 'donc', 'croire', 'nmai', 'invitation', 'formel', 'conseillere_federal', 'voiler', 'invitation', 'formel', 'entendre', 'preambule', 'reponse', 'place', 'initiativ', 'present', 'aller', 'prononcer', 'lancer', 'initiative', 'jouer', 'avis', 'chose', 'reflechir', 'horreur', 'idee', 'falloir', 'maintenant', 'aller', 'sorte', 'table', 'negociation', 'fond', 'Monsieur', 'air', 'dire', 'ecoutez', 'peuple', 'malheureusement', 'vote', 'sens', 'contraire', 'aller', 'essayer', 'renegocier', 'contour', 'chose', 'nmai', 'falloir', 'mettre', 'application', 'tout', 'meme', 'oui', 'ailleurs', 'bien', 'suppose', 'travail', 'oui', 'negociation', 'ca', 'suppose', 'administration', 'tache', 'face', 'toujours', 'cas', 'projet', 'soumettre', 'discussion', 'transparence', 'Monsieur', 'heure', 'lieu', 'plenum', 'espece', 'antichambr', 'reflexion', 'importe', 'certainement', 'rapidit', 'vise', 'evidemment', 'mettre', 'eau', 'vin', 'texte', 'fond', 'regretter', 'point', 'aujourd_hui', 'edulcorer', 'jeu', 'souhaiteriez', 'participer', 'groupe', 'travail', 'decider', 'question', 'decider', 'competence', 'dire', 'trouver', 'priori', 'idee', 'tel', 'presentee', 'meme', 'savoir', 'rencontre', 'discuter', 'autre', 'terme', 'negocion', 'mauvais', 'idee', 'maladie', 'simplement', 'mettre', 'oeuvre', 'travail', 'technique', 'administration', 'parfaitement', 'faire', 'seul', 'non', 'compris', 'point', 'voir', 'jour', 'merci']]\n"
     ]
    }
   ],
   "source": [
    "# Define functions for stopwords, bigrams, trigrams and lemmatization\n",
    "def remove_stopwords(texts):\n",
    "    return [[word for word in simple_preprocess(str(doc)) if word not in stopwords_fr] for doc in texts]\n",
    "\n",
    "def make_bigrams(texts):\n",
    "    return [bigram_mod[doc] for doc in texts]\n",
    "\n",
    "def make_trigrams(texts):\n",
    "    return [trigram_mod[bigram_mod[doc]] for doc in texts]\n",
    "\n",
    "def lemmatization(texts, allowed_postags=['NOUN', 'ADJ', 'VERB', 'ADV']):\n",
    "    \"\"\"https://spacy.io/api/annotation\"\"\"\n",
    "    texts_out = []\n",
    "    for sent in texts:\n",
    "        doc = nlp(\" \".join(sent)) \n",
    "        texts_out.append([token.lemma_ for token in doc if token.pos_ in allowed_postags])\n",
    "    return texts_out\n",
    "\n",
    "# Remove Stop Words\n",
    "data_words_nostops = remove_stopwords(data_words)\n",
    "\n",
    "# Form Bigrams\n",
    "data_words_bigrams = make_bigrams(data_words_nostops)\n",
    "\n",
    "# Initialize spacy 'fr_core_news_md' model\n",
    "nlp = spacy.load('fr_core_news_md', disable=['parser', 'ner'])\n",
    "\n",
    "# Do lemmatization keeping only noun, adj, vb, adv\n",
    "data_lemmatized = lemmatization(data_words_bigrams, allowed_postags=['NOUN', 'ADJ', 'VERB', 'ADV'])\n",
    "\n",
    "print(data_lemmatized[:1])"
   ]
  },
  {
   "cell_type": "code",
   "execution_count": 20,
   "metadata": {},
   "outputs": [
    {
     "name": "stdout",
     "output_type": "stream",
     "text": [
      "[[(0, 3), (1, 1), (2, 3), (3, 1), (4, 1), (5, 5), (6, 5), (7, 2), (8, 2), (9, 1), (10, 1), (11, 1), (12, 1), (13, 1), (14, 1), (15, 1), (16, 2), (17, 1), (18, 1), (19, 1), (20, 1), (21, 9), (22, 3), (23, 1), (24, 2), (25, 1), (26, 1), (27, 1), (28, 2), (29, 2), (30, 1), (31, 1), (32, 1), (33, 1), (34, 1), (35, 1), (36, 1), (37, 1), (38, 1), (39, 3), (40, 1), (41, 1), (42, 1), (43, 1), (44, 2), (45, 1), (46, 2), (47, 1), (48, 1), (49, 1), (50, 1), (51, 1), (52, 1), (53, 1), (54, 1), (55, 1), (56, 2), (57, 1), (58, 4), (59, 1), (60, 1), (61, 2), (62, 1), (63, 3), (64, 1), (65, 1), (66, 2), (67, 1), (68, 1), (69, 1), (70, 1), (71, 1), (72, 1), (73, 1), (74, 1), (75, 2), (76, 1), (77, 3), (78, 1), (79, 1), (80, 1), (81, 1), (82, 1), (83, 1), (84, 1), (85, 1), (86, 1), (87, 12), (88, 1), (89, 3), (90, 1), (91, 1), (92, 1), (93, 3), (94, 2), (95, 20), (96, 1), (97, 1), (98, 1), (99, 3), (100, 1), (101, 1), (102, 1), (103, 1), (104, 1), (105, 9), (106, 1), (107, 4), (108, 1), (109, 1), (110, 1), (111, 1), (112, 2), (113, 3), (114, 3), (115, 1), (116, 1), (117, 1), (118, 1), (119, 3), (120, 8), (121, 1), (122, 1), (123, 4), (124, 1), (125, 1), (126, 2), (127, 4), (128, 4), (129, 1), (130, 1), (131, 6), (132, 1), (133, 4), (134, 1), (135, 2), (136, 1), (137, 2), (138, 2), (139, 1), (140, 3), (141, 2), (142, 1), (143, 2), (144, 1), (145, 1), (146, 1), (147, 2), (148, 2), (149, 1), (150, 3), (151, 1), (152, 1), (153, 1), (154, 2), (155, 3), (156, 1), (157, 1), (158, 1), (159, 1), (160, 5), (161, 1), (162, 1), (163, 1), (164, 1), (165, 2), (166, 3), (167, 2), (168, 1), (169, 1), (170, 2), (171, 1), (172, 1), (173, 2), (174, 1), (175, 1), (176, 1), (177, 1), (178, 1), (179, 1), (180, 9), (181, 5), (182, 2), (183, 1), (184, 1), (185, 2), (186, 2), (187, 1), (188, 1), (189, 1), (190, 1), (191, 1), (192, 4), (193, 3), (194, 1), (195, 1), (196, 7), (197, 2), (198, 1), (199, 1), (200, 1), (201, 1), (202, 1), (203, 1), (204, 1), (205, 1), (206, 1), (207, 1), (208, 1), (209, 1), (210, 1), (211, 2), (212, 1), (213, 1), (214, 1), (215, 5), (216, 2), (217, 1), (218, 1), (219, 1), (220, 1), (221, 1), (222, 2), (223, 1), (224, 1), (225, 1), (226, 1), (227, 1), (228, 1), (229, 1), (230, 1), (231, 2), (232, 1), (233, 1), (234, 2), (235, 2), (236, 1), (237, 1), (238, 1), (239, 1), (240, 1), (241, 1), (242, 2), (243, 1), (244, 3), (245, 23), (246, 1), (247, 6), (248, 1), (249, 2), (250, 1), (251, 1), (252, 1), (253, 1), (254, 1), (255, 2), (256, 1), (257, 1), (258, 1), (259, 3), (260, 3), (261, 4)]]\n"
     ]
    }
   ],
   "source": [
    "# Create Dictionary\n",
    "id2word = corpora.Dictionary(data_lemmatized)\n",
    "\n",
    "# Create Corpus\n",
    "texts = data_lemmatized\n",
    "\n",
    "# Term Document Frequency\n",
    "corpus = [id2word.doc2bow(text) for text in texts]\n",
    "\n",
    "# View\n",
    "print(corpus[:1])"
   ]
  },
  {
   "cell_type": "markdown",
   "metadata": {},
   "source": [
    "Creation of the topic model"
   ]
  },
  {
   "cell_type": "code",
   "execution_count": null,
   "metadata": {},
   "outputs": [],
   "source": [
    "#Saving the politique only model\n",
    ".save('models/RTS_models/all_politique.model')"
   ]
  },
  {
   "cell_type": "code",
   "execution_count": null,
   "metadata": {},
   "outputs": [],
   "source": [
    "import os \n",
    "from gensim.models.wrappers import LdaMallet\n",
    "os.environ.update({'MALLET_HOME': r'C:/Users/Isabelle/Downloads/mallet-2.0.8/mallet-2.0.8/'})\n",
    "mallet_path = 'C:\\\\Users\\\\Isabelle\\\\Downloads\\\\mallet-2.0.8\\\\mallet-2.0.8\\\\bin\\\\mallet'"
   ]
  },
  {
   "cell_type": "markdown",
   "metadata": {},
   "source": [
    "Now we want to find the optimal number of topics using the LDA Mallet model by creating the model with different numbers of topics and then by looking at their coherence values to see where the coherence value begins to level off."
   ]
  },
  {
   "cell_type": "code",
   "execution_count": 21,
   "metadata": {},
   "outputs": [
    {
     "data": {
      "image/png": "[encoded data removed]",
      "text/plain": [
       "<Figure size 432x288 with 1 Axes>"
      ]
     },
     "metadata": {
      "needs_background": "light"
     },
     "output_type": "display_data"
    }
   ],
   "source": [
    "import os \n",
    "from gensim.models.wrappers import LdaMallet\n",
    "os.environ.update({'MALLET_HOME': r'C:/Users/Isabelle/Downloads/mallet-2.0.8/mallet-2.0.8/'})\n",
    "mallet_path = 'C:\\\\Users\\\\Isabelle\\\\Downloads\\\\mallet-2.0.8\\\\mallet-2.0.8\\\\bin\\\\mallet'\n",
    "\n",
    "def compute_coherence_values(dictionary, corpus, texts, limit, start=2, step=3):\n",
    "    \"\"\"\n",
    "    Compute c_v coherence for various number of topics\n",
    "\n",
    "    Parameters:\n",
    "    ----------\n",
    "    dictionary : Gensim dictionary\n",
    "    corpus : Gensim corpus\n",
    "    texts : List of input texts\n",
    "    limit : Max num of topics\n",
    "\n",
    "    Returns:\n",
    "    -------\n",
    "    model_list : List of LDA topic models\n",
    "    coherence_values : Coherence values corresponding to the LDA model with respective number of topics\n",
    "    \"\"\"\n",
    "    coherence_values = []\n",
    "    model_list = []\n",
    "    for num_topics in range(start, limit, step):\n",
    "        model = gensim.models.wrappers.LdaMallet(mallet_path, corpus=corpus, num_topics=num_topics, id2word=id2word)\n",
    "        model_list.append(model)\n",
    "        coherencemodel = CoherenceModel(model=model, texts=texts, dictionary=dictionary, coherence='c_v')\n",
    "        coherence_values.append(coherencemodel.get_coherence())\n",
    "\n",
    "    return model_list, coherence_values\n",
    "# Can take a long time to run.\n",
    "model_list, coherence_values = compute_coherence_values(dictionary=id2word, corpus=corpus, texts=data_lemmatized, start=2, limit=60, step=6)\n",
    "# Show graph\n",
    "limit=60; start=2; step=6;\n",
    "x = range(start, limit, step)\n",
    "plt.plot(x, coherence_values)\n",
    "plt.xlabel(\"Num Topics\")\n",
    "plt.ylabel(\"Coherence score\")\n",
    "plt.legend((\"coherence_values\"), loc='best')\n",
    "plt.show()\n",
    "\n"
   ]
  },
  {
   "cell_type": "code",
   "execution_count": 22,
   "metadata": {},
   "outputs": [
    {
     "name": "stdout",
     "output_type": "stream",
     "text": [
      "Num Topics = 2  has Coherence Value of 0.2418\n",
      "Num Topics = 8  has Coherence Value of 0.29\n",
      "Num Topics = 14  has Coherence Value of 0.297\n",
      "Num Topics = 20  has Coherence Value of 0.2961\n",
      "Num Topics = 26  has Coherence Value of 0.312\n",
      "Num Topics = 32  has Coherence Value of 0.3046\n",
      "Num Topics = 38  has Coherence Value of 0.3131\n",
      "Num Topics = 44  has Coherence Value of 0.328\n",
      "Num Topics = 50  has Coherence Value of 0.3305\n",
      "Num Topics = 56  has Coherence Value of 0.3244\n"
     ]
    }
   ],
   "source": [
    "for m, cv in zip(x, coherence_values):\n",
    "    print(\"Num Topics =\", m, \" has Coherence Value of\", round(cv, 4))"
   ]
  },
  {
   "cell_type": "markdown",
   "metadata": {},
   "source": [
    "Looking at the above coherence values, we can see that after 38 topics the coherence begins to level off so this will be the optimal model. After this optimal model is chosen, we will then look at the topics and attempt to assign topic names. For those topics that we find interesting, we will then create word clouds associated with these topics and look into the topic frequency in documents over time."
   ]
  },
  {
   "cell_type": "code",
   "execution_count": 27,
   "metadata": {},
   "outputs": [
    {
     "name": "stdout",
     "output_type": "stream",
     "text": [
      "[(0,\n",
      "  '0.031*\"donc\" + 0.022*\"alors\" + 0.018*\"faire\" + 0.016*\"bien\" + 0.014*\"oui\" + '\n",
      "  '0.012*\"aussi\" + 0.011*\"terre\" + 0.011*\"tout\" + 0.011*\"petit\" + '\n",
      "  '0.010*\"point\" + 0.009*\"eau\" + 0.009*\"dechet\" + 0.008*\"ca\" + '\n",
      "  '0.008*\"plastique\" + 0.008*\"encore\"'),\n",
      " (1,\n",
      "  '0.027*\"tre\" + 0.024*\"aussi\" + 0.024*\"aller\" + 0.023*\"ici\" + 0.022*\"donc\" + '\n",
      "  '0.020*\"peu\" + 0.017*\"voir\" + 0.016*\"beaucoup\" + 0.016*\"pays\" + 0.016*\"meme\" '\n",
      "  '+ 0.014*\"eter\" + 0.014*\"passer\" + 0.013*\"faire\" + 0.012*\"gens\" + '\n",
      "  '0.011*\"oui\"'),\n",
      " (2,\n",
      "  '0.095*\"oui\" + 0.035*\"alors\" + 0.030*\"bien\" + 0.026*\"bon\" + 0.021*\"dire\" + '\n",
      "  '0.019*\"faire\" + 0.019*\"aller\" + 0.017*\"ca\" + 0.011*\"tout\" + 0.010*\"savoir\" '\n",
      "  '+ 0.010*\"hein\" + 0.010*\"donc\" + 0.009*\"meme\" + 0.009*\"falloir\" + '\n",
      "  '0.009*\"nc\"'),\n",
      " (3,\n",
      "  '0.020*\"dire\" + 0.018*\"livre\" + 0.017*\"aussi\" + 0.015*\"faire\" + 0.014*\"meme\" '\n",
      "  '+ 0.013*\"autre\" + 0.011*\"tre\" + 0.011*\"bien\" + 0.011*\"oui\" + 0.010*\"peu\" + '\n",
      "  '0.010*\"tout\" + 0.009*\"vie\" + 0.009*\"mot\" + 0.008*\"beaucoup\" + 0.008*\"ca\"'),\n",
      " (4,\n",
      "  '0.032*\"faire\" + 0.022*\"aller\" + 0.020*\"bien\" + 0.020*\"valoir\" + '\n",
      "  '0.016*\"projet\" + 0.014*\"falloir\" + 0.013*\"jeu\" + 0.013*\"tout\" + '\n",
      "  '0.011*\"meme\" + 0.010*\"peu\" + 0.010*\"dire\" + 0.010*\"autre\" + 0.009*\"donc\" + '\n",
      "  '0.009*\"valai\" + 0.009*\"aussi\"'),\n",
      " (5,\n",
      "  '0.065*\"candidat\" + 0.038*\"plr\" + 0.021*\"election\" + 0.019*\"groupe\" + '\n",
      "  '0.018*\"elu\" + 0.017*\"vaudois\" + 0.014*\"conseiller\" + 0.013*\"donc\" + '\n",
      "  '0.012*\"choix\" + 0.011*\"ticket\" + 0.010*\"autre\" + 0.010*\"candidature\" + '\n",
      "  '0.009*\"sein\" + 0.008*\"campagne\" + 0.008*\"candidatur\"'),\n",
      " (6,\n",
      "  '0.018*\"media\" + 0.018*\"information\" + 0.016*\"public\" + 0.016*\"journal\" + '\n",
      "  '0.015*\"aussi\" + 0.015*\"faire\" + 0.013*\"presse\" + 0.011*\"journaliste\" + '\n",
      "  '0.011*\"donc\" + 0.008*\"autre\" + 0.008*\"tout\" + 0.008*\"marche\" + 0.008*\"post\" '\n",
      "  '+ 0.007*\"redevance\" + 0.007*\"bien\"'),\n",
      " (7,\n",
      "  '0.049*\"etat\" + 0.029*\"gouvernement\" + 0.024*\"dossier\" + 0.020*\"conseiller\" '\n",
      "  '+ 0.019*\"ministre\" + 0.019*\"commission\" + 0.017*\"decision\" + '\n",
      "  '0.017*\"conseil\" + 0.015*\"politique\" + 0.014*\"prendre\" + 0.013*\"faire\" + '\n",
      "  '0.012*\"bien\" + 0.010*\"chef\" + 0.010*\"departement\" + 0.008*\"question\"'),\n",
      " (8,\n",
      "  '0.041*\"travail\" + 0.022*\"entreprise\" + 0.016*\"aussi\" + 0.016*\"falloir\" + '\n",
      "  '0.014*\"faire\" + 0.014*\"travailler\" + 0.013*\"personne\" + 0.012*\"gens\" + '\n",
      "  '0.012*\"emploi\" + 0.011*\"semaine\" + 0.011*\"bien\" + 0.011*\"tout\" + '\n",
      "  '0.009*\"probleme\" + 0.009*\"temps\" + 0.009*\"moins\"'),\n",
      " (9,\n",
      "  '0.076*\"politique\" + 0.025*\"faire\" + 0.022*\"question\" + 0.020*\"peu\" + '\n",
      "  '0.014*\"aussi\" + 0.013*\"autre\" + 0.013*\"discours\" + 0.012*\"plutot\" + '\n",
      "  '0.012*\"social\" + 0.012*\"position\" + 0.012*\"valeur\" + 0.011*\"gens\" + '\n",
      "  '0.009*\"exemple\" + 0.009*\"idee\" + 0.009*\"combat\"'),\n",
      " (10,\n",
      "  '0.034*\"suisse\" + 0.030*\"droit\" + 0.020*\"personne\" + 0.018*\"faire\" + '\n",
      "  '0.015*\"cas\" + 0.012*\"pays\" + 0.011*\"question\" + 0.011*\"dire\" + 0.010*\"donc\" '\n",
      "  '+ 0.010*\"loi\" + 0.009*\"alors\" + 0.009*\"peine\" + 0.009*\"gens\" + 0.008*\"meme\" '\n",
      "  '+ 0.008*\"situation\"'),\n",
      " (11,\n",
      "  '0.107*\"canton\" + 0.028*\"grand\" + 0.024*\"cantonal\" + 0.023*\"vaudois\" + '\n",
      "  '0.023*\"genevois\" + 0.021*\"etat\" + 0.019*\"commune\" + 0.019*\"niveau\" + '\n",
      "  '0.015*\"faire\" + 0.013*\"aussi\" + 0.013*\"conseil\" + 0.011*\"question\" + '\n",
      "  '0.010*\"ville\" + 0.010*\"bien\" + 0.010*\"bern\"'),\n",
      " (12,\n",
      "  '0.104*\"femme\" + 0.029*\"homme\" + 0.022*\"aussi\" + 0.022*\"question\" + '\n",
      "  '0.019*\"faire\" + 0.019*\"dire\" + 0.013*\"bien\" + 0.012*\"meme\" + '\n",
      "  '0.010*\"religion\" + 0.010*\"droit\" + 0.009*\"mariage\" + 0.009*\"falloir\" + '\n",
      "  '0.009*\"cas\" + 0.008*\"tout\" + 0.008*\"donc\"'),\n",
      " (13,\n",
      "  '0.040*\"ville\" + 0.016*\"voiture\" + 0.013*\"donc\" + 0.013*\"faire\" + '\n",
      "  '0.012*\"lausann\" + 0.012*\"projet\" + 0.011*\"aussi\" + 0.011*\"place\" + '\n",
      "  '0.010*\"logement\" + 0.010*\"bien\" + 0.009*\"construire\" + 0.008*\"territoir\" + '\n",
      "  '0.008*\"falloir\" + 0.008*\"terrain\" + 0.008*\"transport\"'),\n",
      " (14,\n",
      "  '0.018*\"dire\" + 0.018*\"nucleair\" + 0.018*\"energie\" + 0.018*\"aller\" + '\n",
      "  '0.017*\"faire\" + 0.014*\"tre\" + 0.014*\"donc\" + 0.013*\"aussi\" + 0.012*\"alors\" '\n",
      "  '+ 0.010*\"electricite\" + 0.010*\"bien\" + 0.009*\"autre\" + 0.007*\"bon\" + '\n",
      "  '0.007*\"sortir\" + 0.007*\"meme\"'),\n",
      " (15,\n",
      "  '0.094*\"suisse\" + 0.040*\"aussi\" + 0.032*\"romand\" + 0.022*\"dire\" + '\n",
      "  '0.019*\"peu\" + 0.019*\"autre\" + 0.018*\"alors\" + 0.018*\"allemand\" + '\n",
      "  '0.016*\"bien\" + 0.015*\"tre\" + 0.014*\"meme\" + 0.013*\"pays\" + 0.013*\"francai\" '\n",
      "  '+ 0.013*\"beaucoup\" + 0.012*\"eter\"'),\n",
      " (16,\n",
      "  '0.146*\"Monsieur\" + 0.032*\"faire\" + 0.031*\"dire\" + 0.025*\"eter\" + '\n",
      "  '0.020*\"meme\" + 0.011*\"tout\" + 0.009*\"pouvoir\" + 0.009*\"vote\" + '\n",
      "  '0.009*\"maintenant\" + 0.009*\"alors\" + 0.008*\"homme\" + 0.008*\"autre\" + '\n",
      "  '0.008*\"aller\" + 0.007*\"net\" + 0.007*\"tenir\"'),\n",
      " (17,\n",
      "  '0.030*\"suisse\" + 0.016*\"falloir\" + 0.015*\"marche\" + 0.015*\"faire\" + '\n",
      "  '0.015*\"prix\" + 0.013*\"consommateur\" + 0.013*\"pays\" + 0.012*\"taxe\" + '\n",
      "  '0.011*\"pourcent\" + 0.011*\"mesure\" + 0.011*\"produire\" + 0.011*\"rapport\" + '\n",
      "  '0.010*\"prendre\" + 0.010*\"donc\" + 0.009*\"aller\"'),\n",
      " (18,\n",
      "  '0.061*\"faire\" + 0.055*\"peu\" + 0.044*\"donc\" + 0.036*\"aller\" + 0.031*\"meme\" + '\n",
      "  '0.028*\"tre\" + 0.024*\"petit\" + 0.024*\"dire\" + 0.020*\"vraiment\" + '\n",
      "  '0.018*\"assez\" + 0.016*\"voir\" + 0.015*\"ca\" + 0.014*\"beaucoup\" + '\n",
      "  '0.013*\"quand\" + 0.012*\"bon\"'),\n",
      " (19,\n",
      "  '0.024*\"faire\" + 0.021*\"arme\" + 0.018*\"falloir\" + 0.017*\"service\" + '\n",
      "  '0.017*\"armee\" + 0.016*\"suisse\" + 0.014*\"securite\" + 0.011*\"tout\" + '\n",
      "  '0.011*\"aussi\" + 0.010*\"passer\" + 0.009*\"police\" + 0.009*\"alors\" + '\n",
      "  '0.008*\"donnee\" + 0.008*\"risque\" + 0.008*\"information\"'),\n",
      " (20,\n",
      "  '0.022*\"projet\" + 0.022*\"franc\" + 0.017*\"retraite\" + 0.016*\"impot\" + '\n",
      "  '0.015*\"donc\" + 0.015*\"payer\" + 0.015*\"reform\" + 0.014*\"faire\" + '\n",
      "  '0.012*\"pourcent\" + 0.012*\"reforme\" + 0.011*\"entreprise\" + 0.011*\"alors\" + '\n",
      "  '0.009*\"bien\" + 0.009*\"milliard\" + 0.009*\"million\"'),\n",
      " (21,\n",
      "  '0.026*\"dire\" + 0.018*\"faire\" + 0.016*\"donc\" + 0.013*\"tout\" + 0.013*\"bien\" + '\n",
      "  '0.011*\"alors\" + 0.011*\"eter\" + 0.010*\"meme\" + 0.009*\"guerre\" + 0.009*\"mem\" '\n",
      "  '+ 0.008*\"falloir\" + 0.008*\"vouloir\" + 0.007*\"autre\" + 0.007*\"democratie\" + '\n",
      "  '0.007*\"histoire\"'),\n",
      " (22,\n",
      "  '0.049*\"faire\" + 0.025*\"donc\" + 0.022*\"enfant\" + 0.021*\"jeune\" + 0.018*\"oui\" '\n",
      "  '+ 0.017*\"tout\" + 0.016*\"aller\" + 0.015*\"petit\" + 0.012*\"alors\" + '\n",
      "  '0.012*\"vie\" + 0.011*\"vraiment\" + 0.010*\"ca\" + 0.010*\"famille\" + '\n",
      "  '0.009*\"chose\" + 0.008*\"parent\"'),\n",
      " (23,\n",
      "  '0.039*\"faire\" + 0.024*\"donc\" + 0.021*\"alors\" + 0.016*\"peu\" + 0.015*\"bien\" + '\n",
      "  '0.012*\"couleur\" + 0.012*\"aller\" + 0.011*\"tout\" + 0.009*\"petit\" + '\n",
      "  '0.009*\"oui\" + 0.008*\"net\" + 0.008*\"tre\" + 0.007*\"vin\" + 0.007*\"meme\" + '\n",
      "  '0.007*\"eter\"'),\n",
      " (24,\n",
      "  '0.086*\"suisse\" + 0.037*\"accord\" + 0.025*\"pays\" + 0.014*\"dire\" + '\n",
      "  '0.014*\"donc\" + 0.012*\"immigration\" + 0.010*\"autre\" + 0.010*\"bien\" + '\n",
      "  '0.010*\"negociation\" + 0.009*\"vouloir\" + 0.009*\"question\" + '\n",
      "  '0.009*\"europeenne\" + 0.008*\"aller\" + 0.008*\"union_europeenn\" + '\n",
      "  '0.008*\"relation\"'),\n",
      " (25,\n",
      "  '0.064*\"aussi\" + 0.046*\"politique\" + 0.029*\"eter\" + 0.028*\"tre\" + '\n",
      "  '0.026*\"faire\" + 0.022*\"beaucoup\" + 0.021*\"peu\" + 0.017*\"dire\" + '\n",
      "  '0.016*\"meme\" + 0.016*\"vraiment\" + 0.015*\"bien\" + 0.013*\"bon\" + '\n",
      "  '0.013*\"toujours\" + 0.012*\"pouvoir\" + 0.010*\"encore\"'),\n",
      " (26,\n",
      "  '0.047*\"affaire\" + 0.014*\"tout\" + 0.012*\"ete\" + 0.010*\"genevois\" + '\n",
      "  '0.010*\"transparence\" + 0.009*\"rapport\" + 0.008*\"alors\" + 0.008*\"justice\" + '\n",
      "  '0.008*\"meme\" + 0.007*\"cas\" + 0.007*\"compte\" + 0.007*\"parlementaire\" + '\n",
      "  '0.007*\"information\" + 0.007*\"autre\" + 0.007*\"faire\"'),\n",
      " (27,\n",
      "  '0.037*\"donc\" + 0.020*\"faire\" + 0.016*\"tre\" + 0.015*\"question\" + '\n",
      "  '0.013*\"exemple\" + 0.013*\"dire\" + 0.011*\"rapport\" + 0.011*\"important\" + '\n",
      "  '0.010*\"effectivement\" + 0.010*\"pouvoir\" + 0.010*\"extremement\" + '\n",
      "  '0.009*\"point\" + 0.009*\"fond\" + 0.008*\"justement\" + 0.008*\"recherche\"'),\n",
      " (28,\n",
      "  '0.039*\"mt\" + 0.033*\"net\" + 0.025*\"musiqu\" + 0.025*\"point\" + 0.023*\"psaume\" '\n",
      "  '+ 0.016*\"version\" + 0.014*\"ici\" + 0.014*\"donc\" + 0.012*\"entendre\" + '\n",
      "  '0.011*\"aussi\" + 0.011*\"heure\" + 0.011*\"eme\" + 0.011*\"aller\" + '\n",
      "  '0.010*\"compositeur\" + 0.010*\"nc\"'),\n",
      " (29,\n",
      "  '0.056*\"dire\" + 0.041*\"faire\" + 0.034*\"aller\" + 0.022*\"gens\" + 0.020*\"bien\" '\n",
      "  '+ 0.018*\"chose\" + 0.016*\"question\" + 0.015*\"tout\" + 0.014*\"parle\" + '\n",
      "  '0.014*\"ca\" + 0.013*\"falloir\" + 0.012*\"juste\" + 0.011*\"meme\" + '\n",
      "  '0.011*\"probleme\" + 0.011*\"parler\"'),\n",
      " (30,\n",
      "  '0.048*\"mt\" + 0.035*\"dire\" + 0.024*\"faire\" + 0.023*\"tout\" + '\n",
      "  '0.021*\"finalement\" + 0.021*\"meme\" + 0.019*\"bien\" + 0.019*\"bonsoir\" + '\n",
      "  '0.019*\"crois\" + 0.016*\"falloir\" + 0.014*\"effectivement\" + 0.013*\"eter\" + '\n",
      "  '0.012*\"savoir\" + 0.011*\"cas\" + 0.011*\"nmai\"'),\n",
      " (31,\n",
      "  '0.028*\"heure\" + 0.019*\"matin\" + 0.013*\"apre\" + 0.012*\"jour\" + 0.012*\"eme\" + '\n",
      "  '0.011*\"aller\" + 0.010*\"equipe\" + 0.010*\"nouveau\" + 0.010*\"bon\" + '\n",
      "  '0.009*\"dernier\" + 0.009*\"donc\" + 0.008*\"encore\" + 0.008*\"mois\" + '\n",
      "  '0.008*\"fois\" + 0.008*\"hier\"'),\n",
      " (32,\n",
      "  '0.033*\"pourcent\" + 0.025*\"oui\" + 0.024*\"dire\" + 0.023*\"eter\" + '\n",
      "  '0.023*\"resultat\" + 0.021*\"tre\" + 0.020*\"vote\" + 0.019*\"aussi\" + '\n",
      "  '0.017*\"campagne\" + 0.014*\"meme\" + 0.013*\"aller\" + 0.013*\"canton\" + '\n",
      "  '0.013*\"donc\" + 0.011*\"suisse\" + 0.011*\"tout\"'),\n",
      " (33,\n",
      "  '0.089*\"eter\" + 0.029*\"dire\" + 0.027*\"tre\" + 0.016*\"toujours\" + 0.015*\"tout\" '\n",
      "  '+ 0.013*\"grand\" + 0.013*\"homme\" + 0.012*\"meme\" + 0.012*\"histoire\" + '\n",
      "  '0.011*\"ete\" + 0.011*\"jour\" + 0.010*\"jamais\" + 0.010*\"bien\" + 0.010*\"etai\" + '\n",
      "  '0.010*\"ailleurs\"'),\n",
      " (34,\n",
      "  '0.038*\"suisse\" + 0.025*\"faire\" + 0.020*\"argent\" + 0.015*\"aller\" + '\n",
      "  '0.013*\"banque\" + 0.013*\"dire\" + 0.011*\"milliard\" + 0.011*\"pays\" + '\n",
      "  '0.011*\"donc\" + 0.011*\"tre\" + 0.010*\"beaucoup\" + 0.010*\"aussi\" + '\n",
      "  '0.010*\"autre\" + 0.009*\"franc\" + 0.009*\"bien\"'),\n",
      " (35,\n",
      "  '0.040*\"loi\" + 0.018*\"faire\" + 0.016*\"donc\" + 0.016*\"dire\" + '\n",
      "  '0.015*\"probleme\" + 0.014*\"aussi\" + 0.012*\"interdire\" + 0.011*\"mesure\" + '\n",
      "  '0.011*\"bien\" + 0.010*\"cas\" + 0.010*\"tout\" + 0.009*\"alors\" + 0.009*\"autre\" + '\n",
      "  '0.009*\"jeune\" + 0.008*\"meme\"'),\n",
      " (36,\n",
      "  '0.023*\"sant\" + 0.018*\"systeme\" + 0.017*\"aussi\" + 0.016*\"bien\" + '\n",
      "  '0.016*\"faire\" + 0.016*\"cout\" + 0.013*\"prime\" + 0.013*\"medecin\" + '\n",
      "  '0.011*\"alors\" + 0.011*\"donc\" + 0.011*\"dire\" + 0.009*\"falloir\" + '\n",
      "  '0.009*\"hopital\" + 0.008*\"patient\" + 0.008*\"question\"'),\n",
      " (37,\n",
      "  '0.033*\"faire\" + 0.028*\"film\" + 0.015*\"voir\" + 0.014*\"tre\" + 0.012*\"oui\" + '\n",
      "  '0.012*\"aussi\" + 0.011*\"donc\" + 0.011*\"bien\" + 0.010*\"tout\" + 0.010*\"peu\" + '\n",
      "  '0.009*\"temps\" + 0.009*\"aller\" + 0.008*\"grand\" + 0.007*\"encore\" + '\n",
      "  '0.007*\"vraiment\"'),\n",
      " (38,\n",
      "  '0.059*\"falloir\" + 0.036*\"aller\" + 0.035*\"faire\" + 0.029*\"aussi\" + '\n",
      "  '0.026*\"dire\" + 0.023*\"maintenant\" + 0.023*\"tre\" + 0.016*\"solution\" + '\n",
      "  '0.016*\"beaucoup\" + 0.014*\"toujours\" + 0.014*\"vraiment\" + 0.014*\"tout\" + '\n",
      "  '0.014*\"probleme\" + 0.014*\"question\" + 0.014*\"ca\"'),\n",
      " (39,\n",
      "  '0.051*\"socialiste\" + 0.050*\"gauche\" + 0.043*\"partir\" + 0.038*\"droite\" + '\n",
      "  '0.035*\"pdc\" + 0.026*\"parti\" + 0.019*\"plr\" + 0.015*\"centre\" + '\n",
      "  '0.014*\"election\" + 0.013*\"udc\" + 0.012*\"campagne\" + 0.012*\"eme\" + '\n",
      "  '0.012*\"etat\" + 0.010*\"national\" + 0.010*\"voix\"'),\n",
      " (40,\n",
      "  '0.089*\"initiative\" + 0.033*\"peuple\" + 0.023*\"initiativ\" + 0.020*\"suisse\" + '\n",
      "  '0.019*\"vote\" + 0.017*\"texte\" + 0.016*\"loi\" + 0.016*\"projet\" + '\n",
      "  '0.015*\"constitution\" + 0.014*\"question\" + 0.013*\"votation\" + '\n",
      "  '0.012*\"population\" + 0.010*\"fevrier\" + 0.009*\"lancer\" + 0.009*\"populaire\"'),\n",
      " (41,\n",
      "  '0.085*\"partir\" + 0.025*\"president\" + 0.022*\"socialiste\" + 0.020*\"udc\" + '\n",
      "  '0.019*\"membre\" + 0.019*\"parti\" + 0.017*\"direction\" + 0.017*\"nouveau\" + '\n",
      "  '0.014*\"presidence\" + 0.012*\"sein\" + 0.011*\"section\" + 0.010*\"national\" + '\n",
      "  '0.010*\"matin\" + 0.010*\"assemblee\" + 0.009*\"groupe\"'),\n",
      " (42,\n",
      "  '0.024*\"faire\" + 0.020*\"aller\" + 0.018*\"bien\" + 0.016*\"aussi\" + 0.015*\"donc\" '\n",
      "  '+ 0.015*\"voir\" + 0.014*\"national\" + 0.012*\"nouveau\" + 0.011*\"tout\" + '\n",
      "  '0.010*\"alors\" + 0.010*\"encore\" + 0.009*\"verts_liberal\" + 0.009*\"suisse\" + '\n",
      "  '0.009*\"perdre\" + 0.009*\"climat\"'),\n",
      " (43,\n",
      "  '0.022*\"donc\" + 0.021*\"aussi\" + 0.021*\"faire\" + 0.016*\"animal\" + '\n",
      "  '0.013*\"aller\" + 0.011*\"dire\" + 0.011*\"nature\" + 0.010*\"tout\" + '\n",
      "  '0.010*\"paysan\" + 0.009*\"agriculture\" + 0.009*\"alors\" + 0.008*\"tre\" + '\n",
      "  '0.008*\"oui\" + 0.007*\"agriculteur\" + 0.007*\"peu\"')]\n"
     ]
    }
   ],
   "source": [
    "optimal_model = model_list[7]\n",
    "model_topics = optimal_model.show_topics(formatted=False)\n",
    "pprint(optimal_model.print_topics(num_topics=-1, num_words=15))"
   ]
  },
  {
   "cell_type": "code",
   "execution_count": null,
   "metadata": {},
   "outputs": [],
   "source": [
    "#Saving optimal LDA Mallet model\n",
    "optimal_model.save('models/RTS_models/LDAMallet_40topics.model')"
   ]
  },
  {
   "cell_type": "code",
   "execution_count": 28,
   "metadata": {
    "scrolled": true
   },
   "outputs": [
    {
     "data": {
      "image/png": "[encoded data removed]",
      "text/plain": [
       "<Figure size 720x720 with 9 Axes>"
      ]
     },
     "metadata": {
      "needs_background": "light"
     },
     "output_type": "display_data"
    }
   ],
   "source": [
    "#Visualization of LDA topics\n",
    "from matplotlib import pyplot as plt\n",
    "from wordcloud import WordCloud, STOPWORDS\n",
    "import matplotlib.colors as mcolors\n",
    "import matplotlib.gridspec as gridspec\n",
    "\n",
    "cols = [color for name, color in mcolors.TABLEAU_COLORS.items()]  # more colors: 'mcolors.XKCD_COLORS'\n",
    "\n",
    "cloud = WordCloud(stopwords=stopwords_fr,\n",
    "                  background_color='white',\n",
    "                  width=2500,\n",
    "                  height=1800,\n",
    "                  max_words=15,\n",
    "                  colormap='tab10',\n",
    "                  color_func=lambda *args, **kwargs: cols[i],\n",
    "                  prefer_horizontal=1.0)\n",
    "\n",
    "#Select viable topics with human assigned names\n",
    "selected_topics = [8, 14, 22, 24, 36, 19, 20, 0, 12, 17]\n",
    "selected_titles = ['Work', 'Energy', 'Family', 'Europe', 'Health', 'Army', 'AVS', 'Environment', 'Egality', 'Economy']\n",
    "\n",
    "topics = optimal_model.show_topics(num_topics = -1, num_words=15, formatted=False)\n",
    "topics = [topics[i] for i in selected_topics]\n",
    "\n",
    "\n",
    "gs1 = gridspec.GridSpec(2, 3)\n",
    "gs1.update(wspace=0.025, hspace=0.05)\n",
    "fig, axes = plt.subplots(3, 3, figsize=(10,10), sharex=True, sharey=True)\n",
    "\n",
    "for i, ax in enumerate(axes.flatten()):\n",
    "    fig.add_subplot(ax)\n",
    "    topic_words = dict(topics[i][1])\n",
    "    cloud.generate_from_frequencies(topic_words, max_font_size=300)\n",
    "    plt.gca().imshow(cloud)\n",
    "    plt.gca().set_title('Topic: ' + selected_titles[i], fontdict=dict(size=16))\n",
    "    plt.gca().axis('off')\n",
    "\n",
    "\n",
    "plt.subplots_adjust(wspace=0, hspace=0)\n",
    "plt.axis('off')\n",
    "plt.margins(x=0, y=0)\n",
    "plt.tight_layout()\n",
    "plt.show()"
   ]
  },
  {
   "cell_type": "code",
   "execution_count": null,
   "metadata": {},
   "outputs": [],
   "source": [
    "optimal_model.show_topics(num_topics = -1, num_words = 15, formatted=False)"
   ]
  },
  {
   "cell_type": "markdown",
   "metadata": {},
   "source": [
    "Below is a function for determining the dominante topic of a document."
   ]
  },
  {
   "cell_type": "code",
   "execution_count": 49,
   "metadata": {},
   "outputs": [
    {
     "data": {
      "text/html": [
       "<div>\n",
       "<style scoped>\n",
       "    .dataframe tbody tr th:only-of-type {\n",
       "        vertical-align: middle;\n",
       "    }\n",
       "\n",
       "    .dataframe tbody tr th {\n",
       "        vertical-align: top;\n",
       "    }\n",
       "\n",
       "    .dataframe thead th {\n",
       "        text-align: right;\n",
       "    }\n",
       "</style>\n",
       "<table border=\"1\" class=\"dataframe\">\n",
       "  <thead>\n",
       "    <tr style=\"text-align: right;\">\n",
       "      <th></th>\n",
       "      <th>Document_No</th>\n",
       "      <th>Dominant_Topic</th>\n",
       "      <th>Topic_Perc_Contrib</th>\n",
       "      <th>Keywords</th>\n",
       "      <th>Text</th>\n",
       "      <th>Year</th>\n",
       "    </tr>\n",
       "  </thead>\n",
       "  <tbody>\n",
       "    <tr>\n",
       "      <td>0</td>\n",
       "      <td>0</td>\n",
       "      <td>38.0</td>\n",
       "      <td>0.2269</td>\n",
       "      <td>falloir, aller, faire, aussi, dire, maintenant, tre, solution, beaucoup, toujours</td>\n",
       "      <td>[16.09.2019 - Modèle: vrbs_trans.fre-rts 1.0\\r\\n\\r\\nLocuteur MS1 (00:00:00) [93%] :\\r\\nSimonetta...</td>\n",
       "      <td>2010</td>\n",
       "    </tr>\n",
       "    <tr>\n",
       "      <td>1</td>\n",
       "      <td>1</td>\n",
       "      <td>10.0</td>\n",
       "      <td>0.0993</td>\n",
       "      <td>suisse, droit, personne, faire, cas, pays, question, dire, donc, loi</td>\n",
       "      <td>[06.05.2018 - Modèle: vrbs_trans.fre-rts 1.0\\r\\n\\r\\nLocuteur MS1 (00:00:00) [89%] :\\r\\n7 heures ...</td>\n",
       "      <td>2010</td>\n",
       "    </tr>\n",
       "    <tr>\n",
       "      <td>2</td>\n",
       "      <td>2</td>\n",
       "      <td>21.0</td>\n",
       "      <td>0.1930</td>\n",
       "      <td>dire, faire, donc, tout, bien, alors, eter, meme, guerre, mem</td>\n",
       "      <td>[08.01.2018 - Modèle: vrbs_trans.fre-rts 1.0\\r\\n\\r\\nLocuteur MS1 (00:00:00) [86%] :\\r\\nParce qu'...</td>\n",
       "      <td>2010</td>\n",
       "    </tr>\n",
       "    <tr>\n",
       "      <td>3</td>\n",
       "      <td>3</td>\n",
       "      <td>38.0</td>\n",
       "      <td>0.1688</td>\n",
       "      <td>falloir, aller, faire, aussi, dire, maintenant, tre, solution, beaucoup, toujours</td>\n",
       "      <td>[02.11.2017 - Modèle: vrbs_trans.fre-rts 1.0\\r\\n\\r\\nLocuteur MS1 (00:00:00) [90%] :\\r\\nRejoint N...</td>\n",
       "      <td>2010</td>\n",
       "    </tr>\n",
       "    <tr>\n",
       "      <td>4</td>\n",
       "      <td>4</td>\n",
       "      <td>32.0</td>\n",
       "      <td>0.1745</td>\n",
       "      <td>pourcent, oui, dire, eter, resultat, tre, vote, aussi, campagne, meme</td>\n",
       "      <td>[19.02.2018 - Modèle: vrbs_trans.fre-rts 1.0\\r\\n\\r\\nLocuteur FS2 (00:00:01) [70%] :\\r\\nNon non n...</td>\n",
       "      <td>2010</td>\n",
       "    </tr>\n",
       "    <tr>\n",
       "      <td>5</td>\n",
       "      <td>5</td>\n",
       "      <td>32.0</td>\n",
       "      <td>0.1866</td>\n",
       "      <td>pourcent, oui, dire, eter, resultat, tre, vote, aussi, campagne, meme</td>\n",
       "      <td>[27.01.2018 - Modèle: vrbs_trans.fre-rts 1.0\\r\\n\\r\\nLocuteur FS2 (00:00:00) [82%] :\\r\\nOh non no...</td>\n",
       "      <td>2010</td>\n",
       "    </tr>\n",
       "    <tr>\n",
       "      <td>6</td>\n",
       "      <td>6</td>\n",
       "      <td>2.0</td>\n",
       "      <td>0.1545</td>\n",
       "      <td>oui, alors, bien, bon, dire, faire, aller, ca, tout, savoir</td>\n",
       "      <td>[11.01.2018 - Modèle: vrbs_trans.fre-rts 1.0\\r\\n\\r\\nLocuteur MS1 (00:00:00) [82%] :\\r\\nDu métal ...</td>\n",
       "      <td>2010</td>\n",
       "    </tr>\n",
       "    <tr>\n",
       "      <td>7</td>\n",
       "      <td>7</td>\n",
       "      <td>24.0</td>\n",
       "      <td>0.1419</td>\n",
       "      <td>suisse, accord, pays, dire, donc, immigration, autre, bien, negociation, vouloir</td>\n",
       "      <td>[17.01.2018 - Modèle: vrbs_trans.fre-rts 1.0\\r\\n\\r\\nLocuteur MS1 (00:00:00) [86%] :\\r\\nNicolas L...</td>\n",
       "      <td>2010</td>\n",
       "    </tr>\n",
       "    <tr>\n",
       "      <td>8</td>\n",
       "      <td>8</td>\n",
       "      <td>2.0</td>\n",
       "      <td>0.2352</td>\n",
       "      <td>oui, alors, bien, bon, dire, faire, aller, ca, tout, savoir</td>\n",
       "      <td>[08.02.2016 - Modèle: vrbs_trans.fre-rts 1.0\\r\\n\\r\\nLocuteur FS2 (00:00:12) [89%] :\\r\\nSi aucune...</td>\n",
       "      <td>2010</td>\n",
       "    </tr>\n",
       "    <tr>\n",
       "      <td>9</td>\n",
       "      <td>9</td>\n",
       "      <td>36.0</td>\n",
       "      <td>0.3373</td>\n",
       "      <td>sant, systeme, aussi, bien, faire, cout, prime, medecin, alors, donc</td>\n",
       "      <td>[16.05.2015 - Modèle: vrbs_trans.fre-rts 1.0\\r\\n\\r\\nLocuteur MS1 (00:00:00) [94%] :\\r\\nUne initi...</td>\n",
       "      <td>2010</td>\n",
       "    </tr>\n",
       "  </tbody>\n",
       "</table>\n",
       "</div>"
      ],
      "text/plain": [
       "   Document_No  Dominant_Topic  Topic_Perc_Contrib  \\\n",
       "0            0            38.0              0.2269   \n",
       "1            1            10.0              0.0993   \n",
       "2            2            21.0              0.1930   \n",
       "3            3            38.0              0.1688   \n",
       "4            4            32.0              0.1745   \n",
       "5            5            32.0              0.1866   \n",
       "6            6             2.0              0.1545   \n",
       "7            7            24.0              0.1419   \n",
       "8            8             2.0              0.2352   \n",
       "9            9            36.0              0.3373   \n",
       "\n",
       "                                                                            Keywords  \\\n",
       "0  falloir, aller, faire, aussi, dire, maintenant, tre, solution, beaucoup, toujours   \n",
       "1               suisse, droit, personne, faire, cas, pays, question, dire, donc, loi   \n",
       "2                      dire, faire, donc, tout, bien, alors, eter, meme, guerre, mem   \n",
       "3  falloir, aller, faire, aussi, dire, maintenant, tre, solution, beaucoup, toujours   \n",
       "4              pourcent, oui, dire, eter, resultat, tre, vote, aussi, campagne, meme   \n",
       "5              pourcent, oui, dire, eter, resultat, tre, vote, aussi, campagne, meme   \n",
       "6                        oui, alors, bien, bon, dire, faire, aller, ca, tout, savoir   \n",
       "7   suisse, accord, pays, dire, donc, immigration, autre, bien, negociation, vouloir   \n",
       "8                        oui, alors, bien, bon, dire, faire, aller, ca, tout, savoir   \n",
       "9               sant, systeme, aussi, bien, faire, cout, prime, medecin, alors, donc   \n",
       "\n",
       "                                                                                                  Text  \\\n",
       "0  [16.09.2019 - Modèle: vrbs_trans.fre-rts 1.0\\r\\n\\r\\nLocuteur MS1 (00:00:00) [93%] :\\r\\nSimonetta...   \n",
       "1  [06.05.2018 - Modèle: vrbs_trans.fre-rts 1.0\\r\\n\\r\\nLocuteur MS1 (00:00:00) [89%] :\\r\\n7 heures ...   \n",
       "2  [08.01.2018 - Modèle: vrbs_trans.fre-rts 1.0\\r\\n\\r\\nLocuteur MS1 (00:00:00) [86%] :\\r\\nParce qu'...   \n",
       "3  [02.11.2017 - Modèle: vrbs_trans.fre-rts 1.0\\r\\n\\r\\nLocuteur MS1 (00:00:00) [90%] :\\r\\nRejoint N...   \n",
       "4  [19.02.2018 - Modèle: vrbs_trans.fre-rts 1.0\\r\\n\\r\\nLocuteur FS2 (00:00:01) [70%] :\\r\\nNon non n...   \n",
       "5  [27.01.2018 - Modèle: vrbs_trans.fre-rts 1.0\\r\\n\\r\\nLocuteur FS2 (00:00:00) [82%] :\\r\\nOh non no...   \n",
       "6  [11.01.2018 - Modèle: vrbs_trans.fre-rts 1.0\\r\\n\\r\\nLocuteur MS1 (00:00:00) [82%] :\\r\\nDu métal ...   \n",
       "7  [17.01.2018 - Modèle: vrbs_trans.fre-rts 1.0\\r\\n\\r\\nLocuteur MS1 (00:00:00) [86%] :\\r\\nNicolas L...   \n",
       "8  [08.02.2016 - Modèle: vrbs_trans.fre-rts 1.0\\r\\n\\r\\nLocuteur FS2 (00:00:12) [89%] :\\r\\nSi aucune...   \n",
       "9  [16.05.2015 - Modèle: vrbs_trans.fre-rts 1.0\\r\\n\\r\\nLocuteur MS1 (00:00:00) [94%] :\\r\\nUne initi...   \n",
       "\n",
       "   Year  \n",
       "0  2010  \n",
       "1  2010  \n",
       "2  2010  \n",
       "3  2010  \n",
       "4  2010  \n",
       "5  2010  \n",
       "6  2010  \n",
       "7  2010  \n",
       "8  2010  \n",
       "9  2010  "
      ]
     },
     "execution_count": 49,
     "metadata": {},
     "output_type": "execute_result"
    }
   ],
   "source": [
    "#Attempt to look at the document topic distribution for the above selected topics and then this over time\n",
    "def format_topics_sentences(ldamodel, corpus, all_party_data):\n",
    "    # Init output\n",
    "    sent_topics_df = pd.DataFrame()\n",
    "    texts=all_party_data['text'].astype(str).str.lower()\n",
    "    \n",
    "    # Get main topic in each document\n",
    "    for i, row in enumerate(ldamodel[corpus]):\n",
    "        row = sorted(row, key=lambda x: (x[1]), reverse=True)\n",
    "        # Get the Dominant topic, Perc Contribution and Keywords for each document\n",
    "        for j, (topic_num, prop_topic) in enumerate(row):\n",
    "            if j == 0:  # => dominant topic\n",
    "                wp = ldamodel.show_topic(topic_num)\n",
    "                topic_keywords = \", \".join([word for word, prop in wp])\n",
    "                sent_topics_df = sent_topics_df.append(pd.Series([int(topic_num), round(prop_topic,4), topic_keywords]), ignore_index=True)\n",
    "            else:\n",
    "                break\n",
    "    sent_topics_df.columns = ['Dominant_Topic', 'Perc_Contribution', 'Topic_Keywords']\n",
    "\n",
    "    # Add original text to the end of the output\n",
    "    sent_topics_df.reset_index(drop=True, inplace=True)\n",
    "    all_party_data.reset_index(drop=True, inplace=True)\n",
    "    sent_topics_df = pd.concat([sent_topics_df, all_party_data[['text', 'year']]], axis=1)\n",
    "    return(sent_topics_df)\n",
    "\n",
    "\n",
    "df_topic_sents_keywords = format_topics_sentences(ldamodel=optimal_model, corpus=corpus, all_party_data=all_party_topic)\n",
    "\n",
    "# Format\n",
    "df_dominant_topic = df_topic_sents_keywords.reset_index()\n",
    "df_dominant_topic.columns = ['Document_No', 'Dominant_Topic', 'Topic_Perc_Contrib', 'Keywords', 'Text', 'Year']\n",
    "\n",
    "# Show\n",
    "df_dominant_topic.head(10)"
   ]
  },
  {
   "cell_type": "code",
   "execution_count": 50,
   "metadata": {},
   "outputs": [],
   "source": [
    "df_dominant_topic = df_dominant_topic[df_dominant_topic['Dominant_Topic'].isin(selected_topics)]\n",
    "#Want to eliminate all rows if they are not a part of the "
   ]
  },
  {
   "cell_type": "code",
   "execution_count": 52,
   "metadata": {},
   "outputs": [
    {
     "name": "stdout",
     "output_type": "stream",
     "text": [
      "                     Document_No  Topic_Perc_Contrib  Keywords  Text\n",
      "Year Dominant_Topic                                                 \n",
      "2010 0.0                       3                   3         3     3\n",
      "     8.0                       1                   1         1     1\n",
      "     14.0                      2                   2         2     2\n",
      "     19.0                      2                   2         2     2\n",
      "     22.0                      3                   3         3     3\n",
      "     24.0                      2                   2         2     2\n",
      "     36.0                      1                   1         1     1\n",
      "2011 0.0                       2                   2         2     2\n",
      "     8.0                       5                   5         5     5\n",
      "     12.0                      2                   2         2     2\n",
      "     14.0                     13                  13        13    13\n",
      "     19.0                      5                   5         5     5\n",
      "     22.0                      2                   2         2     2\n",
      "     24.0                      6                   6         6     6\n",
      "     36.0                      4                   4         4     4\n",
      "2012 0.0                       3                   3         3     3\n",
      "     8.0                       7                   7         7     7\n",
      "     12.0                      6                   6         6     6\n",
      "     14.0                      6                   6         6     6\n",
      "     19.0                      4                   4         4     4\n",
      "     20.0                      2                   2         2     2\n",
      "     22.0                      1                   1         1     1\n",
      "     24.0                      8                   8         8     8\n",
      "     36.0                      3                   3         3     3\n",
      "2013 0.0                       1                   1         1     1\n",
      "     8.0                       3                   3         3     3\n",
      "     12.0                      9                   9         9     9\n",
      "     14.0                      1                   1         1     1\n",
      "     19.0                      7                   7         7     7\n",
      "     22.0                      5                   5         5     5\n",
      "     24.0                      3                   3         3     3\n",
      "     36.0                      1                   1         1     1\n",
      "2014 0.0                       3                   3         3     3\n",
      "     8.0                       8                   8         8     8\n",
      "     12.0                      6                   6         6     6\n",
      "     14.0                      2                   2         2     2\n",
      "     19.0                      1                   1         1     1\n",
      "     20.0                      5                   5         5     5\n",
      "     22.0                      3                   3         3     3\n",
      "     24.0                     14                  14        14    14\n",
      "     36.0                      7                   7         7     7\n",
      "2015 8.0                       1                   1         1     1\n",
      "     12.0                      6                   6         6     6\n",
      "     14.0                      4                   4         4     4\n",
      "     19.0                      3                   3         3     3\n",
      "     20.0                      2                   2         2     2\n",
      "     22.0                      1                   1         1     1\n",
      "     24.0                      7                   7         7     7\n",
      "     36.0                      2                   2         2     2\n",
      "2016 0.0                       2                   2         2     2\n",
      "     8.0                       6                   6         6     6\n",
      "     12.0                     23                  23        23    23\n",
      "     14.0                      6                   6         6     6\n",
      "     19.0                     10                  10        10    10\n",
      "     20.0                     15                  15        15    15\n",
      "     22.0                      3                   3         3     3\n",
      "     24.0                     19                  19        19    19\n",
      "     36.0                      5                   5         5     5\n",
      "2017 0.0                       7                   7         7     7\n",
      "     8.0                       9                   9         9     9\n",
      "     12.0                      6                   6         6     6\n",
      "     14.0                     10                  10        10    10\n",
      "     19.0                      8                   8         8     8\n",
      "     20.0                     25                  25        25    25\n",
      "     22.0                      8                   8         8     8\n",
      "     24.0                     10                  10        10    10\n",
      "     36.0                      7                   7         7     7\n",
      "2018 0.0                      22                  22        22    22\n",
      "     8.0                      26                  26        26    26\n",
      "     12.0                     21                  21        21    21\n",
      "     14.0                      6                   6         6     6\n",
      "     19.0                     11                  11        11    11\n",
      "     20.0                     26                  26        26    26\n",
      "     22.0                     12                  12        12    12\n",
      "     24.0                     37                  37        37    37\n",
      "     36.0                     20                  20        20    20\n",
      "2019 0.0                      15                  15        15    15\n",
      "     8.0                      11                  11        11    11\n",
      "     12.0                     11                  11        11    11\n",
      "     14.0                     11                  11        11    11\n",
      "     19.0                     12                  12        12    12\n",
      "     20.0                     18                  18        18    18\n",
      "     22.0                      9                   9         9     9\n",
      "     24.0                     20                  20        20    20\n",
      "     36.0                     12                  12        12    12\n"
     ]
    }
   ],
   "source": [
    "with pd.option_context('display.max_rows', None, 'display.max_columns', None):  # more options can be specified also\n",
    "    print(df_dominant_topic.groupby(['Year', 'Dominant_Topic']).count())"
   ]
  },
  {
   "cell_type": "code",
   "execution_count": null,
   "metadata": {},
   "outputs": [],
   "source": []
  }
 ],
 "metadata": {
  "kernelspec": {
   "display_name": "Python [conda env:ada] *",
   "language": "python",
   "name": "conda-env-ada-py"
  },
  "language_info": {
   "codemirror_mode": {
    "name": "ipython",
    "version": 3
   },
   "file_extension": ".py",
   "mimetype": "text/x-python",
   "name": "python",
   "nbconvert_exporter": "python",
   "pygments_lexer": "ipython3",
   "version": "3.7.4"
  }
 },
 "nbformat": 4,
 "nbformat_minor": 2
}
