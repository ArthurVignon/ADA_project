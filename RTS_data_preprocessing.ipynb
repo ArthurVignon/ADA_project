{
 "cells": [
  {
   "cell_type": "markdown",
   "metadata": {},
   "source": [
    "# RTS Data Processing\n"
   ]
  },
  {
   "cell_type": "code",
   "execution_count": 132,
   "metadata": {},
   "outputs": [],
   "source": [
    "import json\n",
    "import tokenize\n",
    "import numpy as np\n",
    "import pandas as pd\n",
    "import os\n",
    "import re\n",
    "from itertools import islice\n",
    "\n",
    "\n",
    "BASE_PATH ='data/RTS_dataset_per_year/{}/{}'\n",
    "parties = r\"\\bUDC\\b|\\bVerts\\b|\\bPS\\b|\\bPDC\\b|\\bPLR\\b|\\bPES\\b|Vert lib|Vert'lib|Verte lib|Vert-lib|Verts lib|Verts-lib|Verte-lib|\\bVerte\\b|\\bVert\\b|\\bPVL\\b\"\n",
    "thematicGeographicals = r'Geneve|Suisse|Valais|Berne|Zurich|Vaud|Fribourg|Neuchatel|Sion|canton|Bale|Vevey|Jura|Montreux|Bienne|GRUYÈRE|Lucerne|TESSIN|Winterthour|Lugano'\n",
    "thematicThemes = r\"DÉBAT|POLITIQUE|LÉGISLATIF|élection|exécutif|conseiller|initiative populaire|votation|référendum|PRÉSIDENT|Vote|CANDIDAT|CAMPAGNE\"\n",
    "YEARS = np.arange(2010, 2020)"
   ]
  },
  {
   "cell_type": "code",
   "execution_count": 156,
   "metadata": {},
   "outputs": [],
   "source": [
    "#Next, we want to go year by year and find interviews that are with interviews of political parties\n",
    "party_dict =[]\n",
    "contributor_dict = []\n",
    "\n",
    "\n",
    "def read_in(party):   \n",
    "    \n",
    "    for year in YEARS:\n",
    "        if os.path.exists(BASE_PATH.format(year, party)):\n",
    "            files = [f for f in os.listdir(BASE_PATH.format(year, party))]\n",
    "            for file in files:\n",
    "                with open(BASE_PATH.format(year, party)+\"/{}\".format(file), 'r', encoding='utf-8') as fp:\n",
    "                    dicts = json.load(fp)\n",
    "                    for entry in dicts['data']:\n",
    "                        \n",
    "                        #Here we will build a dictionary for looking at the contributors of RTS\n",
    "                        if 'contributors' in entry and 'publicationDate' in entry:\n",
    "                            contributor_dict.append(entry)\n",
    "                        \n",
    "                        #Here we are filtering through the json to build documents for the topic extraction\n",
    "                        if ('speechToTexts' or 'subTitles' or 'summary') in entry and ('publicationDate' in entry):\n",
    "                            if 'genres' in entry:\n",
    "                                if 'Interview' in entry['genres']:\n",
    "                                    if 'thematicGeographicals' in entry:\n",
    "                                        for place in entry['thematicGeographicals']:\n",
    "                                            if re.search(thematicGeographicals,place, re.I):\n",
    "                                                party_dict.append(entry)\n",
    "                                    else:\n",
    "                                        party_dict.append(entry)\n",
    "                            if 'thematicThemes' in entry and 'thematicGeographicals' in entry:\n",
    "                                for place in entry['thematicGeographicals']:\n",
    "                                    if re.search(thematicGeographicals, place, re.I):\n",
    "                                        for theme in entry['thematicThemes']:\n",
    "                                            if re.search(thematicThemes, theme, re.I):\n",
    "                                                party_dict.append(entry)\n",
    "                            if 'title' in entry:\n",
    "                                if re.search(parties, entry['title'], re.I):\n",
    "                                    party_dict.append(entry)\n",
    "                            if 'thematicPersons' in entry: \n",
    "                                for person in entry['thematicPersons']:\n",
    "                                    if re.search(parties, person, re.I):\n",
    "                                        party_dict.append(entry)\n",
    "                            if 'chapters' in entry:\n",
    "                                for chapter in entry['chapters']:\n",
    "                                    if 'excerpt' in chapter:\n",
    "                                        if re.search(parties, chapter['excerpt'], re.I):\n",
    "                                            party_dict.append(chapter)\n",
    "                                        if 'thematicThemes' in chapter and 'thematicGeographicals' in chapter:\n",
    "                                            for place in chapter['thematicGeographicals']:\n",
    "                                                type(place)\n",
    "                                                if re.search(thematicGeographicals, place, re.I):\n",
    "                                                    for theme in chapter['thematicThemes']:\n",
    "                                                        if re.search(thematicThemes, theme, re.I):\n",
    "                                                            party_dict.append(chapter)\n",
    "\n",
    "    return \n",
    "\n",
    "#For each party, convert the json into dictionaries\n",
    "\n",
    "read_in('UDC')\n",
    "read_in('PDC')\n",
    "read_in('PS')\n",
    "read_in('PLR')\n",
    "read_in('PES')\n",
    "read_in('PVL')\n",
    "read_in('Verts')\n",
    "read_in('Politque')"
   ]
  },
  {
   "cell_type": "code",
   "execution_count": 157,
   "metadata": {},
   "outputs": [],
   "source": [
    "all_party_topic = pd.DataFrame.from_dict(party_dict)\n",
    "all_party_contributor = pd.DataFrame.from_dict(contributor_dict)"
   ]
  },
  {
   "cell_type": "markdown",
   "metadata": {},
   "source": [
    "Above, the json created by querying the RTS archive API for each of the party abbreviations was created into lists of dictionaries. However, it was noted that RTS does not often use the abbreviations for the PES and PVL parties and prefers to use the Verts and Verts libéreaux. Another query was made using the key word \"verts\" to find more broadcasts for these parties. Below these broadcasts were sorted into either verts or verts libéraux"
   ]
  },
  {
   "cell_type": "markdown",
   "metadata": {},
   "source": [
    "After reading in the lists of dictionaries, each dictionary is converted to a pandas dataframe. During on our analysis we will look at either the \"speechToTexts\" or \"summary\" collumns in order to do some NLP to determine what the key issues each party were discussing and potentially their sentiment about these topics."
   ]
  },
  {
   "cell_type": "markdown",
   "metadata": {},
   "source": [
    "This next part is for processing the SpeechtoText portions of the interviews, first we analyse what percentage of our desired groups in fact have the SpeechtoText feature"
   ]
  },
  {
   "cell_type": "markdown",
   "metadata": {},
   "source": [
    "Below we are cleaning up the data to get ready to make the topic model. A new attribute of year is added, subTitles and speechToTexts are combined with a preference to subtitles and then all duplicate entries are eliminated"
   ]
  },
  {
   "cell_type": "code",
   "execution_count": 158,
   "metadata": {},
   "outputs": [],
   "source": [
    "#Converting all possible sources of text to one column\n",
    "year = all_party_topic[\"publicationDate\"].str[:4]\n",
    "all_party_topic['year'] = year\n",
    "all_party_topic['text'] = all_party_topic.apply(lambda x: x['subTitles'] if x['speechToTexts'] == None else x['speechToTexts'], axis=1)\n",
    "all_party_topic['text'] = all_party_topic.apply(lambda x: x['excerpt'] if x['text'] == None else x['text'], axis=1)\n",
    "all_party_topic['text'] = all_party_topic.apply(lambda x: x['summary'] if x['text'] == None else x['text'], axis=1)"
   ]
  },
  {
   "cell_type": "code",
   "execution_count": 159,
   "metadata": {},
   "outputs": [],
   "source": [
    "year = all_party_contributor[\"publicationDate\"].str[:4]\n",
    "all_party_contributor['year'] = year"
   ]
  },
  {
   "cell_type": "code",
   "execution_count": 160,
   "metadata": {},
   "outputs": [
    {
     "name": "stdout",
     "output_type": "stream",
     "text": [
      "31306\n",
      "17995\n",
      "25355\n",
      "6937\n"
     ]
    }
   ],
   "source": [
    "#Drop any duplicates\n",
    "print(len(all_party_contributor))\n",
    "all_party_contributor= all_party_contributor.drop_duplicates('internalArchiveId')\n",
    "print(len(all_party_contributor))\n",
    "\n",
    "print(len(all_party_topic))\n",
    "all_party_topic= all_party_topic.drop_duplicates('internalArchiveId')\n",
    "print(len(all_party_topic))"
   ]
  },
  {
   "cell_type": "markdown",
   "metadata": {},
   "source": [
    "Below we will be looking at the number of times a representative from each party is a contributor on RTS."
   ]
  },
  {
   "cell_type": "code",
   "execution_count": 161,
   "metadata": {},
   "outputs": [],
   "source": [
    "all_party_contributor = all_party_contributor[['contributors', 'publicationDate', 'year', 'internalArchiveId']]\n"
   ]
  },
  {
   "cell_type": "code",
   "execution_count": 162,
   "metadata": {},
   "outputs": [],
   "source": [
    "all_party_contributor = all_party_contributor[['contributors', 'publicationDate', 'year', 'internalArchiveId']]\n",
    "contributors = all_party_contributor.explode('contributors')\n",
    "contributors['contributor_role'] = contributors.apply(lambda x: str(x['contributors']['role']) if 'role' in x['contributors'] else x['contributors'] == None, axis=1)\n"
   ]
  },
  {
   "cell_type": "code",
   "execution_count": 175,
   "metadata": {},
   "outputs": [],
   "source": [
    "#For each party, look at the contributor and determine if they were from the party or not\n",
    "contributors['UDC'] = contributors.apply(lambda x: x['contributor_role'] if re.search(r'\\bUDC\\b', str(x['contributor_role'])) else None, axis =1)\n",
    "contributors['PDC'] = contributors.apply(lambda x: x['contributor_role'] if re.search(r'\\bPDC\\b', str(x['contributor_role'])) else None, axis =1)\n",
    "contributors['PS'] = contributors.apply(lambda x: x['contributor_role'] if re.search(r'\\bPS\\b', str(x['contributor_role'])) else None, axis =1)\n",
    "contributors['PLR'] = contributors.apply(lambda x: x['contributor_role'] if re.search(r'\\bPLR\\b', str(x['contributor_role'])) else None, axis =1)\n",
    "contributors['Verts'] = contributors.apply(lambda x: x['contributor_role'] if re.search(r\"Verts|Vert|\\bPES\\b|\\bPVL\\b\", str(x['contributor_role']), re.I) else None, axis =1)\n",
    "contributors['Verts_Libereux'] = contributors.apply(lambda x: x['Verts'] if re.search(r\"Vert lib|Vert'lib|Verte lib|Vert-lib|Verts lib|Verts-lib|Verte-lib|\\bPVL\\b\", str(x['Verts']), re.I) else None, axis =1)\n",
    "contributors['Verts'] = contributors.apply(lambda x: x['Verts'] if x['Verts_Libereux'] == None else None, axis =1)\n"
   ]
  },
  {
   "cell_type": "code",
   "execution_count": 178,
   "metadata": {},
   "outputs": [
    {
     "data": {
      "text/plain": [
       "array([<matplotlib.axes._subplots.AxesSubplot object at 0x000001B10B2EF9C8>],\n",
       "      dtype=object)"
      ]
     },
     "execution_count": 178,
     "metadata": {},
     "output_type": "execute_result"
    },
    {
     "data": {
      "image/png": "[encoded data removed]",
      "text/plain": [
       "<Figure size 432x288 with 1 Axes>"
      ]
     },
     "metadata": {},
     "output_type": "display_data"
    }
   ],
   "source": [
    "#Create a pie chart of the total political contributors and their respective parties\n",
    "contributors[['UDC', 'PDC', 'PS', 'PLR', 'Verts', 'Verts_Libereux']].count().plot(kind='pie', subplots=True, title='RTS political contributors by party')\n"
   ]
  },
  {
   "cell_type": "code",
   "execution_count": 177,
   "metadata": {},
   "outputs": [
    {
     "data": {
      "text/plain": [
       "490"
      ]
     },
     "execution_count": 177,
     "metadata": {},
     "output_type": "execute_result"
    }
   ],
   "source": [
    "contributors['Verts'].count()"
   ]
  },
  {
   "cell_type": "markdown",
   "metadata": {},
   "source": [
    "We can see from above that the potentially useful columns to analyze the broadcasts would be the summary and speechToTexts. At first we will focus on the speechToTexts"
   ]
  },
  {
   "cell_type": "markdown",
   "metadata": {},
   "source": [
    "Now we want to look at the words used in the interviews, by both the interviewer and the interviewee using Robin's bag of words method\n"
   ]
  },
  {
   "cell_type": "code",
   "execution_count": 139,
   "metadata": {},
   "outputs": [],
   "source": [
    "import re\n",
    "\n",
    "str_YEARS = ['2019', '2018', '2017', '2016', '2015', '2014', '2013', '2012','2011','2010']\n",
    "\n",
    "\n",
    "def speech_to_words(speech, year=str_YEARS):\n",
    "    \"\"\"\n",
    "    Return a bag of word sorted by frequency\n",
    "    \n",
    "    lang: {'fr','de'}\n",
    "    username: {'PS Suisse', 'CVP PDC PPD PCD', 'UDC Suisse',\n",
    "       'Les VERTS suisses 🌻', \"Vert'libéraux Suisse\", 'PLR Suisse'}\n",
    "    year: default = [2019, 2018, 2017, 2016, 2015, 2014, 2013, 2012, 2011, 2010]\n",
    "    \n",
    "    \"\"\"\n",
    "    speech_copy = speech.copy()\n",
    "    speech_copy = speech_copy[speech_copy['year'].isin(year)]\n",
    "    speech_copy = speech_copy[\"text\"].astype(str).str.lower()\n",
    "    \n",
    "    for text in speech_copy:\n",
    "        yield(gensim.utils.simple_preprocess(str(text), deacc=True))  # deacc=True removes punctuations"
   ]
  },
  {
   "cell_type": "code",
   "execution_count": 140,
   "metadata": {},
   "outputs": [],
   "source": [
    "import nltk\n",
    "from nltk.corpus import stopwords\n",
    "stopwords_fr = stopwords.words('french')\n",
    "stopwords_fr.extend(['nlocuteur'])"
   ]
  },
  {
   "cell_type": "markdown",
   "metadata": {},
   "source": [
    "Investigation for using Spacy"
   ]
  },
  {
   "cell_type": "code",
   "execution_count": 141,
   "metadata": {},
   "outputs": [],
   "source": [
    "import gensim\n",
    "import gensim.corpora as corpora\n",
    "from gensim.utils import simple_preprocess\n",
    "from gensim.models import CoherenceModel\n",
    "# spacy for lemmatization\n",
    "import spacy\n",
    "\n",
    "from pprint import pprint\n",
    "\n",
    "# Plotting tools\n",
    "import pyLDAvis\n",
    "import pyLDAvis.gensim  # don't skip this\n",
    "import matplotlib.pyplot as plt\n",
    "%matplotlib inline"
   ]
  },
  {
   "cell_type": "code",
   "execution_count": 143,
   "metadata": {},
   "outputs": [],
   "source": [
    "data_words = list(speech_to_words(all_party_topic))\n"
   ]
  },
  {
   "cell_type": "markdown",
   "metadata": {},
   "source": [
    "Creating bigrams"
   ]
  },
  {
   "cell_type": "code",
   "execution_count": 144,
   "metadata": {},
   "outputs": [],
   "source": [
    "# Build the bigram model\n",
    "bigram = gensim.models.Phrases(data_words, min_count=5, threshold=75) # higher threshold fewer phrases.\n"
   ]
  },
  {
   "cell_type": "code",
   "execution_count": 145,
   "metadata": {},
   "outputs": [],
   "source": [
    "# Faster way to get a sentence clubbed as a bigram\n",
    "bigram_mod = gensim.models.phrases.Phraser(bigram)\n"
   ]
  },
  {
   "cell_type": "markdown",
   "metadata": {},
   "source": [
    "Remove stop words, make birgams and lemmatize"
   ]
  },
  {
   "cell_type": "code",
   "execution_count": 146,
   "metadata": {},
   "outputs": [
    {
     "name": "stdout",
     "output_type": "stream",
     "text": [
      "[['aller', 'tre', 'vite', 'mise', 'oeuvr', 'initiative', 'renvoi', 'venir', 'annoncer', 'mise', 'pied', 'groupe', 'travail', 'presid', 'tre', 'respecte', 'ancien', 'directeur', 'office_federal', 'justice', 'assez', 'cote', 'autre', 'personne', 'representant', 'initiative', 'representant', 'canton', 'specialiste', 'police', 'groupe', 'faire', 'part', 'proposition', 'ici', 'mois', 'juin', 'fond', 'mandat', 'groupe', 'travail', 'pose', 'question', 'pouvoir', 'mandat', 'creer', 'maintenant', 'possibilite', 'mise', 'oeuvre', 'population', 'voter', 'novembr', 'examiner', 'aussi', 'juridique', 'possible', 'important', 'moment', 'faire', 'projet', 'loi', 'connaître', 'vraiment', 'possibilite', 'differente', 'possibilite', 'aussi', 'juridiquer', 'penser', 'groupe', 'travail', 'arriver', 'trouver', 'consensus', 'groupe', 'travail', 'mandat', 'chercher', 'solution', 'consensu', 'possible', 'falloir', 'voter', 'groupe', 'travail', 'mandat', 'alors', 'present', 'possibilite', 'differente', 'mission', 'analyse', 'aussi', 'juridiquer', 'croire', 'meilleur', 'chose', 'cancer', 'connaissance', 'caus', 'cause', 'tout', 'possibilite', 'attractif', 'monde', 'tete', 'processus', 'tre', 'transparent', 'tre', 'ouvert', 'prendre', 'mem', 'presidence', 'groupe', 'importance', 'sujet', 'nc', 'tache', 'president', 'untel', 'groupe', 'maintenant', 'question', 'vraiment', 'question', 'juridique', 'poser', 'question', 'aussi', 'technique', 'vouloir', 'concert', 'federal', 'projet', 'responsabilite', 'responsabilite', 'politique', 'aussi', 'responsabilite', 'assurer', 'processus', 'maintenant', 'transparent', 'ouvrir', 'solution', 'possible', 'alors', 'prendre', 'possibilite', 'responsabilite', 'meme', 'mener', 'responsabilite', 'mem', 'personnalite', 'enorm', 'experience', 'traval', 'fait', 'fois', 'travail', 'et', 'peu', 'pareil', 'eter', 'aussi', 'initiative', 'difficile', 'mettre', 'oeuvre', 'Monsieur', 'vraiment', 'trouve', 'personnalite', 'faire', 'travail', 'travail', 'critique', 'membre', 'initiative', 'representer', 'finalement', 'cot', 'initiative', 'groupe', 'travail', 'travail', 'aller', 'voter', 'alors', 'question', 'minorite', 'question', 'amener', 'maintenant', 'vision', 'discuter', 'analyser', 'aussi', 'juridiquer', 'alors', 'travail', 'devoir', 'faire', 'groupe', 'groupe', 'tre', 'petit', 'membre', 'savoir', 'dire', 'membre', 'groupe', 'possibilite', 'ecouter', 'autre', 'personne', 'organisation', 'faire', 'aussi', 'analyse', 'alors', 'pense', 'petit', 'groupe', 'vraiment', 'possible', 'faire', 'travail', 'efficace', 'donner', 'rapport', 'jusqu', 'juin', 'tre', 'vite', 'possibilite', 'amener', 'aussi', 'connaissance', 'supplementaire', 'pouvoir', 'groupe', 'craindre', 'initiative', 'refuse', 'participer', 'groupe', 'travail', 'nc', 'invite', 'possibilit', 'redevenir', 'groupe', 'travail', 'crois', 'occasion', 'souvent', 'entendre', 'maintenant', 'travail', 'faire', 'maintenant', 'vouloir', 'sur', 'travail', 'bien', 'faire', 'maintenant', 'invitation', 'participer', 'processus', 'transparent', 'ouvert', 'bon', 'occasion', 'membre', 'initiative', 'participer', 'processus', 'nsi', 'imaginer', 'ca', 'represent', 'nc', 'ouvert', 'initiative', 'deciderer', 'personnalit', 'envoyer', 'groupe', 'travail', 'possibilite', 'reservation', 'personne', 'decider', 'conseillere_federal', 'interroger', 'studio', 'national', 'entendre', 'invitation', 'soir', 'repondez', 'abord', 'mettre', 'pied', 'groupe', 'travail', 'mois', 'faire', 'bras', 'preliminair', 'destine', 'dresser', 'obstacle', 'chemin', 'concretisation', 'moyen', 'rapide', 'arriver', 'but', 'moyen', 'rapide', 'administration', 'mettre', 'travail', 'option', 'juridique', 'possible', 'passer', 'changer', 'loi', 'faire', 'encore', 'loi', 'meme', 'obstacle', 'mise', 'argument', 'campagne', 'campagne', 'apparemment', 'termine', 'sein', 'groupe', 'travail', 'vouloir', 'encore', 'faire', 'participer', 'monde', 'donc', 'croire', 'nmai', 'invitation', 'formel', 'conseillere_federal', 'voiler', 'invitation', 'formel', 'entendre', 'preambule', 'reponse', 'place', 'initiativ', 'present', 'aller', 'prononcer', 'lancer', 'initiative', 'jouer', 'avis', 'chose', 'reflechir', 'horreur', 'idee', 'falloir', 'maintenant', 'aller', 'sorte', 'table', 'negociation', 'fond', 'monsieur', 'air', 'dire', 'ecoutez', 'peuple', 'malheureusement', 'vote', 'sens', 'contraire', 'aller', 'essayer', 'renegocier', 'contour', 'chose', 'nmai', 'falloir', 'mettre', 'application', 'tout', 'meme', 'oui', 'ailleurs', 'bien', 'suppose', 'travail', 'oui', 'negociation', 'ca', 'suppose', 'administration', 'tache', 'face', 'toujours', 'cas', 'projet', 'soumettre', 'discussion', 'transparence', 'monsieur', 'heure', 'lieu', 'plenum', 'espece', 'antichambr', 'reflexion', 'importe', 'certainement', 'rapidit', 'vise', 'evidemment', 'mettre', 'eau', 'vin', 'texte', 'fond', 'regretter', 'point', 'aujourd_hui', 'edulcorer', 'jeu', 'souhaiteriez', 'participer', 'groupe', 'travail', 'deciderer', 'question', 'deciderer', 'competence', 'dire', 'trouver', 'priori', 'idee', 'tel', 'presentee', 'meme', 'savoir', 'rencontre', 'discuter', 'autre', 'terme', 'negocion', 'mauvais', 'idee', 'maladie', 'simplement', 'mettre', 'oeuvre', 'travail', 'technique', 'administration', 'parfaitement', 'faire', 'seul', 'non', 'compris', 'point', 'voir', 'jour', 'merci']]\n"
     ]
    }
   ],
   "source": [
    "# Define functions for stopwords, bigrams, trigrams and lemmatization\n",
    "def remove_stopwords(texts):\n",
    "    return [[word for word in simple_preprocess(str(doc)) if word not in stopwords_fr] for doc in texts]\n",
    "\n",
    "def make_bigrams(texts):\n",
    "    return [bigram_mod[doc] for doc in texts]\n",
    "\n",
    "def make_trigrams(texts):\n",
    "    return [trigram_mod[bigram_mod[doc]] for doc in texts]\n",
    "\n",
    "def lemmatization(texts, allowed_postags=['NOUN', 'ADJ', 'VERB', 'ADV']):\n",
    "    \"\"\"https://spacy.io/api/annotation\"\"\"\n",
    "    texts_out = []\n",
    "    for sent in texts:\n",
    "        doc = nlp(\" \".join(sent)) \n",
    "        texts_out.append([token.lemma_ for token in doc if token.pos_ in allowed_postags])\n",
    "    return texts_out\n",
    "\n",
    "# Remove Stop Words\n",
    "data_words_nostops = remove_stopwords(data_words)\n",
    "\n",
    "# Form Bigrams\n",
    "data_words_bigrams = make_bigrams(data_words_nostops)\n",
    "\n",
    "# Initialize spacy 'fr_core_news_md' model\n",
    "nlp = spacy.load('fr_core_news_md', disable=['parser', 'ner'])\n",
    "\n",
    "# Do lemmatization keeping only noun, adj, vb, adv\n",
    "data_lemmatized = lemmatization(data_words_bigrams, allowed_postags=['NOUN', 'ADJ', 'VERB', 'ADV'])\n",
    "\n",
    "print(data_lemmatized[:1])"
   ]
  },
  {
   "cell_type": "code",
   "execution_count": 147,
   "metadata": {},
   "outputs": [
    {
     "name": "stdout",
     "output_type": "stream",
     "text": [
      "[[(0, 1), (1, 1), (2, 3), (3, 1), (4, 1), (5, 5), (6, 5), (7, 2), (8, 2), (9, 1), (10, 1), (11, 1), (12, 1), (13, 1), (14, 1), (15, 1), (16, 2), (17, 1), (18, 1), (19, 1), (20, 1), (21, 9), (22, 3), (23, 1), (24, 2), (25, 1), (26, 1), (27, 1), (28, 2), (29, 2), (30, 1), (31, 1), (32, 1), (33, 1), (34, 1), (35, 1), (36, 1), (37, 1), (38, 1), (39, 3), (40, 1), (41, 1), (42, 1), (43, 1), (44, 2), (45, 1), (46, 2), (47, 1), (48, 1), (49, 1), (50, 1), (51, 1), (52, 1), (53, 1), (54, 1), (55, 1), (56, 2), (57, 1), (58, 1), (59, 3), (60, 1), (61, 1), (62, 2), (63, 1), (64, 3), (65, 1), (66, 1), (67, 2), (68, 1), (69, 1), (70, 1), (71, 1), (72, 1), (73, 1), (74, 1), (75, 1), (76, 2), (77, 1), (78, 3), (79, 1), (80, 1), (81, 1), (82, 1), (83, 1), (84, 1), (85, 1), (86, 1), (87, 1), (88, 12), (89, 1), (90, 3), (91, 1), (92, 1), (93, 1), (94, 3), (95, 2), (96, 20), (97, 1), (98, 1), (99, 1), (100, 3), (101, 1), (102, 1), (103, 1), (104, 1), (105, 1), (106, 9), (107, 1), (108, 4), (109, 1), (110, 1), (111, 1), (112, 1), (113, 2), (114, 3), (115, 3), (116, 1), (117, 1), (118, 1), (119, 1), (120, 3), (121, 8), (122, 1), (123, 1), (124, 4), (125, 1), (126, 1), (127, 2), (128, 4), (129, 4), (130, 1), (131, 1), (132, 6), (133, 1), (134, 4), (135, 1), (136, 2), (137, 1), (138, 2), (139, 2), (140, 2), (141, 1), (142, 3), (143, 2), (144, 1), (145, 2), (146, 1), (147, 1), (148, 1), (149, 2), (150, 2), (151, 1), (152, 3), (153, 1), (154, 1), (155, 1), (156, 2), (157, 3), (158, 1), (159, 1), (160, 1), (161, 1), (162, 5), (163, 1), (164, 1), (165, 1), (166, 1), (167, 2), (168, 3), (169, 2), (170, 1), (171, 1), (172, 2), (173, 1), (174, 1), (175, 2), (176, 1), (177, 1), (178, 1), (179, 1), (180, 1), (181, 1), (182, 9), (183, 5), (184, 2), (185, 1), (186, 1), (187, 2), (188, 2), (189, 1), (190, 1), (191, 1), (192, 1), (193, 1), (194, 4), (195, 3), (196, 1), (197, 1), (198, 7), (199, 2), (200, 1), (201, 1), (202, 1), (203, 1), (204, 1), (205, 1), (206, 1), (207, 1), (208, 1), (209, 1), (210, 1), (211, 1), (212, 1), (213, 2), (214, 1), (215, 1), (216, 1), (217, 5), (218, 2), (219, 1), (220, 1), (221, 1), (222, 1), (223, 1), (224, 2), (225, 1), (226, 1), (227, 1), (228, 1), (229, 1), (230, 1), (231, 1), (232, 1), (233, 2), (234, 1), (235, 1), (236, 2), (237, 2), (238, 1), (239, 1), (240, 1), (241, 1), (242, 1), (243, 1), (244, 2), (245, 1), (246, 3), (247, 23), (248, 1), (249, 6), (250, 1), (251, 2), (252, 1), (253, 1), (254, 1), (255, 1), (256, 1), (257, 2), (258, 1), (259, 1), (260, 1), (261, 3), (262, 3), (263, 4)]]\n"
     ]
    }
   ],
   "source": [
    "# Create Dictionary\n",
    "id2word = corpora.Dictionary(data_lemmatized)\n",
    "\n",
    "# Create Corpus\n",
    "texts = data_lemmatized\n",
    "\n",
    "# Term Document Frequency\n",
    "corpus = [id2word.doc2bow(text) for text in texts]\n",
    "\n",
    "# View\n",
    "print(corpus[:1])"
   ]
  },
  {
   "cell_type": "markdown",
   "metadata": {},
   "source": [
    "Creation of the topic model"
   ]
  },
  {
   "cell_type": "code",
   "execution_count": 20,
   "metadata": {},
   "outputs": [],
   "source": [
    "#Saving the politique only model\n",
    ".save('models/RTS_models/all_politique.model')"
   ]
  },
  {
   "cell_type": "code",
   "execution_count": 18,
   "metadata": {},
   "outputs": [
    {
     "name": "stdout",
     "output_type": "stream",
     "text": [
      "[(12,\n",
      "  [('oui', 0.06346635381463517),\n",
      "   ('alors', 0.029058467141781504),\n",
      "   ('bien', 0.025613300880771857),\n",
      "   ('faire', 0.024159939764310353),\n",
      "   ('bon', 0.023617118142499432),\n",
      "   ('dire', 0.022470188586737643),\n",
      "   ('aller', 0.02211560349507083),\n",
      "   ('ca', 0.014192158854121067),\n",
      "   ('meme', 0.011806370274387575),\n",
      "   ('tout', 0.011412386839202227)]),\n",
      " (6,\n",
      "  [('faire', 0.022891337386018236),\n",
      "   ('dire', 0.022511398176291792),\n",
      "   ('donc', 0.017564881926584053),\n",
      "   ('meme', 0.014328092120645312),\n",
      "   ('question', 0.01402121814355857),\n",
      "   ('droit', 0.012589139583820436),\n",
      "   ('bien', 0.011748889408463876),\n",
      "   ('aussi', 0.009922258592471358),\n",
      "   ('tout', 0.009418108487257423),\n",
      "   ('autre', 0.008497486555997195)]),\n",
      " (7,\n",
      "  [('initiative', 0.041403988250790676),\n",
      "   ('suisse', 0.03159889270041629),\n",
      "   ('loi', 0.02525234737650299),\n",
      "   ('peuple', 0.017384321708566075),\n",
      "   ('vote', 0.014883740587601344),\n",
      "   ('dire', 0.013862376467770679),\n",
      "   ('question', 0.012207062204596842),\n",
      "   ('oui', 0.011157522522839814),\n",
      "   ('initiativ', 0.010432001803235964),\n",
      "   ('droit', 0.009924841688561427)]),\n",
      " (10,\n",
      "  [('aller', 0.02206507360892461),\n",
      "   ('faire', 0.021335774390029223),\n",
      "   ('canton', 0.020209132838080485),\n",
      "   ('donc', 0.018654971054365484),\n",
      "   ('dire', 0.017970938683539463),\n",
      "   ('aussi', 0.017110868570221455),\n",
      "   ('tre', 0.01593896017020335),\n",
      "   ('peu', 0.01496823776160466),\n",
      "   ('pourcent', 0.013695736365876844),\n",
      "   ('resultat', 0.013675617766734902)]),\n",
      " (19,\n",
      "  [('ville', 0.02210415518019147),\n",
      "   ('faire', 0.018846173124154177),\n",
      "   ('falloir', 0.015530907867131615),\n",
      "   ('projet', 0.015409181065037914),\n",
      "   ('canton', 0.013669203835110305),\n",
      "   ('aussi', 0.012967484623040735),\n",
      "   ('aller', 0.012144038608877463),\n",
      "   ('donc', 0.01025369297636352),\n",
      "   ('bien', 0.009022104155180191),\n",
      "   ('grand', 0.008420630544834846)]),\n",
      " (9,\n",
      "  [('eter', 0.023649778213672736),\n",
      "   ('dire', 0.02028397565922921),\n",
      "   ('tre', 0.017480997704121436),\n",
      "   ('faire', 0.016004279695963266),\n",
      "   ('meme', 0.011891759356262398),\n",
      "   ('aussi', 0.011752446336624835),\n",
      "   ('donc', 0.010442903952031742),\n",
      "   ('tout', 0.01010855270490159),\n",
      "   ('autre', 0.009450995252212291),\n",
      "   ('peu', 0.00927267458707621)]),\n",
      " (11,\n",
      "  [('faire', 0.0319951117349356),\n",
      "   ('donc', 0.02649138576115689),\n",
      "   ('aller', 0.017804088608659844),\n",
      "   ('oui', 0.0153998060633969),\n",
      "   ('petit', 0.015173989470747896),\n",
      "   ('tre', 0.01425743977117252),\n",
      "   ('eter', 0.01381466213852741),\n",
      "   ('tout', 0.013022090176092665),\n",
      "   ('peu', 0.012685579175282381),\n",
      "   ('gens', 0.01191514609447989)]),\n",
      " (3,\n",
      "  [('eter', 0.01466210347361935),\n",
      "   ('faire', 0.0120637560225982),\n",
      "   ('grand', 0.010267184356463574),\n",
      "   ('matin', 0.009346626973816082),\n",
      "   ('heure', 0.009094216078574026),\n",
      "   ('donc', 0.008916043681932577),\n",
      "   ('tout', 0.0069041803698562),\n",
      "   ('net', 0.006711160273494629),\n",
      "   ('hier', 0.00621376233287058),\n",
      "   ('aller', 0.006191490783290399)]),\n",
      " (16,\n",
      "  [('etat', 0.022103902242364422),\n",
      "   ('mt', 0.020672014235469115),\n",
      "   ('politique', 0.01377670888187619),\n",
      "   ('Monsieur', 0.013366605035241128),\n",
      "   ('conseiller', 0.012880041149402917),\n",
      "   ('decision', 0.011934717028345821),\n",
      "   ('conseil', 0.011496809531091431),\n",
      "   ('affaire', 0.01034295803038939),\n",
      "   ('dossier', 0.009661768590215895),\n",
      "   ('membre', 0.009050088276590717)]),\n",
      " (17,\n",
      "  [('faire', 0.02235130320223962),\n",
      "   ('dire', 0.01756815425842478),\n",
      "   ('aussi', 0.016430378609817806),\n",
      "   ('donc', 0.015202778567899755),\n",
      "   ('bien', 0.013294010210039373),\n",
      "   ('aller', 0.011624773567675195),\n",
      "   ('alors', 0.011460095513271554),\n",
      "   ('falloir', 0.011347815021632708),\n",
      "   ('sant', 0.009895653996436965),\n",
      "   ('gens', 0.009319280806024222)])]\n",
      "\n",
      "Coherence Score:  0.29266758874522925\n"
     ]
    }
   ],
   "source": [
    "import os \n",
    "from gensim.models.wrappers import LdaMallet\n",
    "os.environ.update({'MALLET_HOME': r'C:/Users/Isabelle/Downloads/mallet-2.0.8/mallet-2.0.8/'})\n",
    "mallet_path = 'C:\\\\Users\\\\Isabelle\\\\Downloads\\\\mallet-2.0.8\\\\mallet-2.0.8\\\\bin\\\\mallet'\n",
    "\n",
    "ldamallet = gensim.models.wrappers.LdaMallet(mallet_path, corpus=corpus, num_topics=20, id2word=id2word) # update this path\n",
    "\n",
    "\n",
    "# Show Topics\n",
    "pprint(ldamallet.show_topics(formatted=False))\n",
    "\n",
    "# Compute Coherence Score\n",
    "coherence_model_ldamallet = CoherenceModel(model=ldamallet, texts=data_lemmatized, dictionary=id2word, coherence='c_v')\n",
    "coherence_ldamallet = coherence_model_ldamallet.get_coherence()\n",
    "print('\\nCoherence Score: ', coherence_ldamallet)"
   ]
  },
  {
   "cell_type": "markdown",
   "metadata": {},
   "source": [
    "Now we want to find the optimal number of topics by looking at their coherence values"
   ]
  },
  {
   "cell_type": "code",
   "execution_count": 152,
   "metadata": {},
   "outputs": [
    {
     "data": {
      "image/png": "[encoded data removed]",
      "text/plain": [
       "<Figure size 432x288 with 1 Axes>"
      ]
     },
     "metadata": {
      "needs_background": "light"
     },
     "output_type": "display_data"
    }
   ],
   "source": [
    "import os \n",
    "from gensim.models.wrappers import LdaMallet\n",
    "os.environ.update({'MALLET_HOME': r'C:/Users/Isabelle/Downloads/mallet-2.0.8/mallet-2.0.8/'})\n",
    "mallet_path = 'C:\\\\Users\\\\Isabelle\\\\Downloads\\\\mallet-2.0.8\\\\mallet-2.0.8\\\\bin\\\\mallet'\n",
    "\n",
    "def compute_coherence_values(dictionary, corpus, texts, limit, start=2, step=3):\n",
    "    \"\"\"\n",
    "    Compute c_v coherence for various number of topics\n",
    "\n",
    "    Parameters:\n",
    "    ----------\n",
    "    dictionary : Gensim dictionary\n",
    "    corpus : Gensim corpus\n",
    "    texts : List of input texts\n",
    "    limit : Max num of topics\n",
    "\n",
    "    Returns:\n",
    "    -------\n",
    "    model_list : List of LDA topic models\n",
    "    coherence_values : Coherence values corresponding to the LDA model with respective number of topics\n",
    "    \"\"\"\n",
    "    #coherence_values = []\n",
    "    #model_list = []\n",
    "    for num_topics in range(start, limit, step):\n",
    "        model = gensim.models.wrappers.LdaMallet(mallet_path, corpus=corpus, num_topics=num_topics, id2word=id2word)\n",
    "        model_list.append(model)\n",
    "        coherencemodel = CoherenceModel(model=model, texts=texts, dictionary=dictionary, coherence='c_v')\n",
    "        coherence_values.append(coherencemodel.get_coherence())\n",
    "\n",
    "    return model_list, coherence_values\n",
    "# Can take a long time to run.\n",
    "model_list, coherence_values = compute_coherence_values(dictionary=id2word, corpus=corpus, texts=data_lemmatized, start=44, limit=60, step=6)\n",
    "# Show graph\n",
    "limit=60; start=2; step=6;\n",
    "x = range(start, limit, step)\n",
    "plt.plot(x, coherence_values)\n",
    "plt.xlabel(\"Num Topics\")\n",
    "plt.ylabel(\"Coherence score\")\n",
    "plt.legend((\"coherence_values\"), loc='best')\n",
    "plt.show()\n",
    "\n"
   ]
  },
  {
   "cell_type": "code",
   "execution_count": 153,
   "metadata": {},
   "outputs": [
    {
     "name": "stdout",
     "output_type": "stream",
     "text": [
      "Num Topics = 2  has Coherence Value of 0.239\n",
      "Num Topics = 8  has Coherence Value of 0.2704\n",
      "Num Topics = 14  has Coherence Value of 0.2865\n",
      "Num Topics = 20  has Coherence Value of 0.3022\n",
      "Num Topics = 26  has Coherence Value of 0.3075\n",
      "Num Topics = 32  has Coherence Value of 0.3129\n",
      "Num Topics = 38  has Coherence Value of 0.3258\n",
      "Num Topics = 44  has Coherence Value of 0.3201\n",
      "Num Topics = 50  has Coherence Value of 0.3223\n",
      "Num Topics = 56  has Coherence Value of 0.3231\n"
     ]
    }
   ],
   "source": [
    "for m, cv in zip(x, coherence_values):\n",
    "    print(\"Num Topics =\", m, \" has Coherence Value of\", round(cv, 4))"
   ]
  },
  {
   "cell_type": "code",
   "execution_count": 155,
   "metadata": {},
   "outputs": [
    {
     "name": "stdout",
     "output_type": "stream",
     "text": [
      "[(23,\n",
      "  '0.024*\"faire\" + 0.018*\"marche\" + 0.018*\"aussi\" + 0.017*\"prix\" + '\n",
      "  '0.016*\"donc\" + 0.015*\"suisse\" + 0.013*\"consommateur\" + 0.013*\"dire\" + '\n",
      "  '0.012*\"alors\" + 0.009*\"bien\" + 0.009*\"aller\" + 0.009*\"sant\" + '\n",
      "  '0.008*\"falloir\" + 0.008*\"produire\" + 0.007*\"voir\"'),\n",
      " (24,\n",
      "  '0.053*\"canton\" + 0.025*\"pourcent\" + 0.023*\"oui\" + 0.021*\"dire\" + '\n",
      "  '0.019*\"eter\" + 0.018*\"aussi\" + 0.017*\"tre\" + 0.016*\"resultat\" + '\n",
      "  '0.014*\"vote\" + 0.013*\"aller\" + 0.013*\"meme\" + 0.012*\"donc\" + '\n",
      "  '0.011*\"campagne\" + 0.010*\"bien\" + 0.009*\"suisse\"'),\n",
      " (15,\n",
      "  '0.021*\"faire\" + 0.021*\"dire\" + 0.015*\"question\" + 0.015*\"autre\" + '\n",
      "  '0.014*\"aussi\" + 0.013*\"ecole\" + 0.012*\"droit\" + 0.011*\"meme\" + '\n",
      "  '0.011*\"falloir\" + 0.010*\"valeur\" + 0.010*\"donc\" + 0.010*\"bien\" + '\n",
      "  '0.010*\"tout\" + 0.010*\"religion\" + 0.009*\"cas\"'),\n",
      " (3,\n",
      "  '0.077*\"initiative\" + 0.029*\"peuple\" + 0.027*\"suisse\" + 0.020*\"loi\" + '\n",
      "  '0.020*\"initiativ\" + 0.020*\"vote\" + 0.015*\"texte\" + 0.014*\"projet\" + '\n",
      "  '0.013*\"votation\" + 0.013*\"constitution\" + 0.012*\"population\" + '\n",
      "  '0.011*\"alors\" + 0.011*\"question\" + 0.010*\"campagne\" + 0.009*\"voter\"'),\n",
      " (35,\n",
      "  '0.040*\"donc\" + 0.027*\"faire\" + 0.015*\"oui\" + 0.013*\"petit\" + 0.012*\"alors\" '\n",
      "  '+ 0.011*\"voir\" + 0.011*\"bien\" + 0.010*\"eau\" + 0.010*\"tout\" + 0.009*\"peu\" + '\n",
      "  '0.009*\"grand\" + 0.009*\"point\" + 0.009*\"aller\" + 0.008*\"ca\" + 0.008*\"tre\"'),\n",
      " (14,\n",
      "  '0.036*\"donc\" + 0.028*\"dire\" + 0.019*\"alors\" + 0.015*\"exemple\" + '\n",
      "  '0.014*\"meme\" + 0.013*\"bien\" + 0.011*\"tre\" + 0.011*\"faire\" + 0.009*\"autre\" + '\n",
      "  '0.009*\"forme\" + 0.008*\"grand\" + 0.008*\"idee\" + 0.008*\"effectivement\" + '\n",
      "  '0.008*\"rapport\" + 0.007*\"appeler\"'),\n",
      " (20,\n",
      "  '0.028*\"suisse\" + 0.027*\"aussi\" + 0.021*\"romand\" + 0.015*\"media\" + '\n",
      "  '0.014*\"faire\" + 0.013*\"journal\" + 0.012*\"allemand\" + 0.012*\"tre\" + '\n",
      "  '0.012*\"information\" + 0.011*\"presse\" + 0.011*\"autre\" + 0.011*\"tout\" + '\n",
      "  '0.010*\"peu\" + 0.010*\"dire\" + 0.010*\"journaliste\"'),\n",
      " (22,\n",
      "  '0.054*\"dire\" + 0.038*\"Monsieur\" + 0.029*\"falloir\" + 0.026*\"faire\" + '\n",
      "  '0.025*\"aller\" + 0.023*\"question\" + 0.023*\"bien\" + 0.021*\"meme\" + '\n",
      "  '0.020*\"tout\" + 0.017*\"crois\" + 0.015*\"alors\" + 0.014*\"effectivement\" + '\n",
      "  '0.014*\"monsieur\" + 0.013*\"vouloir\" + 0.012*\"savoir\"'),\n",
      " (19,\n",
      "  '0.020*\"franc\" + 0.018*\"faire\" + 0.014*\"donc\" + 0.014*\"payer\" + '\n",
      "  '0.014*\"projet\" + 0.013*\"retraite\" + 0.012*\"impot\" + 0.012*\"canton\" + '\n",
      "  '0.011*\"systeme\" + 0.010*\"reform\" + 0.010*\"bien\" + 0.010*\"pourcent\" + '\n",
      "  '0.010*\"alors\" + 0.009*\"cout\" + 0.009*\"reforme\"'),\n",
      " (13,\n",
      "  '0.068*\"eter\" + 0.029*\"tre\" + 0.022*\"oui\" + 0.021*\"aussi\" + 0.017*\"dire\" + '\n",
      "  '0.016*\"beaucoup\" + 0.015*\"faire\" + 0.014*\"toujours\" + 0.014*\"tout\" + '\n",
      "  '0.013*\"meme\" + 0.013*\"bien\" + 0.012*\"peu\" + 0.011*\"grand\" + 0.010*\"etai\" + '\n",
      "  '0.010*\"autre\"'),\n",
      " (16,\n",
      "  '0.090*\"femme\" + 0.030*\"enfant\" + 0.027*\"faire\" + 0.027*\"aussi\" + '\n",
      "  '0.026*\"homme\" + 0.019*\"donc\" + 0.016*\"famille\" + 0.015*\"dire\" + '\n",
      "  '0.013*\"question\" + 0.013*\"meme\" + 0.012*\"tout\" + 0.011*\"jeune\" + '\n",
      "  '0.010*\"voir\" + 0.010*\"vraiment\" + 0.010*\"aller\"'),\n",
      " (37,\n",
      "  '0.035*\"dire\" + 0.022*\"politique\" + 0.017*\"faire\" + 0.017*\"aller\" + '\n",
      "  '0.016*\"voir\" + 0.014*\"gens\" + 0.014*\"tout\" + 0.012*\"peu\" + 0.012*\"tre\" + '\n",
      "  '0.012*\"meme\" + 0.011*\"bien\" + 0.011*\"eter\" + 0.011*\"chose\" + 0.011*\"parler\" '\n",
      "  '+ 0.009*\"probleme\"'),\n",
      " (10,\n",
      "  '0.015*\"livre\" + 0.015*\"dire\" + 0.012*\"tre\" + 0.012*\"meme\" + 0.012*\"eter\" + '\n",
      "  '0.011*\"bien\" + 0.011*\"tout\" + 0.011*\"autre\" + 0.010*\"histoire\" + '\n",
      "  '0.010*\"homme\" + 0.008*\"mot\" + 0.008*\"vie\" + 0.008*\"oui\" + 0.006*\"aussi\" + '\n",
      "  '0.006*\"personnage\"'),\n",
      " (26,\n",
      "  '0.038*\"mt\" + 0.032*\"net\" + 0.024*\"musiqu\" + 0.024*\"point\" + 0.022*\"psaume\" '\n",
      "  '+ 0.015*\"donc\" + 0.015*\"version\" + 0.014*\"ici\" + 0.012*\"aussi\" + '\n",
      "  '0.012*\"entendre\" + 0.011*\"grand\" + 0.011*\"aller\" + 0.011*\"eme\" + '\n",
      "  '0.010*\"compositeur\" + 0.010*\"heure\"'),\n",
      " (11,\n",
      "  '0.024*\"faire\" + 0.018*\"arme\" + 0.017*\"suisse\" + 0.015*\"armee\" + 0.014*\"tre\" '\n",
      "  '+ 0.012*\"falloir\" + 0.012*\"tout\" + 0.011*\"service\" + 0.011*\"securite\" + '\n",
      "  '0.010*\"alors\" + 0.009*\"pays\" + 0.009*\"donc\" + 0.009*\"aussi\" + 0.009*\"eter\" '\n",
      "  '+ 0.009*\"guerre\"'),\n",
      " (18,\n",
      "  '0.088*\"faire\" + 0.041*\"aller\" + 0.034*\"donc\" + 0.030*\"dire\" + 0.027*\"gens\" '\n",
      "  '+ 0.019*\"ca\" + 0.019*\"chose\" + 0.016*\"petit\" + 0.016*\"peu\" + 0.013*\"tout\" + '\n",
      "  '0.012*\"alors\" + 0.011*\"coup\" + 0.010*\"prendre\" + 0.010*\"vraiment\" + '\n",
      "  '0.010*\"enfin\"'),\n",
      " (2,\n",
      "  '0.040*\"affaire\" + 0.030*\"etat\" + 0.021*\"genevois\" + 0.018*\"politique\" + '\n",
      "  '0.013*\"conseiller\" + 0.011*\"dossier\" + 0.010*\"faire\" + 0.010*\"prendre\" + '\n",
      "  '0.010*\"conseil\" + 0.010*\"decision\" + 0.009*\"membre\" + 0.009*\"commission\" + '\n",
      "  '0.009*\"grand\" + 0.008*\"confiance\" + 0.007*\"eter\"'),\n",
      " (17,\n",
      "  '0.022*\"aller\" + 0.015*\"faire\" + 0.015*\"dire\" + 0.015*\"donc\" + '\n",
      "  '0.014*\"energie\" + 0.014*\"nucleair\" + 0.012*\"falloir\" + 0.012*\"tre\" + '\n",
      "  '0.011*\"bien\" + 0.009*\"aussi\" + 0.009*\"alors\" + 0.009*\"tout\" + 0.008*\"meme\" '\n",
      "  '+ 0.008*\"electricite\" + 0.008*\"beaucoup\"'),\n",
      " (27,\n",
      "  '0.038*\"ville\" + 0.023*\"projet\" + 0.016*\"faire\" + 0.013*\"falloir\" + '\n",
      "  '0.012*\"donc\" + 0.011*\"lausann\" + 0.010*\"voiture\" + 0.010*\"commune\" + '\n",
      "  '0.009*\"place\" + 0.009*\"construire\" + 0.009*\"canton\" + 0.009*\"region\" + '\n",
      "  '0.008*\"mettre\" + 0.008*\"grand\" + 0.008*\"logement\"'),\n",
      " (32,\n",
      "  '0.028*\"faire\" + 0.026*\"droit\" + 0.019*\"dire\" + 0.017*\"donc\" + 0.017*\"cas\" + '\n",
      "  '0.011*\"eter\" + 0.011*\"peine\" + 0.010*\"meme\" + 0.010*\"personne\" + '\n",
      "  '0.010*\"victime\" + 0.009*\"bien\" + 0.008*\"juge\" + 0.008*\"ete\" + 0.007*\"homme\" '\n",
      "  '+ 0.007*\"prison\"')]\n"
     ]
    }
   ],
   "source": [
    "optimal_model = model_list[6]\n",
    "model_topics = optimal_model.show_topics(formatted=False)\n",
    "pprint(optimal_model.print_topics(num_words=15))"
   ]
  },
  {
   "cell_type": "code",
   "execution_count": 179,
   "metadata": {},
   "outputs": [],
   "source": [
    "#Saving optimal LDA Mallet model\n",
    "optimal_model.save('models/RTS_models/LDAMallet_40topics.model')"
   ]
  },
  {
   "cell_type": "code",
   "execution_count": null,
   "metadata": {},
   "outputs": [],
   "source": []
  }
 ],
 "metadata": {
  "kernelspec": {
   "display_name": "Python [conda env:ada] *",
   "language": "python",
   "name": "conda-env-ada-py"
  },
  "language_info": {
   "codemirror_mode": {
    "name": "ipython",
    "version": 3
   },
   "file_extension": ".py",
   "mimetype": "text/x-python",
   "name": "python",
   "nbconvert_exporter": "python",
   "pygments_lexer": "ipython3",
   "version": "3.7.4"
  }
 },
 "nbformat": 4,
 "nbformat_minor": 2
}
