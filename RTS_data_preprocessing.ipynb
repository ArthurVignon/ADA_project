{
 "cells": [
  {
   "cell_type": "markdown",
   "metadata": {},
   "source": [
    "# RTS Data Processing\n"
   ]
  },
  {
   "cell_type": "markdown",
   "metadata": {},
   "source": []
  },
  {
   "cell_type": "code",
   "execution_count": 1,
   "metadata": {},
   "outputs": [],
   "source": [
    "import json\n",
    "import tokenize\n",
    "import numpy as np\n",
    "import pandas as pd\n",
    "import os\n",
    "import re\n",
    "from itertools import islice\n",
    "\n",
    "\n",
    "BASE_PATH ='data/RTS_dataset_per_year/{}/{}'\n",
    "YEARS = np.arange(2010, 2020)"
   ]
  },
  {
   "cell_type": "code",
   "execution_count": 2,
   "metadata": {},
   "outputs": [],
   "source": [
    "#Next, we want to go year by year and find interviews that are with interviews of political parties\n",
    "    \n",
    "def read_in(party):\n",
    "    party_dict =[]\n",
    "    \n",
    "    for year in YEARS:\n",
    "        if os.path.exists(BASE_PATH.format(year, party)):\n",
    "            files = [f for f in os.listdir(BASE_PATH.format(year, party))]\n",
    "            for file in files:\n",
    "                with open(BASE_PATH.format(year, party)+\"/{}\".format(file), 'r', encoding='utf-8') as fp:\n",
    "                    dicts = json.load(fp)\n",
    "                    for entry in dicts['data']:\n",
    "                        if ('speechToTexts' or 'subTitles') in entry and ('publicationDate' in entry):\n",
    "                            if 'genres' in entry:\n",
    "                                if 'Interview' in entry['genres']:\n",
    "                                    party_dict.append(entry)\n",
    "                            if 'thematicThemes' in entry:\n",
    "                                for theme in entry['thematicThemes']:\n",
    "                                    if \"DÉBAT\" or \"POLITIQUE\" in theme:\n",
    "                                        party_dict.append(entry)\n",
    "                            if 'title' in entry:\n",
    "                                if \"débat\" in entry['title']:\n",
    "                                    party_dict.append(entry)\n",
    "                            if 'thematicPersons' in entry:\n",
    "                                for person in entry['thematicPersons']:\n",
    "                                    if re.search(r'\\bUDC\\b|\\bVerts\\b|\\bPS\\b|\\bPDC\\b|\\bPLR\\b|\\bPES\\b', person):\n",
    "                                        party_dict.append(entry)\n",
    "\n",
    "    return party_dict\n",
    "\n",
    "#For each party, convert the json into dictionaries\n",
    "\n",
    "UDC_dictionary = read_in('UDC')\n",
    "PDC_dictionary = read_in('PDC')\n",
    "PS_dictionary = read_in('PS')\n",
    "PLR_dictionary = read_in('PLR')\n",
    "PES_dictionary = read_in('PES')\n",
    "PVL_dictionary = read_in('PVL')\n",
    "Verts_dictionary = read_in('Verts')\n",
    "Politique_dictionary = read_in('Politque')"
   ]
  },
  {
   "cell_type": "code",
   "execution_count": 2,
   "metadata": {},
   "outputs": [],
   "source": [
    "politique_dict =[]\n",
    "    \n",
    "for year in YEARS:\n",
    "    if os.path.exists(BASE_PATH.format(year, \"Politique\")):\n",
    "        files = [f for f in os.listdir(BASE_PATH.format(year, \"Politique\"))]\n",
    "        for file in files:\n",
    "            with open(BASE_PATH.format(year, \"politique\")+\"/{}\".format(file), 'r', encoding='utf-8') as fp:\n",
    "                dicts = json.load(fp)\n",
    "                for entry in dicts['data']:\n",
    "                    if ('speechToTexts' or 'subTitles') in entry and ('publicationDate' in entry):\n",
    "                        politique_dict.append(entry)\n"
   ]
  },
  {
   "cell_type": "code",
   "execution_count": 3,
   "metadata": {},
   "outputs": [],
   "source": [
    "all_party = pd.DataFrame.from_dict(politique_dict)"
   ]
  },
  {
   "cell_type": "markdown",
   "metadata": {},
   "source": [
    "Above, the json created by querying the RTS archive API for each of the party abbreviations was created into lists of dictionaries. However, it was noted that RTS does not often use the abbreviations for the PES and PVL parties and prefers to use the Verts and Verts libéreaux. Another query was made using the key word \"verts\" to find more broadcasts for these parties. Below these broadcasts were sorted into either verts or verts libéraux"
   ]
  },
  {
   "cell_type": "markdown",
   "metadata": {},
   "source": [
    "After reading in the lists of dictionaries, each dictionary is converted to a pandas dataframe. During on our analysis we will look at either the \"speechToTexts\" or \"summary\" collumns in order to do some NLP to determine what the key issues each party were discussing and potentially their sentiment about these topics."
   ]
  },
  {
   "cell_type": "code",
   "execution_count": 3,
   "metadata": {},
   "outputs": [],
   "source": [
    "UDC_pandas = pd.DataFrame.from_dict(UDC_dictionary)\n",
    "PDC_pandas = pd.DataFrame.from_dict(PDC_dictionary)\n",
    "PS_pandas = pd.DataFrame.from_dict(PS_dictionary)\n",
    "PLR_pandas = pd.DataFrame.from_dict(PLR_dictionary)\n",
    "PES_pandas = pd.DataFrame.from_dict(PES_dictionary)\n",
    "PVL_pandas = pd.DataFrame.from_dict(PVL_dictionary)\n",
    "Verts_pandas = pd.DataFrame.from_dict(Verts_dictionary)\n",
    "Politique_pandas = pd.DataFrame.from_dict(Politique_dictionary)"
   ]
  },
  {
   "cell_type": "markdown",
   "metadata": {},
   "source": [
    "This next part is for processing the SpeechtoText portions of the interviews, first we analyse what percentage of our desired groups in fact have the SpeechtoText feature"
   ]
  },
  {
   "cell_type": "code",
   "execution_count": 4,
   "metadata": {},
   "outputs": [
    {
     "name": "stderr",
     "output_type": "stream",
     "text": [
      "C:\\Users\\Isabelle\\Anaconda3\\envs\\ada\\lib\\site-packages\\ipykernel_launcher.py:2: FutureWarning: Sorting because non-concatenation axis is not aligned. A future version\n",
      "of pandas will change to not sort by default.\n",
      "\n",
      "To accept the future behavior, pass 'sort=False'.\n",
      "\n",
      "To retain the current behavior and silence the warning, pass 'sort=True'.\n",
      "\n",
      "  \n"
     ]
    }
   ],
   "source": [
    "party_pandas = [UDC_pandas, PDC_pandas, PS_pandas, PLR_pandas, PES_pandas, Verts_pandas, Politique_pandas]\n",
    "all_party = pd.concat(party_pandas)"
   ]
  },
  {
   "cell_type": "markdown",
   "metadata": {},
   "source": [
    "Below we are cleaning up the data to get ready to make the topic model. A new attribute of year is added, subTitles and speechToTexts are combined with a preference to subtitles and then all duplicate entries are eliminated"
   ]
  },
  {
   "cell_type": "code",
   "execution_count": 4,
   "metadata": {},
   "outputs": [],
   "source": [
    "year = all_party[\"publicationDate\"].str[:4]\n",
    "all_party['year'] = year\n",
    "all_party['contributor_count']= all_party.contributors.str.len()\n",
    "all_party['text'] = all_party.apply(lambda x: x['subTitles'] if x['speechToTexts'] == 'nan' else x['speechToTexts'], axis=1)"
   ]
  },
  {
   "cell_type": "code",
   "execution_count": null,
   "metadata": {},
   "outputs": [],
   "source": []
  },
  {
   "cell_type": "code",
   "execution_count": 5,
   "metadata": {},
   "outputs": [],
   "source": [
    "pd.options.display.max_colwidth = 500\n",
    "pd.set_option('display.max_rows', all_party.shape[0]+1)"
   ]
  },
  {
   "cell_type": "code",
   "execution_count": 6,
   "metadata": {},
   "outputs": [
    {
     "name": "stdout",
     "output_type": "stream",
     "text": [
      "21257\n",
      "21014\n"
     ]
    }
   ],
   "source": [
    "print(len(all_party))\n",
    "all_party= all_party.drop_duplicates('internalArchiveId')\n",
    "print(len(all_party))"
   ]
  },
  {
   "cell_type": "code",
   "execution_count": null,
   "metadata": {},
   "outputs": [],
   "source": []
  },
  {
   "cell_type": "markdown",
   "metadata": {},
   "source": [
    "We can see from above that the potentially useful columns to analyze the broadcasts would be the summary and speechToTexts. At first we will focus on the speechToTexts"
   ]
  },
  {
   "cell_type": "markdown",
   "metadata": {},
   "source": [
    "Now we want to look at the words used in the interviews, by both the interviewer and the interviewee using Robin's bag of words method\n"
   ]
  },
  {
   "cell_type": "code",
   "execution_count": 7,
   "metadata": {},
   "outputs": [],
   "source": [
    "import re\n",
    "\n",
    "str_YEARS = ['2019', '2018', '2017', '2016', '2015', '2014', '2013', '2012','2011','2010']\n",
    "\n",
    "\n",
    "def speech_to_words(speech, year=str_YEARS):\n",
    "    \"\"\"\n",
    "    Return a bag of word sorted by frequency\n",
    "    \n",
    "    lang: {'fr','de'}\n",
    "    username: {'PS Suisse', 'CVP PDC PPD PCD', 'UDC Suisse',\n",
    "       'Les VERTS suisses 🌻', \"Vert'libéraux Suisse\", 'PLR Suisse'}\n",
    "    year: default = [2019, 2018, 2017, 2016, 2015, 2014, 2013, 2012, 2011, 2010]\n",
    "    \n",
    "    \"\"\"\n",
    "    speech_copy = speech.copy()\n",
    "    speech_copy = speech_copy[speech_copy['year'].isin(year)]\n",
    "    speech_copy = speech_copy[\"text\"].astype(str).str.lower()\n",
    "    \n",
    "    for text in speech_copy:\n",
    "        yield(gensim.utils.simple_preprocess(str(text), deacc=True))  # deacc=True removes punctuations"
   ]
  },
  {
   "cell_type": "code",
   "execution_count": 8,
   "metadata": {},
   "outputs": [],
   "source": [
    "import nltk\n",
    "from nltk.corpus import stopwords\n",
    "stopwords_fr = stopwords.words('french')\n",
    "stopwords_fr.extend(['nlocuteur'])"
   ]
  },
  {
   "cell_type": "markdown",
   "metadata": {},
   "source": [
    "Investigation for using Spacy"
   ]
  },
  {
   "cell_type": "code",
   "execution_count": 9,
   "metadata": {},
   "outputs": [],
   "source": [
    "import gensim\n",
    "import gensim.corpora as corpora\n",
    "from gensim.utils import simple_preprocess\n",
    "from gensim.models import CoherenceModel\n",
    "# spacy for lemmatization\n",
    "import spacy\n",
    "\n",
    "from pprint import pprint\n",
    "\n",
    "# Plotting tools\n",
    "import pyLDAvis\n",
    "import pyLDAvis.gensim  # don't skip this\n",
    "import matplotlib.pyplot as plt\n",
    "%matplotlib inline"
   ]
  },
  {
   "cell_type": "code",
   "execution_count": 10,
   "metadata": {},
   "outputs": [],
   "source": [
    "data_words = list(speech_to_words(all_party))\n"
   ]
  },
  {
   "cell_type": "code",
   "execution_count": null,
   "metadata": {},
   "outputs": [],
   "source": []
  },
  {
   "cell_type": "markdown",
   "metadata": {},
   "source": [
    "Creating bigrams"
   ]
  },
  {
   "cell_type": "code",
   "execution_count": 11,
   "metadata": {},
   "outputs": [],
   "source": [
    "# Build the bigram model\n",
    "bigram = gensim.models.Phrases(data_words, min_count=5, threshold=75) # higher threshold fewer phrases.\n"
   ]
  },
  {
   "cell_type": "code",
   "execution_count": 12,
   "metadata": {},
   "outputs": [],
   "source": [
    "# Faster way to get a sentence clubbed as a bigram\n",
    "bigram_mod = gensim.models.phrases.Phraser(bigram)\n"
   ]
  },
  {
   "cell_type": "markdown",
   "metadata": {},
   "source": [
    "Remove stop words, make birgams and lemmatize"
   ]
  },
  {
   "cell_type": "code",
   "execution_count": 13,
   "metadata": {},
   "outputs": [
    {
     "name": "stdout",
     "output_type": "stream",
     "text": [
      "[['volet', 'serie', 'apparaitre', 'partir', 'janvier', 'janvier', 'fois', 'marche', 'energie', 'longuement', 'evoque', 'augmentation', 'factur', 'electricite', 'semaine', 'emission', 'aller', 'energie', 'electriqu', 'nouveau', 'disposition', 'prevue', 'neh', 'bien', 'demain', 'loi', 'energie', 'vigueur', 'bien', 'serie', 'changement', 'tre', 'visible', 'alors', 'penche', 'plus', 'concerner', 'auditeur', 'savoir', 'nouveau', 'politique', 'concerner', 'retribution', 'prix_coutant', 'courir', 'injecte', 'alors', 'porte_parole', 'office_federal', 'energie', 'explique', 'modification', 'loi', 'energie', 'mt', 'essentiel', 'augmentation', 'moyen', 'promotion', 'courir', 'electriqu', 'origine', 'renouvelable', 'fameux', 'retribution', 'prix_coutant', 'courir', 'injecte', 'issu', 'taxe', 'maximal', 'consommateur', 'pay', 'passer', 'effet', 'centime', 'maximum', 'partir', 'centime', 'maximum', 'hui', 'alors', 'environ', 'million', 'franc', 'fonds', 'hui', 'henry', 'manqu', 'bout', 'exposer', 'retribution', 'prix_coutant', 'energie', 'particulier', 'petit', 'entreprise', 'produire', 'systeme', 'record', 'systeme', 'tre', 'bien', 'donc', 'role', 'produit', 'cite', 'trop', 'donc', 'redistribution', 'distribution', 'voiler', 'donc', 'touch', 'argent', 'exactement', 'tre', 'bien', 'donc', 'loi', 'vigueur', 'partir', 'demain', 'aller', 'sentir', 'effet', 'immediatemer', 'non', 'effectivement', 'important', 'bon', 'direction', 'reproch', 'longtemps', 'confederation', 'faire', 'assez', 'encourager', 'installation', 'fameux', 'panneaux_solaire', 'm', 'rupture', 'bon', 'moment', 'lancer', 'projet', 'installation', 'photovoltaiqu', 'nmai', 'dirai', 'toujours', 'bon', 'moment', 'prendre', 'retard', 'niveau', 'suisse', 'falloir', 'moment', 'rattraper', 'change', 'part', 'maximal', 'fonds', 'photovoltaiqu', 'passer', 'pourcent', 'permettre', 'rattraper', 'retard', 'parallele', 'augmentation', 'fonds', 'detecter', 'donc', 'departement', 'environnement', 'transport', 'communication', 'decid', 'janvier', 'baisser', 'pourcent', 'taux', 'courir', 'photovoltaiqu', 'raison', 'tre', 'simple', 'explique', 'mathieu', 'parle', 'baisse', 'uniquement', 'technologie', 'photovoltaiqu', 'taux', 'baisser', 'effectivement', 'pourcent', 'moyen', 'janvier', 'raison', 'tre', 'simple', 'installation', 'devenir', 'meilleur', 'marche', 'amelioration', 'technologie', 'baiss', 'prix', 'production', 'part', 'maximal', 'fonds', 'photovoltaiqu', 'aller', 'augmenter', 'pourcent', 'ca', 'aller', 'permettre', 'repondre', 'plus', 'demande', 'mt', 'alors', 'aller', 'permettre', 'repondre', 'implicitement', 'augmenter', 'capacite', 'annuel', 'installations_photovoltaique', 'megawatt', 'hui', 'megawatt', 'partir', 'alors', 'liste', 'attent', 'actuel', 'projet', 'annonce', 'commencer', 'reduite', 'supprimer', 'parle', 'chose', 'bien', 'hein', 'faire', 'injecter', 'electricite', 'fabriqu', 'electricite', 'aller', 'donner', 'aller', 'diminuer', 'oui', 'anne', 'prochain', 'revanche', 'incitation', 'concerne', 'installation', 'concerne', 'projet', 'donc', 'ca', 'nouveau', 'projet', 'partir', 'exemple', 'accord', 'm', 'nmai', 'ca', 'dire', 'aussi', 'autre', 'point', 'installer', 'materiel', 'electriqu', 'toit', 'maison', 'bourse', 'faire', 'plus', 'grand', 'exactement', 'accord', 'bien', 'compris', 'donc', 'question', 'lumiere', 'reponse', 'donne', 'ca', 'valoir', 'peine', 'prevoir', 'installation', 'panneaux_solaire', 'oui', 'dire', 'annonce', 'maintenant', 'servi', 'donc', 'di', 'cer', 'mois', 'janvier', 'sans_doute', 'encore', 'patienter', 'moment', 'clair', 'premier', 'inscrit', 'premier', 'servi', 'donc', 'oui', 'interesser', 'lancer', 'maintenant', 'savoir', 'attente', 'pouvoir', 'nouveau', 'loi', 'contenir', 'autre', 'disposition', 'interesser', 'grand', 'public', 'oui', 'meme', 'aller', 'parler', 'chose', 'tre', 'quand', 'parle', 'certificat', 'energetiqu', 'batiment', 'ete', 'faire', 'politique', 'application', 'certificat', 'base', 'mem', 'voiture', 'cantonal', 'harmonise', 'niveau', 'federal', 'certificat', 'unique', 'voila', 'principe', 'federal', 'application', 'canton', 'exactement', 'ecoute', 'propos', 'explication', 'faire', 'loi', 'necessaire', 'etablissement', 'certificat', 'energetiqu', 'batiment', 'uniforme', 'jusqu', 'eter', 'uniformiser', 'canton', 'faire', 'peu', 'nil', 'projet', 'certificat', 'energetiqu', 'cantonal', 'maintenant', 'demande', 'certificat', 'uniforme', 'tout', 'nconcernant', 'certificat', 'facultatif', 'canton', 'utiliser', 'facultatif', 'effectivement', 'canton', 'libre', 'rendre', 'norme', 'contraignant', 'actuellement', 'canton', 'obligatoire', 'faire', 'instant', 'obtention', 'certificat', 'batiment', 'fruit', 'faire', 'individuel', 'faire', 'site', 'point', 'assez', 'gratuit', 'sinon', 'etude', 'plus', 'falloir', 'faire', 'appel', 'expert', 'prix', 'varie', 'fonction', 'batiment', 'certificat', 'alors', 'accompagne', 'rapport', 'averer', 'tre', 'utile', 'precis', 'meme', 'etayer', 'accompagne', 'rapport', 'expert', 'tre', 'utile', 'personne', 'justement', 'souhaite', 'exemple', 'renover', 'maison', 'voir', 'non', 'seulement', 'etat', 'maison', 'egalement', 'commencer', 'lorsqu', 'vouloir', 'renovation', 'absolument', 'certificat', 'subvention', 'renovation', 'programme', 'national', 'batiment', 'falloir', 'absolument', 'certificat', 'certificat', 'aussi', 'utile', 'lors', 'vente', 'batiment', 'chose', 'tre', 'important', 'jour', 'valeur', 'immeuble', 'enfin', 'dernier', 'point', 'concerner', 'loi', 'prevoit', 'favoriser', 'diffusion', 'information', 'aupre', 'public', 'valoriser', 'potentiel', 'batiment', 'hic', 'taille', 'loi', 'prevoit', 'budget', 'encore', 'vote', 'eter', 'dernier', 'episode', 'serie', 'porter', 'un', 'changement', 'attendre', 'million', 'souhaite', 'excellent', 'bon', 'fete', 'reveillon', 'soir', 'dire', 'sai', 'encore', 'sai', 'encore', 'reflechir', 'faire', 'organiser', 'chose', 'ben', 'aller', 'souhaite', 'excedent', 'eme']]\n"
     ]
    }
   ],
   "source": [
    "# Define functions for stopwords, bigrams, trigrams and lemmatization\n",
    "def remove_stopwords(texts):\n",
    "    return [[word for word in simple_preprocess(str(doc)) if word not in stopwords_fr] for doc in texts]\n",
    "\n",
    "def make_bigrams(texts):\n",
    "    return [bigram_mod[doc] for doc in texts]\n",
    "\n",
    "def make_trigrams(texts):\n",
    "    return [trigram_mod[bigram_mod[doc]] for doc in texts]\n",
    "\n",
    "def lemmatization(texts, allowed_postags=['NOUN', 'ADJ', 'VERB', 'ADV']):\n",
    "    \"\"\"https://spacy.io/api/annotation\"\"\"\n",
    "    texts_out = []\n",
    "    for sent in texts:\n",
    "        doc = nlp(\" \".join(sent)) \n",
    "        texts_out.append([token.lemma_ for token in doc if token.pos_ in allowed_postags])\n",
    "    return texts_out\n",
    "\n",
    "# Remove Stop Words\n",
    "data_words_nostops = remove_stopwords(data_words)\n",
    "\n",
    "# Form Bigrams\n",
    "data_words_bigrams = make_bigrams(data_words_nostops)\n",
    "\n",
    "# Initialize spacy 'fr_core_news_md' model\n",
    "nlp = spacy.load('fr_core_news_md', disable=['parser', 'ner'])\n",
    "\n",
    "# Do lemmatization keeping only noun, adj, vb, adv\n",
    "data_lemmatized = lemmatization(data_words_bigrams, allowed_postags=['NOUN', 'ADJ', 'VERB', 'ADV'])\n",
    "\n",
    "print(data_lemmatized[:1])"
   ]
  },
  {
   "cell_type": "code",
   "execution_count": 14,
   "metadata": {},
   "outputs": [
    {
     "name": "stdout",
     "output_type": "stream",
     "text": [
      "[[(0, 2), (1, 2), (2, 2), (3, 1), (4, 1), (5, 9), (6, 6), (7, 1), (8, 1), (9, 2), (10, 1), (11, 1), (12, 1), (13, 2), (14, 1), (15, 2), (16, 1), (17, 1), (18, 1), (19, 1), (20, 3), (21, 2), (22, 1), (23, 2), (24, 2), (25, 1), (26, 1), (27, 1), (28, 2), (29, 1), (30, 7), (31, 1), (32, 6), (33, 4), (34, 1), (35, 1), (36, 1), (37, 4), (38, 5), (39, 2), (40, 1), (41, 2), (42, 1), (43, 12), (44, 1), (45, 2), (46, 4), (47, 1), (48, 1), (49, 2), (50, 1), (51, 1), (52, 2), (53, 3), (54, 1), (55, 1), (56, 1), (57, 1), (58, 4), (59, 1), (60, 2), (61, 2), (62, 1), (63, 2), (64, 1), (65, 1), (66, 1), (67, 1), (68, 1), (69, 1), (70, 3), (71, 1), (72, 2), (73, 1), (74, 9), (75, 1), (76, 1), (77, 1), (78, 3), (79, 2), (80, 1), (81, 3), (82, 3), (83, 1), (84, 1), (85, 4), (86, 1), (87, 3), (88, 6), (89, 1), (90, 1), (91, 1), (92, 1), (93, 1), (94, 1), (95, 1), (96, 1), (97, 1), (98, 1), (99, 2), (100, 1), (101, 1), (102, 3), (103, 1), (104, 1), (105, 2), (106, 2), (107, 1), (108, 2), (109, 1), (110, 1), (111, 1), (112, 2), (113, 11), (114, 3), (115, 2), (116, 1), (117, 2), (118, 1), (119, 1), (120, 1), (121, 4), (122, 1), (123, 1), (124, 2), (125, 1), (126, 1), (127, 1), (128, 1), (129, 1), (130, 3), (131, 1), (132, 1), (133, 1), (134, 2), (135, 1), (136, 1), (137, 1), (138, 2), (139, 1), (140, 1), (141, 5), (142, 1), (143, 1), (144, 1), (145, 2), (146, 1), (147, 5), (148, 1), (149, 1), (150, 1), (151, 2), (152, 1), (153, 1), (154, 7), (155, 1), (156, 1), (157, 1), (158, 1), (159, 1), (160, 2), (161, 3), (162, 3), (163, 1), (164, 2), (165, 1), (166, 1), (167, 3), (168, 2), (169, 2), (170, 1), (171, 1), (172, 2), (173, 2), (174, 1), (175, 1), (176, 4), (177, 2), (178, 2), (179, 1), (180, 1), (181, 1), (182, 1), (183, 1), (184, 2), (185, 2), (186, 2), (187, 1), (188, 4), (189, 1), (190, 1), (191, 1), (192, 1), (193, 1), (194, 4), (195, 2), (196, 1), (197, 3), (198, 1), (199, 2), (200, 1), (201, 5), (202, 2), (203, 1), (204, 1), (205, 1), (206, 1), (207, 3), (208, 1), (209, 1), (210, 1), (211, 5), (212, 4), (213, 3), (214, 2), (215, 1), (216, 1), (217, 1), (218, 4), (219, 1), (220, 1), (221, 2), (222, 1), (223, 1), (224, 2), (225, 1), (226, 1), (227, 2), (228, 3), (229, 1), (230, 1), (231, 1), (232, 1), (233, 1), (234, 5), (235, 1), (236, 1), (237, 2), (238, 1), (239, 1), (240, 2), (241, 2), (242, 2), (243, 1), (244, 1), (245, 1), (246, 1), (247, 1), (248, 1), (249, 2), (250, 1), (251, 2), (252, 1), (253, 1), (254, 2), (255, 3), (256, 1), (257, 1), (258, 1), (259, 1), (260, 2), (261, 1), (262, 2), (263, 1), (264, 1), (265, 3), (266, 2), (267, 1), (268, 2), (269, 1), (270, 1), (271, 1), (272, 3), (273, 1), (274, 1), (275, 1), (276, 2), (277, 1), (278, 2), (279, 1), (280, 2), (281, 1), (282, 1), (283, 1), (284, 1), (285, 1), (286, 9), (287, 1), (288, 1), (289, 2), (290, 1), (291, 1), (292, 1), (293, 3), (294, 1), (295, 1), (296, 1), (297, 1), (298, 1), (299, 1), (300, 2), (301, 1), (302, 1), (303, 1), (304, 1), (305, 1), (306, 1), (307, 1), (308, 1)]]\n"
     ]
    }
   ],
   "source": [
    "# Create Dictionary\n",
    "id2word = corpora.Dictionary(data_lemmatized)\n",
    "\n",
    "# Create Corpus\n",
    "texts = data_lemmatized\n",
    "\n",
    "# Term Document Frequency\n",
    "corpus = [id2word.doc2bow(text) for text in texts]\n",
    "\n",
    "# View\n",
    "print(corpus[:1])"
   ]
  },
  {
   "cell_type": "markdown",
   "metadata": {},
   "source": [
    "Creation of the topic model"
   ]
  },
  {
   "cell_type": "code",
   "execution_count": 15,
   "metadata": {},
   "outputs": [],
   "source": [
    "lda_model = gensim.models.ldamodel.LdaModel(corpus=corpus,\n",
    "                                           id2word=id2word,\n",
    "                                           num_topics=20, \n",
    "                                           random_state=100,\n",
    "                                           update_every=1,\n",
    "                                           chunksize=100,\n",
    "                                           passes=10,\n",
    "                                           alpha='auto',\n",
    "                                           per_word_topics=True)"
   ]
  },
  {
   "cell_type": "code",
   "execution_count": 16,
   "metadata": {},
   "outputs": [
    {
     "name": "stdout",
     "output_type": "stream",
     "text": [
      "[(0,\n",
      "  '0.031*\"film\" + 0.019*\"musiqu\" + 0.017*\"aussi\" + 0.014*\"spectacle\" + '\n",
      "  '0.013*\"faire\" + 0.012*\"tre\" + 0.012*\"eter\" + 0.010*\"festival\" + '\n",
      "  '0.010*\"donc\" + 0.008*\"artiste\"'),\n",
      " (1,\n",
      "  '0.031*\"politique\" + 0.028*\"mouvement\" + 0.021*\"eter\" + 0.018*\"pays\" + '\n",
      "  '0.013*\"manifestation\" + 0.012*\"peuple\" + 0.009*\"rue\" + 0.009*\"gauche\" + '\n",
      "  '0.008*\"gouvernement\" + 0.008*\"partir\"'),\n",
      " (2,\n",
      "  '0.040*\"faire\" + 0.022*\"dire\" + 0.021*\"aller\" + 0.017*\"oui\" + 0.016*\"plus\" + '\n",
      "  '0.016*\"tout\" + 0.015*\"eter\" + 0.015*\"non\" + 0.015*\"bien\" + 0.015*\"meme\"'),\n",
      " (3,\n",
      "  '0.035*\"franc\" + 0.028*\"plus\" + 0.018*\"pourcent\" + 0.017*\"sant\" + '\n",
      "  '0.016*\"retraite\" + 0.015*\"payer\" + 0.013*\"medecin\" + 0.013*\"patient\" + '\n",
      "  '0.012*\"prix\" + 0.011*\"cout\"'),\n",
      " (4,\n",
      "  '0.034*\"livre\" + 0.023*\"histoire\" + 0.018*\"eter\" + 0.012*\"mot\" + '\n",
      "  '0.011*\"dire\" + 0.010*\"texte\" + 0.009*\"auteur\" + 0.009*\"vie\" + 0.009*\"roman\" '\n",
      "  '+ 0.007*\"homme\"'),\n",
      " (5,\n",
      "  '0.022*\"affaire\" + 0.013*\"loi\" + 0.013*\"droit\" + 0.012*\"etat\" + '\n",
      "  '0.011*\"justice\" + 0.011*\"cas\" + 0.010*\"tribunal\" + 0.010*\"faire\" + '\n",
      "  '0.009*\"commission\" + 0.009*\"decision\"'),\n",
      " (6,\n",
      "  '0.051*\"accord\" + 0.025*\"pays\" + 0.019*\"mt\" + 0.018*\"gouvernement\" + '\n",
      "  '0.016*\"politique\" + 0.016*\"europeenne\" + 0.013*\"ministre\" + 0.013*\"droit\" + '\n",
      "  '0.012*\"britannique\" + 0.011*\"etat\"'),\n",
      " (7,\n",
      "  '0.037*\"pays\" + 0.029*\"americain\" + 0.023*\"chinois\" + 0.018*\"guerre\" + '\n",
      "  '0.014*\"russe\" + 0.013*\"syrie\" + 0.012*\"etats_uni\" + 0.012*\"international\" + '\n",
      "  '0.012*\"etat\" + 0.012*\"militaire\"'),\n",
      " (8,\n",
      "  '0.084*\"femme\" + 0.034*\"enfant\" + 0.034*\"jeune\" + 0.026*\"homme\" + 0.021*\"an\" '\n",
      "  '+ 0.017*\"fille\" + 0.017*\"vie\" + 0.015*\"famille\" + 0.013*\"parent\" + '\n",
      "  '0.013*\"ecole\"'),\n",
      " (9,\n",
      "  '0.028*\"politique\" + 0.018*\"partir\" + 0.017*\"parti\" + 0.013*\"candidat\" + '\n",
      "  '0.013*\"gauche\" + 0.013*\"aussi\" + 0.013*\"socialiste\" + 0.011*\"vote\" + '\n",
      "  '0.011*\"campagne\" + 0.011*\"elu\"'),\n",
      " (10,\n",
      "  '0.035*\"presse\" + 0.028*\"journal\" + 0.024*\"journaliste\" + 0.023*\"matin\" + '\n",
      "  '0.018*\"information\" + 0.017*\"media\" + 0.017*\"donnee\" + 0.016*\"internet\" + '\n",
      "  '0.014*\"facebook\" + 0.011*\"public\"'),\n",
      " (11,\n",
      "  '0.061*\"eglise\" + 0.059*\"religieux\" + 0.053*\"religion\" + 0.040*\"musulman\" + '\n",
      "  '0.035*\"islam\" + 0.022*\"arabe\" + 0.022*\"catholique\" + 0.020*\"juif\" + '\n",
      "  '0.016*\"homosexuel\" + 0.016*\"chretien\"'),\n",
      " (12,\n",
      "  '0.016*\"plus\" + 0.012*\"degre\" + 0.012*\"encore\" + 0.012*\"suisse\" + '\n",
      "  '0.011*\"soir\" + 0.011*\"aller\" + 0.011*\"heure\" + 0.011*\"demain\" + '\n",
      "  '0.010*\"apre\" + 0.010*\"tout\"'),\n",
      " (13,\n",
      "  '0.039*\"violence\" + 0.035*\"police\" + 0.025*\"arme\" + 0.021*\"personne\" + '\n",
      "  '0.020*\"armee\" + 0.019*\"policier\" + 0.016*\"avion\" + 0.015*\"victime\" + '\n",
      "  '0.015*\"mort\" + 0.011*\"securite\"'),\n",
      " (14,\n",
      "  '0.190*\"suisse\" + 0.026*\"equipe\" + 0.024*\"football\" + 0.023*\"match\" + '\n",
      "  '0.022*\"sport\" + 0.020*\"allemand\" + 0.020*\"pays\" + 0.018*\"club\" + '\n",
      "  '0.018*\"joueur\" + 0.014*\"aussi\"'),\n",
      " (15,\n",
      "  '0.026*\"ville\" + 0.020*\"plus\" + 0.013*\"ici\" + 0.009*\"grand\" + 0.007*\"aussi\" '\n",
      "  '+ 0.007*\"faire\" + 0.007*\"petit\" + 0.007*\"net\" + 0.007*\"voir\" + 0.006*\"m\"'),\n",
      " (16,\n",
      "  '0.017*\"plus\" + 0.017*\"produire\" + 0.014*\"environnement\" + 0.013*\"climat\" + '\n",
      "  '0.012*\"animal\" + 0.012*\"produit\" + 0.011*\"scientifique\" + '\n",
      "  '0.010*\"agriculture\" + 0.010*\"production\" + 0.009*\"consommateur\"'),\n",
      " (17,\n",
      "  '0.027*\"suisse\" + 0.018*\"faire\" + 0.015*\"aussi\" + 0.015*\"plus\" + '\n",
      "  '0.014*\"falloir\" + 0.012*\"aller\" + 0.011*\"entreprise\" + 0.009*\"hui\" + '\n",
      "  '0.009*\"projet\" + 0.008*\"travail\"'),\n",
      " (18,\n",
      "  '0.020*\"plus\" + 0.015*\"hier\" + 0.013*\"nouveau\" + 0.010*\"an\" + 0.010*\"apre\" + '\n",
      "  '0.009*\"faire\" + 0.008*\"dernier\" + 0.008*\"heure\" + 0.008*\"encore\" + '\n",
      "  '0.007*\"premier\"'),\n",
      " (19,\n",
      "  '0.028*\"donc\" + 0.028*\"dire\" + 0.027*\"faire\" + 0.021*\"aussi\" + 0.019*\"plus\" '\n",
      "  '+ 0.018*\"tre\" + 0.013*\"meme\" + 0.012*\"bien\" + 0.012*\"peu\" + 0.012*\"aller\"')]\n"
     ]
    }
   ],
   "source": [
    "pprint(lda_model.print_topics())\n",
    "doc_lda = lda_model[corpus]"
   ]
  },
  {
   "cell_type": "code",
   "execution_count": 18,
   "metadata": {},
   "outputs": [
    {
     "ename": "FileNotFoundError",
     "evalue": "[Errno 2] No such file or directory: '/models/RTS_models/all_politique.state'",
     "output_type": "error",
     "traceback": [
      "\u001b[1;31m---------------------------------------------------------------------------\u001b[0m",
      "\u001b[1;31mTypeError\u001b[0m                                 Traceback (most recent call last)",
      "\u001b[1;32m~\\Anaconda3\\envs\\ada\\lib\\site-packages\\gensim\\utils.py\u001b[0m in \u001b[0;36msave\u001b[1;34m(self, fname_or_handle, separately, sep_limit, ignore, pickle_protocol)\u001b[0m\n\u001b[0;32m    691\u001b[0m         \u001b[1;32mtry\u001b[0m\u001b[1;33m:\u001b[0m\u001b[1;33m\u001b[0m\u001b[1;33m\u001b[0m\u001b[0m\n\u001b[1;32m--> 692\u001b[1;33m             \u001b[0m_pickle\u001b[0m\u001b[1;33m.\u001b[0m\u001b[0mdump\u001b[0m\u001b[1;33m(\u001b[0m\u001b[0mself\u001b[0m\u001b[1;33m,\u001b[0m \u001b[0mfname_or_handle\u001b[0m\u001b[1;33m,\u001b[0m \u001b[0mprotocol\u001b[0m\u001b[1;33m=\u001b[0m\u001b[0mpickle_protocol\u001b[0m\u001b[1;33m)\u001b[0m\u001b[1;33m\u001b[0m\u001b[1;33m\u001b[0m\u001b[0m\n\u001b[0m\u001b[0;32m    693\u001b[0m             \u001b[0mlogger\u001b[0m\u001b[1;33m.\u001b[0m\u001b[0minfo\u001b[0m\u001b[1;33m(\u001b[0m\u001b[1;34m\"saved %s object\"\u001b[0m\u001b[1;33m,\u001b[0m \u001b[0mself\u001b[0m\u001b[1;33m.\u001b[0m\u001b[0m__class__\u001b[0m\u001b[1;33m.\u001b[0m\u001b[0m__name__\u001b[0m\u001b[1;33m)\u001b[0m\u001b[1;33m\u001b[0m\u001b[1;33m\u001b[0m\u001b[0m\n",
      "\u001b[1;31mTypeError\u001b[0m: file must have a 'write' attribute",
      "\nDuring handling of the above exception, another exception occurred:\n",
      "\u001b[1;31mFileNotFoundError\u001b[0m                         Traceback (most recent call last)",
      "\u001b[1;32m<ipython-input-18-820aff93608e>\u001b[0m in \u001b[0;36m<module>\u001b[1;34m\u001b[0m\n\u001b[0;32m      1\u001b[0m \u001b[1;31m#Saving the politique only model\u001b[0m\u001b[1;33m\u001b[0m\u001b[1;33m\u001b[0m\u001b[1;33m\u001b[0m\u001b[0m\n\u001b[1;32m----> 2\u001b[1;33m \u001b[0mlda_model\u001b[0m\u001b[1;33m.\u001b[0m\u001b[0msave\u001b[0m\u001b[1;33m(\u001b[0m\u001b[1;34m'/models/RTS_models/all_politique'\u001b[0m\u001b[1;33m)\u001b[0m\u001b[1;33m\u001b[0m\u001b[1;33m\u001b[0m\u001b[0m\n\u001b[0m",
      "\u001b[1;32m~\\Anaconda3\\envs\\ada\\lib\\site-packages\\gensim\\models\\ldamodel.py\u001b[0m in \u001b[0;36msave\u001b[1;34m(self, fname, ignore, separately, *args, **kwargs)\u001b[0m\n\u001b[0;32m   1569\u001b[0m         \"\"\"\n\u001b[0;32m   1570\u001b[0m         \u001b[1;32mif\u001b[0m \u001b[0mself\u001b[0m\u001b[1;33m.\u001b[0m\u001b[0mstate\u001b[0m \u001b[1;32mis\u001b[0m \u001b[1;32mnot\u001b[0m \u001b[1;32mNone\u001b[0m\u001b[1;33m:\u001b[0m\u001b[1;33m\u001b[0m\u001b[1;33m\u001b[0m\u001b[0m\n\u001b[1;32m-> 1571\u001b[1;33m             \u001b[0mself\u001b[0m\u001b[1;33m.\u001b[0m\u001b[0mstate\u001b[0m\u001b[1;33m.\u001b[0m\u001b[0msave\u001b[0m\u001b[1;33m(\u001b[0m\u001b[0mutils\u001b[0m\u001b[1;33m.\u001b[0m\u001b[0msmart_extension\u001b[0m\u001b[1;33m(\u001b[0m\u001b[0mfname\u001b[0m\u001b[1;33m,\u001b[0m \u001b[1;34m'.state'\u001b[0m\u001b[1;33m)\u001b[0m\u001b[1;33m,\u001b[0m \u001b[1;33m*\u001b[0m\u001b[0margs\u001b[0m\u001b[1;33m,\u001b[0m \u001b[1;33m**\u001b[0m\u001b[0mkwargs\u001b[0m\u001b[1;33m)\u001b[0m\u001b[1;33m\u001b[0m\u001b[1;33m\u001b[0m\u001b[0m\n\u001b[0m\u001b[0;32m   1572\u001b[0m         \u001b[1;31m# Save the dictionary separately if not in 'ignore'.\u001b[0m\u001b[1;33m\u001b[0m\u001b[1;33m\u001b[0m\u001b[1;33m\u001b[0m\u001b[0m\n\u001b[0;32m   1573\u001b[0m         \u001b[1;32mif\u001b[0m \u001b[1;34m'id2word'\u001b[0m \u001b[1;32mnot\u001b[0m \u001b[1;32min\u001b[0m \u001b[0mignore\u001b[0m\u001b[1;33m:\u001b[0m\u001b[1;33m\u001b[0m\u001b[1;33m\u001b[0m\u001b[0m\n",
      "\u001b[1;32m~\\Anaconda3\\envs\\ada\\lib\\site-packages\\gensim\\utils.py\u001b[0m in \u001b[0;36msave\u001b[1;34m(self, fname_or_handle, separately, sep_limit, ignore, pickle_protocol)\u001b[0m\n\u001b[0;32m    693\u001b[0m             \u001b[0mlogger\u001b[0m\u001b[1;33m.\u001b[0m\u001b[0minfo\u001b[0m\u001b[1;33m(\u001b[0m\u001b[1;34m\"saved %s object\"\u001b[0m\u001b[1;33m,\u001b[0m \u001b[0mself\u001b[0m\u001b[1;33m.\u001b[0m\u001b[0m__class__\u001b[0m\u001b[1;33m.\u001b[0m\u001b[0m__name__\u001b[0m\u001b[1;33m)\u001b[0m\u001b[1;33m\u001b[0m\u001b[1;33m\u001b[0m\u001b[0m\n\u001b[0;32m    694\u001b[0m         \u001b[1;32mexcept\u001b[0m \u001b[0mTypeError\u001b[0m\u001b[1;33m:\u001b[0m  \u001b[1;31m# `fname_or_handle` does not have write attribute\u001b[0m\u001b[1;33m\u001b[0m\u001b[1;33m\u001b[0m\u001b[0m\n\u001b[1;32m--> 695\u001b[1;33m             \u001b[0mself\u001b[0m\u001b[1;33m.\u001b[0m\u001b[0m_smart_save\u001b[0m\u001b[1;33m(\u001b[0m\u001b[0mfname_or_handle\u001b[0m\u001b[1;33m,\u001b[0m \u001b[0mseparately\u001b[0m\u001b[1;33m,\u001b[0m \u001b[0msep_limit\u001b[0m\u001b[1;33m,\u001b[0m \u001b[0mignore\u001b[0m\u001b[1;33m,\u001b[0m \u001b[0mpickle_protocol\u001b[0m\u001b[1;33m=\u001b[0m\u001b[0mpickle_protocol\u001b[0m\u001b[1;33m)\u001b[0m\u001b[1;33m\u001b[0m\u001b[1;33m\u001b[0m\u001b[0m\n\u001b[0m\u001b[0;32m    696\u001b[0m \u001b[1;33m\u001b[0m\u001b[0m\n\u001b[0;32m    697\u001b[0m \u001b[1;33m\u001b[0m\u001b[0m\n",
      "\u001b[1;32m~\\Anaconda3\\envs\\ada\\lib\\site-packages\\gensim\\utils.py\u001b[0m in \u001b[0;36m_smart_save\u001b[1;34m(self, fname, separately, sep_limit, ignore, pickle_protocol)\u001b[0m\n\u001b[0;32m    547\u001b[0m                                        compress, subname)\n\u001b[0;32m    548\u001b[0m         \u001b[1;32mtry\u001b[0m\u001b[1;33m:\u001b[0m\u001b[1;33m\u001b[0m\u001b[1;33m\u001b[0m\u001b[0m\n\u001b[1;32m--> 549\u001b[1;33m             \u001b[0mpickle\u001b[0m\u001b[1;33m(\u001b[0m\u001b[0mself\u001b[0m\u001b[1;33m,\u001b[0m \u001b[0mfname\u001b[0m\u001b[1;33m,\u001b[0m \u001b[0mprotocol\u001b[0m\u001b[1;33m=\u001b[0m\u001b[0mpickle_protocol\u001b[0m\u001b[1;33m)\u001b[0m\u001b[1;33m\u001b[0m\u001b[1;33m\u001b[0m\u001b[0m\n\u001b[0m\u001b[0;32m    550\u001b[0m         \u001b[1;32mfinally\u001b[0m\u001b[1;33m:\u001b[0m\u001b[1;33m\u001b[0m\u001b[1;33m\u001b[0m\u001b[0m\n\u001b[0;32m    551\u001b[0m             \u001b[1;31m# restore attribs handled specially\u001b[0m\u001b[1;33m\u001b[0m\u001b[1;33m\u001b[0m\u001b[1;33m\u001b[0m\u001b[0m\n",
      "\u001b[1;32m~\\Anaconda3\\envs\\ada\\lib\\site-packages\\gensim\\utils.py\u001b[0m in \u001b[0;36mpickle\u001b[1;34m(obj, fname, protocol)\u001b[0m\n\u001b[0;32m   1361\u001b[0m \u001b[1;33m\u001b[0m\u001b[0m\n\u001b[0;32m   1362\u001b[0m     \"\"\"\n\u001b[1;32m-> 1363\u001b[1;33m     \u001b[1;32mwith\u001b[0m \u001b[0mopen\u001b[0m\u001b[1;33m(\u001b[0m\u001b[0mfname\u001b[0m\u001b[1;33m,\u001b[0m \u001b[1;34m'wb'\u001b[0m\u001b[1;33m)\u001b[0m \u001b[1;32mas\u001b[0m \u001b[0mfout\u001b[0m\u001b[1;33m:\u001b[0m  \u001b[1;31m# 'b' for binary, needed on Windows\u001b[0m\u001b[1;33m\u001b[0m\u001b[1;33m\u001b[0m\u001b[0m\n\u001b[0m\u001b[0;32m   1364\u001b[0m         \u001b[0m_pickle\u001b[0m\u001b[1;33m.\u001b[0m\u001b[0mdump\u001b[0m\u001b[1;33m(\u001b[0m\u001b[0mobj\u001b[0m\u001b[1;33m,\u001b[0m \u001b[0mfout\u001b[0m\u001b[1;33m,\u001b[0m \u001b[0mprotocol\u001b[0m\u001b[1;33m=\u001b[0m\u001b[0mprotocol\u001b[0m\u001b[1;33m)\u001b[0m\u001b[1;33m\u001b[0m\u001b[1;33m\u001b[0m\u001b[0m\n\u001b[0;32m   1365\u001b[0m \u001b[1;33m\u001b[0m\u001b[0m\n",
      "\u001b[1;32m~\\Anaconda3\\envs\\ada\\lib\\site-packages\\smart_open\\smart_open_lib.py\u001b[0m in \u001b[0;36mopen\u001b[1;34m(uri, mode, buffering, encoding, errors, newline, closefd, opener, ignore_ext, transport_params)\u001b[0m\n\u001b[0;32m    306\u001b[0m         \u001b[0mbuffering\u001b[0m\u001b[1;33m=\u001b[0m\u001b[0mbuffering\u001b[0m\u001b[1;33m,\u001b[0m\u001b[1;33m\u001b[0m\u001b[1;33m\u001b[0m\u001b[0m\n\u001b[0;32m    307\u001b[0m         \u001b[0mencoding\u001b[0m\u001b[1;33m=\u001b[0m\u001b[0mencoding\u001b[0m\u001b[1;33m,\u001b[0m\u001b[1;33m\u001b[0m\u001b[1;33m\u001b[0m\u001b[0m\n\u001b[1;32m--> 308\u001b[1;33m         \u001b[0merrors\u001b[0m\u001b[1;33m=\u001b[0m\u001b[0merrors\u001b[0m\u001b[1;33m,\u001b[0m\u001b[1;33m\u001b[0m\u001b[1;33m\u001b[0m\u001b[0m\n\u001b[0m\u001b[0;32m    309\u001b[0m     )\n\u001b[0;32m    310\u001b[0m     \u001b[1;32mif\u001b[0m \u001b[0mfobj\u001b[0m \u001b[1;32mis\u001b[0m \u001b[1;32mnot\u001b[0m \u001b[1;32mNone\u001b[0m\u001b[1;33m:\u001b[0m\u001b[1;33m\u001b[0m\u001b[1;33m\u001b[0m\u001b[0m\n",
      "\u001b[1;32m~\\Anaconda3\\envs\\ada\\lib\\site-packages\\smart_open\\smart_open_lib.py\u001b[0m in \u001b[0;36m_shortcut_open\u001b[1;34m(uri, mode, ignore_ext, buffering, encoding, errors)\u001b[0m\n\u001b[0;32m    515\u001b[0m     \u001b[1;31m#\u001b[0m\u001b[1;33m\u001b[0m\u001b[1;33m\u001b[0m\u001b[1;33m\u001b[0m\u001b[0m\n\u001b[0;32m    516\u001b[0m     \u001b[1;32mif\u001b[0m \u001b[0msix\u001b[0m\u001b[1;33m.\u001b[0m\u001b[0mPY3\u001b[0m\u001b[1;33m:\u001b[0m\u001b[1;33m\u001b[0m\u001b[1;33m\u001b[0m\u001b[0m\n\u001b[1;32m--> 517\u001b[1;33m         \u001b[1;32mreturn\u001b[0m \u001b[0m_builtin_open\u001b[0m\u001b[1;33m(\u001b[0m\u001b[0mparsed_uri\u001b[0m\u001b[1;33m.\u001b[0m\u001b[0muri_path\u001b[0m\u001b[1;33m,\u001b[0m \u001b[0mmode\u001b[0m\u001b[1;33m,\u001b[0m \u001b[0mbuffering\u001b[0m\u001b[1;33m=\u001b[0m\u001b[0mbuffering\u001b[0m\u001b[1;33m,\u001b[0m \u001b[1;33m**\u001b[0m\u001b[0mopen_kwargs\u001b[0m\u001b[1;33m)\u001b[0m\u001b[1;33m\u001b[0m\u001b[1;33m\u001b[0m\u001b[0m\n\u001b[0m\u001b[0;32m    518\u001b[0m     \u001b[1;32melif\u001b[0m \u001b[1;32mnot\u001b[0m \u001b[0mopen_kwargs\u001b[0m\u001b[1;33m:\u001b[0m\u001b[1;33m\u001b[0m\u001b[1;33m\u001b[0m\u001b[0m\n\u001b[0;32m    519\u001b[0m         \u001b[1;32mreturn\u001b[0m \u001b[0m_builtin_open\u001b[0m\u001b[1;33m(\u001b[0m\u001b[0mparsed_uri\u001b[0m\u001b[1;33m.\u001b[0m\u001b[0muri_path\u001b[0m\u001b[1;33m,\u001b[0m \u001b[0mmode\u001b[0m\u001b[1;33m,\u001b[0m \u001b[0mbuffering\u001b[0m\u001b[1;33m=\u001b[0m\u001b[0mbuffering\u001b[0m\u001b[1;33m)\u001b[0m\u001b[1;33m\u001b[0m\u001b[1;33m\u001b[0m\u001b[0m\n",
      "\u001b[1;31mFileNotFoundError\u001b[0m: [Errno 2] No such file or directory: '/models/RTS_models/all_politique.state'"
     ]
    }
   ],
   "source": [
    "#Saving the politique only model\n",
    "lda_model.save('/models/RTS_models/all_politique.state')"
   ]
  },
  {
   "cell_type": "code",
   "execution_count": 17,
   "metadata": {
    "scrolled": true
   },
   "outputs": [
    {
     "name": "stdout",
     "output_type": "stream",
     "text": [
      "\n",
      "Perplexity:  -8.846336314474296\n"
     ]
    },
    {
     "ename": "KeyboardInterrupt",
     "evalue": "",
     "output_type": "error",
     "traceback": [
      "\u001b[1;31m---------------------------------------------------------------------------\u001b[0m",
      "\u001b[1;31mKeyboardInterrupt\u001b[0m                         Traceback (most recent call last)",
      "\u001b[1;32m<ipython-input-17-eacbdc545be3>\u001b[0m in \u001b[0;36m<module>\u001b[1;34m\u001b[0m\n\u001b[0;32m      4\u001b[0m \u001b[1;31m# Compute Coherence Score\u001b[0m\u001b[1;33m\u001b[0m\u001b[1;33m\u001b[0m\u001b[1;33m\u001b[0m\u001b[0m\n\u001b[0;32m      5\u001b[0m \u001b[0mcoherence_model_lda\u001b[0m \u001b[1;33m=\u001b[0m \u001b[0mCoherenceModel\u001b[0m\u001b[1;33m(\u001b[0m\u001b[0mmodel\u001b[0m\u001b[1;33m=\u001b[0m\u001b[0mlda_model\u001b[0m\u001b[1;33m,\u001b[0m \u001b[0mtexts\u001b[0m\u001b[1;33m=\u001b[0m\u001b[0mdata_lemmatized\u001b[0m\u001b[1;33m,\u001b[0m \u001b[0mdictionary\u001b[0m\u001b[1;33m=\u001b[0m\u001b[0mid2word\u001b[0m\u001b[1;33m,\u001b[0m \u001b[0mcoherence\u001b[0m\u001b[1;33m=\u001b[0m\u001b[1;34m'c_v'\u001b[0m\u001b[1;33m)\u001b[0m\u001b[1;33m\u001b[0m\u001b[1;33m\u001b[0m\u001b[0m\n\u001b[1;32m----> 6\u001b[1;33m \u001b[0mcoherence_lda\u001b[0m \u001b[1;33m=\u001b[0m \u001b[0mcoherence_model_lda\u001b[0m\u001b[1;33m.\u001b[0m\u001b[0mget_coherence\u001b[0m\u001b[1;33m(\u001b[0m\u001b[1;33m)\u001b[0m\u001b[1;33m\u001b[0m\u001b[1;33m\u001b[0m\u001b[0m\n\u001b[0m\u001b[0;32m      7\u001b[0m \u001b[0mprint\u001b[0m\u001b[1;33m(\u001b[0m\u001b[1;34m'\\nCoherence Score: '\u001b[0m\u001b[1;33m,\u001b[0m \u001b[0mcoherence_lda\u001b[0m\u001b[1;33m)\u001b[0m\u001b[1;33m\u001b[0m\u001b[1;33m\u001b[0m\u001b[0m\n",
      "\u001b[1;32m~\\Anaconda3\\envs\\ada\\lib\\site-packages\\gensim\\models\\coherencemodel.py\u001b[0m in \u001b[0;36mget_coherence\u001b[1;34m(self)\u001b[0m\n\u001b[0;32m    607\u001b[0m \u001b[1;33m\u001b[0m\u001b[0m\n\u001b[0;32m    608\u001b[0m         \"\"\"\n\u001b[1;32m--> 609\u001b[1;33m         \u001b[0mconfirmed_measures\u001b[0m \u001b[1;33m=\u001b[0m \u001b[0mself\u001b[0m\u001b[1;33m.\u001b[0m\u001b[0mget_coherence_per_topic\u001b[0m\u001b[1;33m(\u001b[0m\u001b[1;33m)\u001b[0m\u001b[1;33m\u001b[0m\u001b[1;33m\u001b[0m\u001b[0m\n\u001b[0m\u001b[0;32m    610\u001b[0m         \u001b[1;32mreturn\u001b[0m \u001b[0mself\u001b[0m\u001b[1;33m.\u001b[0m\u001b[0maggregate_measures\u001b[0m\u001b[1;33m(\u001b[0m\u001b[0mconfirmed_measures\u001b[0m\u001b[1;33m)\u001b[0m\u001b[1;33m\u001b[0m\u001b[1;33m\u001b[0m\u001b[0m\n\u001b[0;32m    611\u001b[0m \u001b[1;33m\u001b[0m\u001b[0m\n",
      "\u001b[1;32m~\\Anaconda3\\envs\\ada\\lib\\site-packages\\gensim\\models\\coherencemodel.py\u001b[0m in \u001b[0;36mget_coherence_per_topic\u001b[1;34m(self, segmented_topics, with_std, with_support)\u001b[0m\n\u001b[0;32m    567\u001b[0m             \u001b[0msegmented_topics\u001b[0m \u001b[1;33m=\u001b[0m \u001b[0mmeasure\u001b[0m\u001b[1;33m.\u001b[0m\u001b[0mseg\u001b[0m\u001b[1;33m(\u001b[0m\u001b[0mself\u001b[0m\u001b[1;33m.\u001b[0m\u001b[0mtopics\u001b[0m\u001b[1;33m)\u001b[0m\u001b[1;33m\u001b[0m\u001b[1;33m\u001b[0m\u001b[0m\n\u001b[0;32m    568\u001b[0m         \u001b[1;32mif\u001b[0m \u001b[0mself\u001b[0m\u001b[1;33m.\u001b[0m\u001b[0m_accumulator\u001b[0m \u001b[1;32mis\u001b[0m \u001b[1;32mNone\u001b[0m\u001b[1;33m:\u001b[0m\u001b[1;33m\u001b[0m\u001b[1;33m\u001b[0m\u001b[0m\n\u001b[1;32m--> 569\u001b[1;33m             \u001b[0mself\u001b[0m\u001b[1;33m.\u001b[0m\u001b[0mestimate_probabilities\u001b[0m\u001b[1;33m(\u001b[0m\u001b[0msegmented_topics\u001b[0m\u001b[1;33m)\u001b[0m\u001b[1;33m\u001b[0m\u001b[1;33m\u001b[0m\u001b[0m\n\u001b[0m\u001b[0;32m    570\u001b[0m \u001b[1;33m\u001b[0m\u001b[0m\n\u001b[0;32m    571\u001b[0m         \u001b[0mkwargs\u001b[0m \u001b[1;33m=\u001b[0m \u001b[0mdict\u001b[0m\u001b[1;33m(\u001b[0m\u001b[0mwith_std\u001b[0m\u001b[1;33m=\u001b[0m\u001b[0mwith_std\u001b[0m\u001b[1;33m,\u001b[0m \u001b[0mwith_support\u001b[0m\u001b[1;33m=\u001b[0m\u001b[0mwith_support\u001b[0m\u001b[1;33m)\u001b[0m\u001b[1;33m\u001b[0m\u001b[1;33m\u001b[0m\u001b[0m\n",
      "\u001b[1;32m~\\Anaconda3\\envs\\ada\\lib\\site-packages\\gensim\\models\\coherencemodel.py\u001b[0m in \u001b[0;36mestimate_probabilities\u001b[1;34m(self, segmented_topics)\u001b[0m\n\u001b[0;32m    539\u001b[0m                 \u001b[0mkwargs\u001b[0m\u001b[1;33m[\u001b[0m\u001b[1;34m'model'\u001b[0m\u001b[1;33m]\u001b[0m \u001b[1;33m=\u001b[0m \u001b[0mself\u001b[0m\u001b[1;33m.\u001b[0m\u001b[0mkeyed_vectors\u001b[0m\u001b[1;33m\u001b[0m\u001b[1;33m\u001b[0m\u001b[0m\n\u001b[0;32m    540\u001b[0m \u001b[1;33m\u001b[0m\u001b[0m\n\u001b[1;32m--> 541\u001b[1;33m             \u001b[0mself\u001b[0m\u001b[1;33m.\u001b[0m\u001b[0m_accumulator\u001b[0m \u001b[1;33m=\u001b[0m \u001b[0mself\u001b[0m\u001b[1;33m.\u001b[0m\u001b[0mmeasure\u001b[0m\u001b[1;33m.\u001b[0m\u001b[0mprob\u001b[0m\u001b[1;33m(\u001b[0m\u001b[1;33m**\u001b[0m\u001b[0mkwargs\u001b[0m\u001b[1;33m)\u001b[0m\u001b[1;33m\u001b[0m\u001b[1;33m\u001b[0m\u001b[0m\n\u001b[0m\u001b[0;32m    542\u001b[0m \u001b[1;33m\u001b[0m\u001b[0m\n\u001b[0;32m    543\u001b[0m         \u001b[1;32mreturn\u001b[0m \u001b[0mself\u001b[0m\u001b[1;33m.\u001b[0m\u001b[0m_accumulator\u001b[0m\u001b[1;33m\u001b[0m\u001b[1;33m\u001b[0m\u001b[0m\n",
      "\u001b[1;32m~\\Anaconda3\\envs\\ada\\lib\\site-packages\\gensim\\topic_coherence\\probability_estimation.py\u001b[0m in \u001b[0;36mp_boolean_sliding_window\u001b[1;34m(texts, segmented_topics, dictionary, window_size, processes)\u001b[0m\n\u001b[0;32m    154\u001b[0m         \u001b[0maccumulator\u001b[0m \u001b[1;33m=\u001b[0m \u001b[0mParallelWordOccurrenceAccumulator\u001b[0m\u001b[1;33m(\u001b[0m\u001b[0mprocesses\u001b[0m\u001b[1;33m,\u001b[0m \u001b[0mtop_ids\u001b[0m\u001b[1;33m,\u001b[0m \u001b[0mdictionary\u001b[0m\u001b[1;33m)\u001b[0m\u001b[1;33m\u001b[0m\u001b[1;33m\u001b[0m\u001b[0m\n\u001b[0;32m    155\u001b[0m     \u001b[0mlogger\u001b[0m\u001b[1;33m.\u001b[0m\u001b[0minfo\u001b[0m\u001b[1;33m(\u001b[0m\u001b[1;34m\"using %s to estimate probabilities from sliding windows\"\u001b[0m\u001b[1;33m,\u001b[0m \u001b[0maccumulator\u001b[0m\u001b[1;33m)\u001b[0m\u001b[1;33m\u001b[0m\u001b[1;33m\u001b[0m\u001b[0m\n\u001b[1;32m--> 156\u001b[1;33m     \u001b[1;32mreturn\u001b[0m \u001b[0maccumulator\u001b[0m\u001b[1;33m.\u001b[0m\u001b[0maccumulate\u001b[0m\u001b[1;33m(\u001b[0m\u001b[0mtexts\u001b[0m\u001b[1;33m,\u001b[0m \u001b[0mwindow_size\u001b[0m\u001b[1;33m)\u001b[0m\u001b[1;33m\u001b[0m\u001b[1;33m\u001b[0m\u001b[0m\n\u001b[0m\u001b[0;32m    157\u001b[0m \u001b[1;33m\u001b[0m\u001b[0m\n\u001b[0;32m    158\u001b[0m \u001b[1;33m\u001b[0m\u001b[0m\n",
      "\u001b[1;32m~\\Anaconda3\\envs\\ada\\lib\\site-packages\\gensim\\topic_coherence\\text_analysis.py\u001b[0m in \u001b[0;36maccumulate\u001b[1;34m(self, texts, window_size)\u001b[0m\n\u001b[0;32m    442\u001b[0m \u001b[1;33m\u001b[0m\u001b[0m\n\u001b[0;32m    443\u001b[0m     \u001b[1;32mdef\u001b[0m \u001b[0maccumulate\u001b[0m\u001b[1;33m(\u001b[0m\u001b[0mself\u001b[0m\u001b[1;33m,\u001b[0m \u001b[0mtexts\u001b[0m\u001b[1;33m,\u001b[0m \u001b[0mwindow_size\u001b[0m\u001b[1;33m)\u001b[0m\u001b[1;33m:\u001b[0m\u001b[1;33m\u001b[0m\u001b[1;33m\u001b[0m\u001b[0m\n\u001b[1;32m--> 444\u001b[1;33m         \u001b[0mworkers\u001b[0m\u001b[1;33m,\u001b[0m \u001b[0minput_q\u001b[0m\u001b[1;33m,\u001b[0m \u001b[0moutput_q\u001b[0m \u001b[1;33m=\u001b[0m \u001b[0mself\u001b[0m\u001b[1;33m.\u001b[0m\u001b[0mstart_workers\u001b[0m\u001b[1;33m(\u001b[0m\u001b[0mwindow_size\u001b[0m\u001b[1;33m)\u001b[0m\u001b[1;33m\u001b[0m\u001b[1;33m\u001b[0m\u001b[0m\n\u001b[0m\u001b[0;32m    445\u001b[0m         \u001b[1;32mtry\u001b[0m\u001b[1;33m:\u001b[0m\u001b[1;33m\u001b[0m\u001b[1;33m\u001b[0m\u001b[0m\n\u001b[0;32m    446\u001b[0m             \u001b[0mself\u001b[0m\u001b[1;33m.\u001b[0m\u001b[0mqueue_all_texts\u001b[0m\u001b[1;33m(\u001b[0m\u001b[0minput_q\u001b[0m\u001b[1;33m,\u001b[0m \u001b[0mtexts\u001b[0m\u001b[1;33m,\u001b[0m \u001b[0mwindow_size\u001b[0m\u001b[1;33m)\u001b[0m\u001b[1;33m\u001b[0m\u001b[1;33m\u001b[0m\u001b[0m\n",
      "\u001b[1;32m~\\Anaconda3\\envs\\ada\\lib\\site-packages\\gensim\\topic_coherence\\text_analysis.py\u001b[0m in \u001b[0;36mstart_workers\u001b[1;34m(self, window_size)\u001b[0m\n\u001b[0;32m    476\u001b[0m             \u001b[0maccumulator\u001b[0m \u001b[1;33m=\u001b[0m \u001b[0mPatchedWordOccurrenceAccumulator\u001b[0m\u001b[1;33m(\u001b[0m\u001b[0mself\u001b[0m\u001b[1;33m.\u001b[0m\u001b[0mrelevant_ids\u001b[0m\u001b[1;33m,\u001b[0m \u001b[0mself\u001b[0m\u001b[1;33m.\u001b[0m\u001b[0mdictionary\u001b[0m\u001b[1;33m)\u001b[0m\u001b[1;33m\u001b[0m\u001b[1;33m\u001b[0m\u001b[0m\n\u001b[0;32m    477\u001b[0m             \u001b[0mworker\u001b[0m \u001b[1;33m=\u001b[0m \u001b[0mAccumulatingWorker\u001b[0m\u001b[1;33m(\u001b[0m\u001b[0minput_q\u001b[0m\u001b[1;33m,\u001b[0m \u001b[0moutput_q\u001b[0m\u001b[1;33m,\u001b[0m \u001b[0maccumulator\u001b[0m\u001b[1;33m,\u001b[0m \u001b[0mwindow_size\u001b[0m\u001b[1;33m)\u001b[0m\u001b[1;33m\u001b[0m\u001b[1;33m\u001b[0m\u001b[0m\n\u001b[1;32m--> 478\u001b[1;33m             \u001b[0mworker\u001b[0m\u001b[1;33m.\u001b[0m\u001b[0mstart\u001b[0m\u001b[1;33m(\u001b[0m\u001b[1;33m)\u001b[0m\u001b[1;33m\u001b[0m\u001b[1;33m\u001b[0m\u001b[0m\n\u001b[0m\u001b[0;32m    479\u001b[0m             \u001b[0mworkers\u001b[0m\u001b[1;33m.\u001b[0m\u001b[0mappend\u001b[0m\u001b[1;33m(\u001b[0m\u001b[0mworker\u001b[0m\u001b[1;33m)\u001b[0m\u001b[1;33m\u001b[0m\u001b[1;33m\u001b[0m\u001b[0m\n\u001b[0;32m    480\u001b[0m \u001b[1;33m\u001b[0m\u001b[0m\n",
      "\u001b[1;32m~\\Anaconda3\\envs\\ada\\lib\\multiprocessing\\process.py\u001b[0m in \u001b[0;36mstart\u001b[1;34m(self)\u001b[0m\n\u001b[0;32m    110\u001b[0m                \u001b[1;34m'daemonic processes are not allowed to have children'\u001b[0m\u001b[1;33m\u001b[0m\u001b[1;33m\u001b[0m\u001b[0m\n\u001b[0;32m    111\u001b[0m         \u001b[0m_cleanup\u001b[0m\u001b[1;33m(\u001b[0m\u001b[1;33m)\u001b[0m\u001b[1;33m\u001b[0m\u001b[1;33m\u001b[0m\u001b[0m\n\u001b[1;32m--> 112\u001b[1;33m         \u001b[0mself\u001b[0m\u001b[1;33m.\u001b[0m\u001b[0m_popen\u001b[0m \u001b[1;33m=\u001b[0m \u001b[0mself\u001b[0m\u001b[1;33m.\u001b[0m\u001b[0m_Popen\u001b[0m\u001b[1;33m(\u001b[0m\u001b[0mself\u001b[0m\u001b[1;33m)\u001b[0m\u001b[1;33m\u001b[0m\u001b[1;33m\u001b[0m\u001b[0m\n\u001b[0m\u001b[0;32m    113\u001b[0m         \u001b[0mself\u001b[0m\u001b[1;33m.\u001b[0m\u001b[0m_sentinel\u001b[0m \u001b[1;33m=\u001b[0m \u001b[0mself\u001b[0m\u001b[1;33m.\u001b[0m\u001b[0m_popen\u001b[0m\u001b[1;33m.\u001b[0m\u001b[0msentinel\u001b[0m\u001b[1;33m\u001b[0m\u001b[1;33m\u001b[0m\u001b[0m\n\u001b[0;32m    114\u001b[0m         \u001b[1;31m# Avoid a refcycle if the target function holds an indirect\u001b[0m\u001b[1;33m\u001b[0m\u001b[1;33m\u001b[0m\u001b[1;33m\u001b[0m\u001b[0m\n",
      "\u001b[1;32m~\\Anaconda3\\envs\\ada\\lib\\multiprocessing\\context.py\u001b[0m in \u001b[0;36m_Popen\u001b[1;34m(process_obj)\u001b[0m\n\u001b[0;32m    221\u001b[0m     \u001b[1;33m@\u001b[0m\u001b[0mstaticmethod\u001b[0m\u001b[1;33m\u001b[0m\u001b[1;33m\u001b[0m\u001b[0m\n\u001b[0;32m    222\u001b[0m     \u001b[1;32mdef\u001b[0m \u001b[0m_Popen\u001b[0m\u001b[1;33m(\u001b[0m\u001b[0mprocess_obj\u001b[0m\u001b[1;33m)\u001b[0m\u001b[1;33m:\u001b[0m\u001b[1;33m\u001b[0m\u001b[1;33m\u001b[0m\u001b[0m\n\u001b[1;32m--> 223\u001b[1;33m         \u001b[1;32mreturn\u001b[0m \u001b[0m_default_context\u001b[0m\u001b[1;33m.\u001b[0m\u001b[0mget_context\u001b[0m\u001b[1;33m(\u001b[0m\u001b[1;33m)\u001b[0m\u001b[1;33m.\u001b[0m\u001b[0mProcess\u001b[0m\u001b[1;33m.\u001b[0m\u001b[0m_Popen\u001b[0m\u001b[1;33m(\u001b[0m\u001b[0mprocess_obj\u001b[0m\u001b[1;33m)\u001b[0m\u001b[1;33m\u001b[0m\u001b[1;33m\u001b[0m\u001b[0m\n\u001b[0m\u001b[0;32m    224\u001b[0m \u001b[1;33m\u001b[0m\u001b[0m\n\u001b[0;32m    225\u001b[0m \u001b[1;32mclass\u001b[0m \u001b[0mDefaultContext\u001b[0m\u001b[1;33m(\u001b[0m\u001b[0mBaseContext\u001b[0m\u001b[1;33m)\u001b[0m\u001b[1;33m:\u001b[0m\u001b[1;33m\u001b[0m\u001b[1;33m\u001b[0m\u001b[0m\n",
      "\u001b[1;32m~\\Anaconda3\\envs\\ada\\lib\\multiprocessing\\context.py\u001b[0m in \u001b[0;36m_Popen\u001b[1;34m(process_obj)\u001b[0m\n\u001b[0;32m    320\u001b[0m         \u001b[1;32mdef\u001b[0m \u001b[0m_Popen\u001b[0m\u001b[1;33m(\u001b[0m\u001b[0mprocess_obj\u001b[0m\u001b[1;33m)\u001b[0m\u001b[1;33m:\u001b[0m\u001b[1;33m\u001b[0m\u001b[1;33m\u001b[0m\u001b[0m\n\u001b[0;32m    321\u001b[0m             \u001b[1;32mfrom\u001b[0m \u001b[1;33m.\u001b[0m\u001b[0mpopen_spawn_win32\u001b[0m \u001b[1;32mimport\u001b[0m \u001b[0mPopen\u001b[0m\u001b[1;33m\u001b[0m\u001b[1;33m\u001b[0m\u001b[0m\n\u001b[1;32m--> 322\u001b[1;33m             \u001b[1;32mreturn\u001b[0m \u001b[0mPopen\u001b[0m\u001b[1;33m(\u001b[0m\u001b[0mprocess_obj\u001b[0m\u001b[1;33m)\u001b[0m\u001b[1;33m\u001b[0m\u001b[1;33m\u001b[0m\u001b[0m\n\u001b[0m\u001b[0;32m    323\u001b[0m \u001b[1;33m\u001b[0m\u001b[0m\n\u001b[0;32m    324\u001b[0m     \u001b[1;32mclass\u001b[0m \u001b[0mSpawnContext\u001b[0m\u001b[1;33m(\u001b[0m\u001b[0mBaseContext\u001b[0m\u001b[1;33m)\u001b[0m\u001b[1;33m:\u001b[0m\u001b[1;33m\u001b[0m\u001b[1;33m\u001b[0m\u001b[0m\n",
      "\u001b[1;32m~\\Anaconda3\\envs\\ada\\lib\\multiprocessing\\popen_spawn_win32.py\u001b[0m in \u001b[0;36m__init__\u001b[1;34m(self, process_obj)\u001b[0m\n\u001b[0;32m     87\u001b[0m             \u001b[1;32mtry\u001b[0m\u001b[1;33m:\u001b[0m\u001b[1;33m\u001b[0m\u001b[1;33m\u001b[0m\u001b[0m\n\u001b[0;32m     88\u001b[0m                 \u001b[0mreduction\u001b[0m\u001b[1;33m.\u001b[0m\u001b[0mdump\u001b[0m\u001b[1;33m(\u001b[0m\u001b[0mprep_data\u001b[0m\u001b[1;33m,\u001b[0m \u001b[0mto_child\u001b[0m\u001b[1;33m)\u001b[0m\u001b[1;33m\u001b[0m\u001b[1;33m\u001b[0m\u001b[0m\n\u001b[1;32m---> 89\u001b[1;33m                 \u001b[0mreduction\u001b[0m\u001b[1;33m.\u001b[0m\u001b[0mdump\u001b[0m\u001b[1;33m(\u001b[0m\u001b[0mprocess_obj\u001b[0m\u001b[1;33m,\u001b[0m \u001b[0mto_child\u001b[0m\u001b[1;33m)\u001b[0m\u001b[1;33m\u001b[0m\u001b[1;33m\u001b[0m\u001b[0m\n\u001b[0m\u001b[0;32m     90\u001b[0m             \u001b[1;32mfinally\u001b[0m\u001b[1;33m:\u001b[0m\u001b[1;33m\u001b[0m\u001b[1;33m\u001b[0m\u001b[0m\n\u001b[0;32m     91\u001b[0m                 \u001b[0mset_spawning_popen\u001b[0m\u001b[1;33m(\u001b[0m\u001b[1;32mNone\u001b[0m\u001b[1;33m)\u001b[0m\u001b[1;33m\u001b[0m\u001b[1;33m\u001b[0m\u001b[0m\n",
      "\u001b[1;32m~\\Anaconda3\\envs\\ada\\lib\\multiprocessing\\reduction.py\u001b[0m in \u001b[0;36mdump\u001b[1;34m(obj, file, protocol)\u001b[0m\n\u001b[0;32m     58\u001b[0m \u001b[1;32mdef\u001b[0m \u001b[0mdump\u001b[0m\u001b[1;33m(\u001b[0m\u001b[0mobj\u001b[0m\u001b[1;33m,\u001b[0m \u001b[0mfile\u001b[0m\u001b[1;33m,\u001b[0m \u001b[0mprotocol\u001b[0m\u001b[1;33m=\u001b[0m\u001b[1;32mNone\u001b[0m\u001b[1;33m)\u001b[0m\u001b[1;33m:\u001b[0m\u001b[1;33m\u001b[0m\u001b[1;33m\u001b[0m\u001b[0m\n\u001b[0;32m     59\u001b[0m     \u001b[1;34m'''Replacement for pickle.dump() using ForkingPickler.'''\u001b[0m\u001b[1;33m\u001b[0m\u001b[1;33m\u001b[0m\u001b[0m\n\u001b[1;32m---> 60\u001b[1;33m     \u001b[0mForkingPickler\u001b[0m\u001b[1;33m(\u001b[0m\u001b[0mfile\u001b[0m\u001b[1;33m,\u001b[0m \u001b[0mprotocol\u001b[0m\u001b[1;33m)\u001b[0m\u001b[1;33m.\u001b[0m\u001b[0mdump\u001b[0m\u001b[1;33m(\u001b[0m\u001b[0mobj\u001b[0m\u001b[1;33m)\u001b[0m\u001b[1;33m\u001b[0m\u001b[1;33m\u001b[0m\u001b[0m\n\u001b[0m\u001b[0;32m     61\u001b[0m \u001b[1;33m\u001b[0m\u001b[0m\n\u001b[0;32m     62\u001b[0m \u001b[1;31m#\u001b[0m\u001b[1;33m\u001b[0m\u001b[1;33m\u001b[0m\u001b[1;33m\u001b[0m\u001b[0m\n",
      "\u001b[1;31mKeyboardInterrupt\u001b[0m: "
     ]
    }
   ],
   "source": [
    "# Compute Perplexity\n",
    "print('\\nPerplexity: ', lda_model.log_perplexity(corpus))  # a measure of how good the model is. lower the better.\n",
    "\n",
    "# Compute Coherence Score\n",
    "coherence_model_lda = CoherenceModel(model=lda_model, texts=data_lemmatized, dictionary=id2word, coherence='c_v')\n",
    "coherence_lda = coherence_model_lda.get_coherence()\n",
    "print('\\nCoherence Score: ', coherence_lda)"
   ]
  },
  {
   "cell_type": "code",
   "execution_count": 22,
   "metadata": {},
   "outputs": [
    {
     "ename": "CalledProcessError",
     "evalue": "Command 'C:\\Users\\Isabelle\\Downloads\\mallet-2.0.8\\mallet-2.0.8\\bin\\mallet import-file --preserve-case --keep-sequence --remove-stopwords --token-regex \"\\S+\" --input C:\\Users\\Isabelle\\AppData\\Local\\Temp\\d07ed4_corpus.txt --output C:\\Users\\Isabelle\\AppData\\Local\\Temp\\d07ed4_corpus.mallet' returned non-zero exit status 1.",
     "output_type": "error",
     "traceback": [
      "\u001b[1;31m---------------------------------------------------------------------------\u001b[0m",
      "\u001b[1;31mCalledProcessError\u001b[0m                        Traceback (most recent call last)",
      "\u001b[1;32m<ipython-input-22-293e5d12fd52>\u001b[0m in \u001b[0;36m<module>\u001b[1;34m\u001b[0m\n\u001b[0;32m      7\u001b[0m \u001b[0mmallet_path\u001b[0m \u001b[1;33m=\u001b[0m \u001b[1;34m'C:\\\\Users\\\\Isabelle\\\\Downloads\\\\mallet-2.0.8\\\\mallet-2.0.8\\\\bin\\\\mallet'\u001b[0m\u001b[1;33m\u001b[0m\u001b[1;33m\u001b[0m\u001b[0m\n\u001b[0;32m      8\u001b[0m \u001b[1;33m\u001b[0m\u001b[0m\n\u001b[1;32m----> 9\u001b[1;33m \u001b[0mldamallet\u001b[0m \u001b[1;33m=\u001b[0m \u001b[0mgensim\u001b[0m\u001b[1;33m.\u001b[0m\u001b[0mmodels\u001b[0m\u001b[1;33m.\u001b[0m\u001b[0mwrappers\u001b[0m\u001b[1;33m.\u001b[0m\u001b[0mLdaMallet\u001b[0m\u001b[1;33m(\u001b[0m\u001b[0mmallet_path\u001b[0m\u001b[1;33m,\u001b[0m \u001b[0mcorpus\u001b[0m\u001b[1;33m=\u001b[0m\u001b[0mcorpus\u001b[0m\u001b[1;33m,\u001b[0m \u001b[0mnum_topics\u001b[0m\u001b[1;33m=\u001b[0m\u001b[1;36m20\u001b[0m\u001b[1;33m,\u001b[0m \u001b[0mid2word\u001b[0m\u001b[1;33m=\u001b[0m\u001b[0mid2word\u001b[0m\u001b[1;33m)\u001b[0m \u001b[1;31m# update this path\u001b[0m\u001b[1;33m\u001b[0m\u001b[1;33m\u001b[0m\u001b[0m\n\u001b[0m\u001b[0;32m     10\u001b[0m \u001b[1;33m\u001b[0m\u001b[0m\n\u001b[0;32m     11\u001b[0m \u001b[1;33m\u001b[0m\u001b[0m\n",
      "\u001b[1;32m~\\Anaconda3\\envs\\ada\\lib\\site-packages\\gensim\\models\\wrappers\\ldamallet.py\u001b[0m in \u001b[0;36m__init__\u001b[1;34m(self, mallet_path, corpus, num_topics, alpha, id2word, workers, prefix, optimize_interval, iterations, topic_threshold, random_seed)\u001b[0m\n\u001b[0;32m    129\u001b[0m         \u001b[0mself\u001b[0m\u001b[1;33m.\u001b[0m\u001b[0mrandom_seed\u001b[0m \u001b[1;33m=\u001b[0m \u001b[0mrandom_seed\u001b[0m\u001b[1;33m\u001b[0m\u001b[1;33m\u001b[0m\u001b[0m\n\u001b[0;32m    130\u001b[0m         \u001b[1;32mif\u001b[0m \u001b[0mcorpus\u001b[0m \u001b[1;32mis\u001b[0m \u001b[1;32mnot\u001b[0m \u001b[1;32mNone\u001b[0m\u001b[1;33m:\u001b[0m\u001b[1;33m\u001b[0m\u001b[1;33m\u001b[0m\u001b[0m\n\u001b[1;32m--> 131\u001b[1;33m             \u001b[0mself\u001b[0m\u001b[1;33m.\u001b[0m\u001b[0mtrain\u001b[0m\u001b[1;33m(\u001b[0m\u001b[0mcorpus\u001b[0m\u001b[1;33m)\u001b[0m\u001b[1;33m\u001b[0m\u001b[1;33m\u001b[0m\u001b[0m\n\u001b[0m\u001b[0;32m    132\u001b[0m \u001b[1;33m\u001b[0m\u001b[0m\n\u001b[0;32m    133\u001b[0m     \u001b[1;32mdef\u001b[0m \u001b[0mfinferencer\u001b[0m\u001b[1;33m(\u001b[0m\u001b[0mself\u001b[0m\u001b[1;33m)\u001b[0m\u001b[1;33m:\u001b[0m\u001b[1;33m\u001b[0m\u001b[1;33m\u001b[0m\u001b[0m\n",
      "\u001b[1;32m~\\Anaconda3\\envs\\ada\\lib\\site-packages\\gensim\\models\\wrappers\\ldamallet.py\u001b[0m in \u001b[0;36mtrain\u001b[1;34m(self, corpus)\u001b[0m\n\u001b[0;32m    270\u001b[0m \u001b[1;33m\u001b[0m\u001b[0m\n\u001b[0;32m    271\u001b[0m         \"\"\"\n\u001b[1;32m--> 272\u001b[1;33m         \u001b[0mself\u001b[0m\u001b[1;33m.\u001b[0m\u001b[0mconvert_input\u001b[0m\u001b[1;33m(\u001b[0m\u001b[0mcorpus\u001b[0m\u001b[1;33m,\u001b[0m \u001b[0minfer\u001b[0m\u001b[1;33m=\u001b[0m\u001b[1;32mFalse\u001b[0m\u001b[1;33m)\u001b[0m\u001b[1;33m\u001b[0m\u001b[1;33m\u001b[0m\u001b[0m\n\u001b[0m\u001b[0;32m    273\u001b[0m         \u001b[0mcmd\u001b[0m \u001b[1;33m=\u001b[0m \u001b[0mself\u001b[0m\u001b[1;33m.\u001b[0m\u001b[0mmallet_path\u001b[0m \u001b[1;33m+\u001b[0m \u001b[1;34m' train-topics --input %s --num-topics %s  --alpha %s --optimize-interval %s '\u001b[0m\u001b[0;31m\\\u001b[0m\u001b[1;33m\u001b[0m\u001b[1;33m\u001b[0m\u001b[0m\n\u001b[0;32m    274\u001b[0m             \u001b[1;34m'--num-threads %s --output-state %s --output-doc-topics %s --output-topic-keys %s '\u001b[0m\u001b[0;31m\\\u001b[0m\u001b[1;33m\u001b[0m\u001b[1;33m\u001b[0m\u001b[0m\n",
      "\u001b[1;32m~\\Anaconda3\\envs\\ada\\lib\\site-packages\\gensim\\models\\wrappers\\ldamallet.py\u001b[0m in \u001b[0;36mconvert_input\u001b[1;34m(self, corpus, infer, serialize_corpus)\u001b[0m\n\u001b[0;32m    259\u001b[0m             \u001b[0mcmd\u001b[0m \u001b[1;33m=\u001b[0m \u001b[0mcmd\u001b[0m \u001b[1;33m%\u001b[0m \u001b[1;33m(\u001b[0m\u001b[0mself\u001b[0m\u001b[1;33m.\u001b[0m\u001b[0mfcorpustxt\u001b[0m\u001b[1;33m(\u001b[0m\u001b[1;33m)\u001b[0m\u001b[1;33m,\u001b[0m \u001b[0mself\u001b[0m\u001b[1;33m.\u001b[0m\u001b[0mfcorpusmallet\u001b[0m\u001b[1;33m(\u001b[0m\u001b[1;33m)\u001b[0m\u001b[1;33m)\u001b[0m\u001b[1;33m\u001b[0m\u001b[1;33m\u001b[0m\u001b[0m\n\u001b[0;32m    260\u001b[0m         \u001b[0mlogger\u001b[0m\u001b[1;33m.\u001b[0m\u001b[0minfo\u001b[0m\u001b[1;33m(\u001b[0m\u001b[1;34m\"converting temporary corpus to MALLET format with %s\"\u001b[0m\u001b[1;33m,\u001b[0m \u001b[0mcmd\u001b[0m\u001b[1;33m)\u001b[0m\u001b[1;33m\u001b[0m\u001b[1;33m\u001b[0m\u001b[0m\n\u001b[1;32m--> 261\u001b[1;33m         \u001b[0mcheck_output\u001b[0m\u001b[1;33m(\u001b[0m\u001b[0margs\u001b[0m\u001b[1;33m=\u001b[0m\u001b[0mcmd\u001b[0m\u001b[1;33m,\u001b[0m \u001b[0mshell\u001b[0m\u001b[1;33m=\u001b[0m\u001b[1;32mTrue\u001b[0m\u001b[1;33m)\u001b[0m\u001b[1;33m\u001b[0m\u001b[1;33m\u001b[0m\u001b[0m\n\u001b[0m\u001b[0;32m    262\u001b[0m \u001b[1;33m\u001b[0m\u001b[0m\n\u001b[0;32m    263\u001b[0m     \u001b[1;32mdef\u001b[0m \u001b[0mtrain\u001b[0m\u001b[1;33m(\u001b[0m\u001b[0mself\u001b[0m\u001b[1;33m,\u001b[0m \u001b[0mcorpus\u001b[0m\u001b[1;33m)\u001b[0m\u001b[1;33m:\u001b[0m\u001b[1;33m\u001b[0m\u001b[1;33m\u001b[0m\u001b[0m\n",
      "\u001b[1;32m~\\Anaconda3\\envs\\ada\\lib\\site-packages\\gensim\\utils.py\u001b[0m in \u001b[0;36mcheck_output\u001b[1;34m(stdout, *popenargs, **kwargs)\u001b[0m\n\u001b[0;32m   1916\u001b[0m             \u001b[0merror\u001b[0m \u001b[1;33m=\u001b[0m \u001b[0msubprocess\u001b[0m\u001b[1;33m.\u001b[0m\u001b[0mCalledProcessError\u001b[0m\u001b[1;33m(\u001b[0m\u001b[0mretcode\u001b[0m\u001b[1;33m,\u001b[0m \u001b[0mcmd\u001b[0m\u001b[1;33m)\u001b[0m\u001b[1;33m\u001b[0m\u001b[1;33m\u001b[0m\u001b[0m\n\u001b[0;32m   1917\u001b[0m             \u001b[0merror\u001b[0m\u001b[1;33m.\u001b[0m\u001b[0moutput\u001b[0m \u001b[1;33m=\u001b[0m \u001b[0moutput\u001b[0m\u001b[1;33m\u001b[0m\u001b[1;33m\u001b[0m\u001b[0m\n\u001b[1;32m-> 1918\u001b[1;33m             \u001b[1;32mraise\u001b[0m \u001b[0merror\u001b[0m\u001b[1;33m\u001b[0m\u001b[1;33m\u001b[0m\u001b[0m\n\u001b[0m\u001b[0;32m   1919\u001b[0m         \u001b[1;32mreturn\u001b[0m \u001b[0moutput\u001b[0m\u001b[1;33m\u001b[0m\u001b[1;33m\u001b[0m\u001b[0m\n\u001b[0;32m   1920\u001b[0m     \u001b[1;32mexcept\u001b[0m \u001b[0mKeyboardInterrupt\u001b[0m\u001b[1;33m:\u001b[0m\u001b[1;33m\u001b[0m\u001b[1;33m\u001b[0m\u001b[0m\n",
      "\u001b[1;31mCalledProcessError\u001b[0m: Command 'C:\\Users\\Isabelle\\Downloads\\mallet-2.0.8\\mallet-2.0.8\\bin\\mallet import-file --preserve-case --keep-sequence --remove-stopwords --token-regex \"\\S+\" --input C:\\Users\\Isabelle\\AppData\\Local\\Temp\\d07ed4_corpus.txt --output C:\\Users\\Isabelle\\AppData\\Local\\Temp\\d07ed4_corpus.mallet' returned non-zero exit status 1."
     ]
    }
   ],
   "source": [
    "#TODO Look into Mallet model, apparently it gets better topics but there are several\n",
    "#download steps\n",
    "\n",
    "import os \n",
    "from gensim.models.wrappers import LdaMallet\n",
    "os.environ.update({'MALLET_HOME': r'C:\\\\Users\\\\Isabelle\\\\Downloads\\\\mallet-2.0.8\\\\mallet-2.0.8\\\\bin\\\\mallet'})\n",
    "mallet_path = 'C:\\\\Users\\\\Isabelle\\\\Downloads\\\\mallet-2.0.8\\\\mallet-2.0.8\\\\bin\\\\mallet'\n",
    "\n",
    "ldamallet = gensim.models.wrappers.LdaMallet(mallet_path, corpus=corpus, num_topics=20, id2word=id2word) # update this path\n",
    "\n",
    "\n",
    "# Show Topics\n",
    "pprint(ldamallet.show_topics(formatted=False))\n",
    "\n",
    "# Compute Coherence Score\n",
    "coherence_model_ldamallet = CoherenceModel(model=ldamallet, texts=data_lemmatized, dictionary=id2word, coherence='c_v')\n",
    "coherence_ldamallet = coherence_model_ldamallet.get_coherence()\n",
    "print('\\nCoherence Score: ', coherence_ldamallet)"
   ]
  },
  {
   "cell_type": "markdown",
   "metadata": {},
   "source": [
    "Now we want to find the optimal number of topics by looking at their coherence values"
   ]
  },
  {
   "cell_type": "code",
   "execution_count": 21,
   "metadata": {},
   "outputs": [
    {
     "data": {
      "image/png": "[encoded data removed]",
      "text/plain": [
       "<Figure size 432x288 with 1 Axes>"
      ]
     },
     "metadata": {
      "needs_background": "light"
     },
     "output_type": "display_data"
    }
   ],
   "source": [
    "def compute_coherence_values(dictionary, corpus, texts, limit, start=2, step=3):\n",
    "    \"\"\"\n",
    "    Compute c_v coherence for various number of topics\n",
    "\n",
    "    Parameters:\n",
    "    ----------\n",
    "    dictionary : Gensim dictionary\n",
    "    corpus : Gensim corpus\n",
    "    texts : List of input texts\n",
    "    limit : Max num of topics\n",
    "\n",
    "    Returns:\n",
    "    -------\n",
    "    model_list : List of LDA topic models\n",
    "    coherence_values : Coherence values corresponding to the LDA model with respective number of topics\n",
    "    \"\"\"\n",
    "    coherence_values = []\n",
    "    model_list = []\n",
    "    for num_topics in range(start, limit, step):\n",
    "        #model = gensim.models.wrappers.LdaMallet(mallet_path, corpus=corpus, num_topics=num_topics, id2word=id2word)\n",
    "        lda_model = gensim.models.ldamodel.LdaModel(corpus=corpus,\n",
    "                                           id2word=id2word,\n",
    "                                           num_topics=num_topics, \n",
    "                                           random_state=100,\n",
    "                                           update_every=1,\n",
    "                                           chunksize=50,\n",
    "                                           passes=10,\n",
    "                                           alpha='auto',\n",
    "                                           per_word_topics=True)\n",
    "        model_list.append(lda_model)\n",
    "        coherencemodel = CoherenceModel(model=lda_model, texts=texts, dictionary=dictionary, coherence='c_v')\n",
    "        coherence_values.append(coherencemodel.get_coherence())\n",
    "\n",
    "    return model_list, coherence_values\n",
    "# Can take a long time to run.\n",
    "model_list, coherence_values = compute_coherence_values(dictionary=id2word, corpus=corpus, texts=data_lemmatized, start=2, limit=40, step=6)\n",
    "# Show graph\n",
    "limit=40; start=2; step=6;\n",
    "x = range(start, limit, step)\n",
    "plt.plot(x, coherence_values)\n",
    "plt.xlabel(\"Num Topics\")\n",
    "plt.ylabel(\"Coherence score\")\n",
    "plt.legend((\"coherence_values\"), loc='best')\n",
    "plt.show()\n",
    "\n"
   ]
  },
  {
   "cell_type": "code",
   "execution_count": 31,
   "metadata": {},
   "outputs": [
    {
     "name": "stdout",
     "output_type": "stream",
     "text": [
      "Num Topics = 2  has Coherence Value of 0.3056\n",
      "Num Topics = 8  has Coherence Value of 0.2802\n",
      "Num Topics = 14  has Coherence Value of 0.3199\n",
      "Num Topics = 20  has Coherence Value of 0.3056\n",
      "Num Topics = 26  has Coherence Value of 0.254\n",
      "Num Topics = 32  has Coherence Value of 0.2496\n",
      "Num Topics = 38  has Coherence Value of 0.2639\n"
     ]
    }
   ],
   "source": [
    "for m, cv in zip(x, coherence_values):\n",
    "    print(\"Num Topics =\", m, \" has Coherence Value of\", round(cv, 4))"
   ]
  },
  {
   "cell_type": "code",
   "execution_count": 23,
   "metadata": {},
   "outputs": [
    {
     "name": "stdout",
     "output_type": "stream",
     "text": [
      "[(0,\n",
      "  '0.029*\"faire\" + 0.022*\"dire\" + 0.017*\"plus\" + 0.015*\"eter\" + 0.013*\"aussi\" '\n",
      "  '+ 0.012*\"donc\" + 0.012*\"bien\" + 0.012*\"meme\" + 0.011*\"tre\" + 0.010*\"oui\"'),\n",
      " (1,\n",
      "  '0.017*\"faire\" + 0.014*\"aller\" + 0.013*\"aussi\" + 0.013*\"dire\" + 0.013*\"plus\" '\n",
      "  '+ 0.011*\"tre\" + 0.010*\"donc\" + 0.010*\"politique\" + 0.009*\"bien\" + '\n",
      "  '0.008*\"peu\"'),\n",
      " (2,\n",
      "  '0.023*\"faire\" + 0.020*\"plus\" + 0.015*\"dire\" + 0.015*\"aller\" + '\n",
      "  '0.012*\"falloir\" + 0.011*\"aussi\" + 0.011*\"donc\" + 0.008*\"projet\" + '\n",
      "  '0.008*\"franc\" + 0.008*\"bien\"'),\n",
      " (3,\n",
      "  '0.021*\"faire\" + 0.018*\"dire\" + 0.011*\"suisse\" + 0.009*\"donc\" + 0.009*\"bien\" '\n",
      "  '+ 0.009*\"plus\" + 0.009*\"meme\" + 0.009*\"tout\" + 0.009*\"aller\" + '\n",
      "  '0.009*\"falloir\"'),\n",
      " (4,\n",
      "  '0.149*\"femme\" + 0.045*\"armee\" + 0.030*\"homme\" + 0.017*\"chef\" + '\n",
      "  '0.016*\"combat\" + 0.012*\"aussi\" + 0.010*\"professionnel\" + 0.009*\"an\" + '\n",
      "  '0.009*\"arme\" + 0.009*\"pourcent\"'),\n",
      " (5,\n",
      "  '0.000*\"faire\" + 0.000*\"dire\" + 0.000*\"plus\" + 0.000*\"aussi\" + 0.000*\"meme\" '\n",
      "  '+ 0.000*\"falloir\" + 0.000*\"donc\" + 0.000*\"peu\" + 0.000*\"aller\" + '\n",
      "  '0.000*\"bien\"'),\n",
      " (6,\n",
      "  '0.000*\"faire\" + 0.000*\"suisse\" + 0.000*\"aller\" + 0.000*\"aussi\" + '\n",
      "  '0.000*\"dire\" + 0.000*\"meme\" + 0.000*\"tout\" + 0.000*\"falloir\" + 0.000*\"plus\" '\n",
      "  '+ 0.000*\"alors\"'),\n",
      " (7,\n",
      "  '0.001*\"sep\" + 0.000*\"copinage\" + 0.000*\"rag\" + 0.000*\"complements\" + '\n",
      "  '0.000*\"avertisseur\" + 0.000*\"discredit\" + 0.000*\"enquete_parlementair\" + '\n",
      "  '0.000*\"honteuse\" + 0.000*\"hargneux\" + 0.000*\"enfantillage\"'),\n",
      " (8,\n",
      "  '0.046*\"media\" + 0.029*\"journal\" + 0.028*\"redevance\" + 0.028*\"information\" + '\n",
      "  '0.026*\"presse\" + 0.024*\"service_public\" + 0.021*\"journaliste\" + '\n",
      "  '0.014*\"public\" + 0.014*\"radio\" + 0.012*\"redaction\"'),\n",
      " (9,\n",
      "  '0.015*\"donc\" + 0.014*\"eter\" + 0.011*\"faire\" + 0.010*\"net\" + 0.010*\"plus\" + '\n",
      "  '0.009*\"tout\" + 0.009*\"dire\" + 0.009*\"aussi\" + 0.009*\"tre\" + 0.009*\"aller\"'),\n",
      " (10,\n",
      "  '0.027*\"faire\" + 0.027*\"oui\" + 0.023*\"aller\" + 0.017*\"alors\" + 0.016*\"donc\" '\n",
      "  '+ 0.015*\"peu\" + 0.014*\"bien\" + 0.012*\"plus\" + 0.011*\"petit\" + 0.011*\"non\"'),\n",
      " (11,\n",
      "  '0.018*\"faire\" + 0.016*\"plus\" + 0.012*\"dire\" + 0.012*\"ville\" + 0.012*\"donc\" '\n",
      "  '+ 0.011*\"aller\" + 0.009*\"canton\" + 0.008*\"initiative\" + 0.008*\"peu\" + '\n",
      "  '0.008*\"aussi\"'),\n",
      " (12,\n",
      "  '0.020*\"plus\" + 0.020*\"faire\" + 0.016*\"donc\" + 0.012*\"aussi\" + '\n",
      "  '0.012*\"falloir\" + 0.010*\"bien\" + 0.010*\"aller\" + 0.010*\"tout\" + '\n",
      "  '0.008*\"dire\" + 0.008*\"tre\"'),\n",
      " (13,\n",
      "  '0.026*\"faire\" + 0.019*\"dire\" + 0.017*\"donc\" + 0.015*\"plus\" + 0.013*\"aussi\" '\n",
      "  '+ 0.010*\"aller\" + 0.010*\"falloir\" + 0.009*\"tre\" + 0.009*\"meme\" + '\n",
      "  '0.009*\"bien\"')]\n"
     ]
    }
   ],
   "source": [
    "optimal_model = model_list[2]\n",
    "model_topics = optimal_model.show_topics(formatted=False)\n",
    "pprint(optimal_model.print_topics(num_words=10))"
   ]
  },
  {
   "cell_type": "code",
   "execution_count": null,
   "metadata": {},
   "outputs": [],
   "source": []
  }
 ],
 "metadata": {
  "kernelspec": {
   "display_name": "Python [conda env:ada] *",
   "language": "python",
   "name": "conda-env-ada-py"
  },
  "language_info": {
   "codemirror_mode": {
    "name": "ipython",
    "version": 3
   },
   "file_extension": ".py",
   "mimetype": "text/x-python",
   "name": "python",
   "nbconvert_exporter": "python",
   "pygments_lexer": "ipython3",
   "version": "3.7.4"
  }
 },
 "nbformat": 4,
 "nbformat_minor": 2
}
